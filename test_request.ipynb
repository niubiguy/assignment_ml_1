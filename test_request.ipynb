{
  "nbformat": 4,
  "nbformat_minor": 0,
  "metadata": {
    "colab": {
      "name": "test_request.ipynb",
      "provenance": [],
      "collapsed_sections": [],
      "toc_visible": true,
      "authorship_tag": "ABX9TyMbzQX0QqNj0ok73oicYIY+",
      "include_colab_link": true
    },
    "kernelspec": {
      "name": "python3",
      "display_name": "Python 3"
    }
  },
  "cells": [
    {
      "cell_type": "markdown",
      "metadata": {
        "id": "view-in-github",
        "colab_type": "text"
      },
      "source": [
        "<a href=\"https://colab.research.google.com/github/noobsterguy/assignment_ml_1/blob/master/test_request.ipynb\" target=\"_parent\"><img src=\"https://colab.research.google.com/assets/colab-badge.svg\" alt=\"Open In Colab\"/></a>"
      ]
    },
    {
      "cell_type": "markdown",
      "metadata": {
        "id": "fbUbGzZ7F3sY",
        "colab_type": "text"
      },
      "source": [
        "# Trabajo sobre Natural Language Processing\n",
        "\n",
        "---\n",
        "\n",
        "> Presentado por: Ivancovish Julian Huancco"
      ]
    },
    {
      "cell_type": "markdown",
      "metadata": {
        "id": "aKXnRdcPLY4W",
        "colab_type": "text"
      },
      "source": [
        "## Primera parte - Análisis de textos"
      ]
    },
    {
      "cell_type": "markdown",
      "metadata": {
        "id": "lJb-4it2GSS4",
        "colab_type": "text"
      },
      "source": [
        "Primero, importamos las librerias necesarias:"
      ]
    },
    {
      "cell_type": "code",
      "metadata": {
        "id": "k1OcUTctF0kp",
        "colab_type": "code",
        "colab": {
          "base_uri": "https://localhost:8080/",
          "height": 490
        },
        "outputId": "3696f6d6-35b4-48e9-c19b-b6f067c93eb8"
      },
      "source": [
        "import spacy\n",
        "import en_core_web_sm\n",
        "from spacy.lang.en import English\n",
        "!python -m spacy download en_core_web_sm\n",
        "\n",
        "import pandas as pd\n",
        "import numpy as np\n",
        "\n",
        "# Para el stemming\n",
        "import nltk\n",
        "nltk.download('punkt')\n",
        "nltk.download('vader_lexicon')\n",
        "\n",
        "from nltk.tokenize import sent_tokenize, word_tokenize\n",
        "from nltk.stem.porter import *\n",
        "#spacy no lo considera por que asumen que no lo considera util"
      ],
      "execution_count": 499,
      "outputs": [
        {
          "output_type": "stream",
          "text": [
            "Requirement already satisfied: en_core_web_sm==2.2.5 from https://github.com/explosion/spacy-models/releases/download/en_core_web_sm-2.2.5/en_core_web_sm-2.2.5.tar.gz#egg=en_core_web_sm==2.2.5 in /usr/local/lib/python3.6/dist-packages (2.2.5)\n",
            "Requirement already satisfied: spacy>=2.2.2 in /usr/local/lib/python3.6/dist-packages (from en_core_web_sm==2.2.5) (2.2.4)\n",
            "Requirement already satisfied: murmurhash<1.1.0,>=0.28.0 in /usr/local/lib/python3.6/dist-packages (from spacy>=2.2.2->en_core_web_sm==2.2.5) (1.0.2)\n",
            "Requirement already satisfied: blis<0.5.0,>=0.4.0 in /usr/local/lib/python3.6/dist-packages (from spacy>=2.2.2->en_core_web_sm==2.2.5) (0.4.1)\n",
            "Requirement already satisfied: numpy>=1.15.0 in /usr/local/lib/python3.6/dist-packages (from spacy>=2.2.2->en_core_web_sm==2.2.5) (1.18.5)\n",
            "Requirement already satisfied: srsly<1.1.0,>=1.0.2 in /usr/local/lib/python3.6/dist-packages (from spacy>=2.2.2->en_core_web_sm==2.2.5) (1.0.2)\n",
            "Requirement already satisfied: catalogue<1.1.0,>=0.0.7 in /usr/local/lib/python3.6/dist-packages (from spacy>=2.2.2->en_core_web_sm==2.2.5) (1.0.0)\n",
            "Requirement already satisfied: tqdm<5.0.0,>=4.38.0 in /usr/local/lib/python3.6/dist-packages (from spacy>=2.2.2->en_core_web_sm==2.2.5) (4.41.1)\n",
            "Requirement already satisfied: thinc==7.4.0 in /usr/local/lib/python3.6/dist-packages (from spacy>=2.2.2->en_core_web_sm==2.2.5) (7.4.0)\n",
            "Requirement already satisfied: setuptools in /usr/local/lib/python3.6/dist-packages (from spacy>=2.2.2->en_core_web_sm==2.2.5) (49.2.0)\n",
            "Requirement already satisfied: plac<1.2.0,>=0.9.6 in /usr/local/lib/python3.6/dist-packages (from spacy>=2.2.2->en_core_web_sm==2.2.5) (1.1.3)\n",
            "Requirement already satisfied: requests<3.0.0,>=2.13.0 in /usr/local/lib/python3.6/dist-packages (from spacy>=2.2.2->en_core_web_sm==2.2.5) (2.23.0)\n",
            "Requirement already satisfied: cymem<2.1.0,>=2.0.2 in /usr/local/lib/python3.6/dist-packages (from spacy>=2.2.2->en_core_web_sm==2.2.5) (2.0.3)\n",
            "Requirement already satisfied: preshed<3.1.0,>=3.0.2 in /usr/local/lib/python3.6/dist-packages (from spacy>=2.2.2->en_core_web_sm==2.2.5) (3.0.2)\n",
            "Requirement already satisfied: wasabi<1.1.0,>=0.4.0 in /usr/local/lib/python3.6/dist-packages (from spacy>=2.2.2->en_core_web_sm==2.2.5) (0.7.1)\n",
            "Requirement already satisfied: importlib-metadata>=0.20; python_version < \"3.8\" in /usr/local/lib/python3.6/dist-packages (from catalogue<1.1.0,>=0.0.7->spacy>=2.2.2->en_core_web_sm==2.2.5) (1.7.0)\n",
            "Requirement already satisfied: chardet<4,>=3.0.2 in /usr/local/lib/python3.6/dist-packages (from requests<3.0.0,>=2.13.0->spacy>=2.2.2->en_core_web_sm==2.2.5) (3.0.4)\n",
            "Requirement already satisfied: idna<3,>=2.5 in /usr/local/lib/python3.6/dist-packages (from requests<3.0.0,>=2.13.0->spacy>=2.2.2->en_core_web_sm==2.2.5) (2.10)\n",
            "Requirement already satisfied: urllib3!=1.25.0,!=1.25.1,<1.26,>=1.21.1 in /usr/local/lib/python3.6/dist-packages (from requests<3.0.0,>=2.13.0->spacy>=2.2.2->en_core_web_sm==2.2.5) (1.24.3)\n",
            "Requirement already satisfied: certifi>=2017.4.17 in /usr/local/lib/python3.6/dist-packages (from requests<3.0.0,>=2.13.0->spacy>=2.2.2->en_core_web_sm==2.2.5) (2020.6.20)\n",
            "Requirement already satisfied: zipp>=0.5 in /usr/local/lib/python3.6/dist-packages (from importlib-metadata>=0.20; python_version < \"3.8\"->catalogue<1.1.0,>=0.0.7->spacy>=2.2.2->en_core_web_sm==2.2.5) (3.1.0)\n",
            "\u001b[38;5;2m✔ Download and installation successful\u001b[0m\n",
            "You can now load the model via spacy.load('en_core_web_sm')\n",
            "[nltk_data] Downloading package punkt to /root/nltk_data...\n",
            "[nltk_data]   Package punkt is already up-to-date!\n",
            "[nltk_data] Downloading package vader_lexicon to /root/nltk_data...\n",
            "[nltk_data]   Package vader_lexicon is already up-to-date!\n"
          ],
          "name": "stdout"
        }
      ]
    },
    {
      "cell_type": "markdown",
      "metadata": {
        "id": "4C_55pMJKXsx",
        "colab_type": "text"
      },
      "source": [
        "#### Nota:"
      ]
    },
    {
      "cell_type": "markdown",
      "metadata": {
        "id": "Zy1mfWJELpw5",
        "colab_type": "text"
      },
      "source": [
        "> Con motivos de automatización general para futuros projectos, se uso una API bastante efectiva de GOODREADS."
      ]
    },
    {
      "cell_type": "code",
      "metadata": {
        "id": "Qa_stWR5h7lq",
        "colab_type": "code",
        "colab": {}
      },
      "source": [
        "!git clone https://github.com/pirmoradian/goodreads"
      ],
      "execution_count": null,
      "outputs": []
    },
    {
      "cell_type": "code",
      "metadata": {
        "id": "54tBfTjJkuB0",
        "colab_type": "code",
        "colab": {
          "base_uri": "https://localhost:8080/",
          "height": 50
        },
        "outputId": "fb0abd17-563a-4cad-a19d-bcbe11e21f05"
      },
      "source": [
        "!ls"
      ],
      "execution_count": 501,
      "outputs": [
        {
          "output_type": "stream",
          "text": [
            "apikey.py.enc  dist  goodreads\t\t MANIFEST.in  requirements.txt\ttests\n",
            "build\t       docs  goodreads.egg-info  README.rst   setup.py\n"
          ],
          "name": "stdout"
        }
      ]
    },
    {
      "cell_type": "code",
      "metadata": {
        "id": "rIMNV3sVk070",
        "colab_type": "code",
        "colab": {}
      },
      "source": [
        "cd goodreads/"
      ],
      "execution_count": null,
      "outputs": []
    },
    {
      "cell_type": "code",
      "metadata": {
        "id": "ZTc4UKkLk2x_",
        "colab_type": "code",
        "colab": {}
      },
      "source": [
        "!pip install -r requirements.txt"
      ],
      "execution_count": null,
      "outputs": []
    },
    {
      "cell_type": "code",
      "metadata": {
        "id": "CEuFb0kUk5Ek",
        "colab_type": "code",
        "colab": {}
      },
      "source": [
        "!python setup.py install"
      ],
      "execution_count": null,
      "outputs": []
    },
    {
      "cell_type": "code",
      "metadata": {
        "id": "n3WL_KY2k87e",
        "colab_type": "code",
        "colab": {}
      },
      "source": [
        "from goodreads import client\n",
        "gc = client.GoodreadsClient('jR8XaOotmd9aVPwHk0E7Fg', 'a1LEOVzkv1j1oitKzElbqgpdVXiijTxqcQ2nlr8')"
      ],
      "execution_count": 505,
      "outputs": []
    },
    {
      "cell_type": "markdown",
      "metadata": {
        "id": "uos2N65JM57t",
        "colab_type": "text"
      },
      "source": [
        "### Importando el texto que se requiere analisar "
      ]
    },
    {
      "cell_type": "markdown",
      "metadata": {
        "id": "lUw9ZesxNOJO",
        "colab_type": "text"
      },
      "source": [
        "El texto que se quiere analisisar es una pequeña descripción del Libro que tiene como código 5552 publicado en GOODREADS.\n",
        "https://www.goodreads.com/book/show/5552.QED"
      ]
    },
    {
      "cell_type": "markdown",
      "metadata": {
        "id": "8DzTSsZaOP85",
        "colab_type": "text"
      },
      "source": [
        "Verificamos con el siguiente script"
      ]
    },
    {
      "cell_type": "code",
      "metadata": {
        "id": "lT9DAeN_lA7V",
        "colab_type": "code",
        "colab": {
          "base_uri": "https://localhost:8080/",
          "height": 34
        },
        "outputId": "328f2930-95a5-438a-fa99-c569245bee6f"
      },
      "source": [
        "book = gc.book(5552)\n",
        "book"
      ],
      "execution_count": 506,
      "outputs": [
        {
          "output_type": "execute_result",
          "data": {
            "text/plain": [
              "QED: The Strange Theory of Light and Matter"
            ]
          },
          "metadata": {
            "tags": []
          },
          "execution_count": 506
        }
      ]
    },
    {
      "cell_type": "markdown",
      "metadata": {
        "id": "k9QUViuOOZxt",
        "colab_type": "text"
      },
      "source": [
        "Ahora, importamos el texto que se desea analisar"
      ]
    },
    {
      "cell_type": "code",
      "metadata": {
        "id": "NoCGQMcglnYo",
        "colab_type": "code",
        "colab": {
          "base_uri": "https://localhost:8080/",
          "height": 137
        },
        "outputId": "fc1ad934-e679-43bb-da13-d2c1dd9f738d"
      },
      "source": [
        "texto=book.description[:]\n",
        "texto"
      ],
      "execution_count": 507,
      "outputs": [
        {
          "output_type": "execute_result",
          "data": {
            "application/vnd.google.colaboratory.intrinsic+json": {
              "type": "string"
            },
            "text/plain": [
              "'Famous the world over for the creative brilliance of his insights into the physical world, Nobel Prize-winning physicist Richard Feynman also possessed an extraordinary talent for explaining difficult concepts to the nonscientist. QED--the edited version of four lectures on quantum electrodynamics that Feynman gave to the general public at UCLA as part of the Alix G. Mautner Memorial Lecture series--is perhaps the best example of his ability to communicate both the substance and the spirit of science to the layperson.<br /><br />The focus, as the title suggests, is quantum electrodynamics (QED), the part of the quantum theory of fields that describes the interactions of the quanta of the electromagnetic field-light, X rays, gamma rays--with matter and those of charged particles with one another. By extending the formalism developed by Dirac in 1933, which related quantum and classical descriptions of the motion of particles, Feynman revolutionized the quantum mechanical understanding of the nature of particles and waves. And, by incorporating his own readily visualizable formulation of quantum mechanics, Feynman created a diagrammatic version of QED that made calculations much simpler and also provided visual insights into the mechanisms of quantum electrodynamic processes.<br /><br />In this book, using everyday language, spatial concepts, visualizations, and his renowned \"Feynman diagrams\" instead of advanced mathematics, Feynman successfully provides a definitive introduction to QED for a lay readership without any distortion of the basic science. Characterized by Feynman\\'s famously original clarity and humor, this popular book on QED has not been equaled since its publication.'"
            ]
          },
          "metadata": {
            "tags": []
          },
          "execution_count": 507
        }
      ]
    },
    {
      "cell_type": "code",
      "metadata": {
        "id": "ZVEGbfT_mUfA",
        "colab_type": "code",
        "colab": {}
      },
      "source": [
        ""
      ],
      "execution_count": 507,
      "outputs": []
    },
    {
      "cell_type": "markdown",
      "metadata": {
        "id": "GvHXAf8GPMnS",
        "colab_type": "text"
      },
      "source": [
        "### TOKENIZACIÓN"
      ]
    },
    {
      "cell_type": "markdown",
      "metadata": {
        "id": "Boo0-iSlPRIO",
        "colab_type": "text"
      },
      "source": [
        "Ahora realizamos el proceso de tokenización"
      ]
    },
    {
      "cell_type": "code",
      "metadata": {
        "id": "XbEN3TOCPPIj",
        "colab_type": "code",
        "colab": {
          "base_uri": "https://localhost:8080/",
          "height": 1000
        },
        "outputId": "3abe1620-4dc3-446f-e75f-64c58485f92a"
      },
      "source": [
        "# Importar spaCy y cargar la biblioteca de idiomas\n",
        "#import spacy\n",
        "nlp = en_core_web_sm.load()\n",
        "\n",
        "# Crea un objeto Doc\n",
        "doc = nlp(texto)\n",
        "\n",
        "# Imprime cada token por separado\n",
        "for token in doc:\n",
        "    print(token.text, token.pos_, token.dep_)"
      ],
      "execution_count": 508,
      "outputs": [
        {
          "output_type": "stream",
          "text": [
            "Famous ADJ advcl\n",
            "the DET det\n",
            "world NOUN dobj\n",
            "over ADP advmod\n",
            "for ADP prep\n",
            "the DET det\n",
            "creative ADJ amod\n",
            "brilliance NOUN pobj\n",
            "of ADP prep\n",
            "his DET poss\n",
            "insights NOUN pobj\n",
            "into ADP prep\n",
            "the DET det\n",
            "physical ADJ amod\n",
            "world NOUN pobj\n",
            ", PUNCT punct\n",
            "Nobel PROPN compound\n",
            "Prize PROPN npadvmod\n",
            "- PUNCT punct\n",
            "winning VERB amod\n",
            "physicist NOUN compound\n",
            "Richard PROPN compound\n",
            "Feynman PROPN nsubj\n",
            "also ADV advmod\n",
            "possessed VERB ROOT\n",
            "an DET det\n",
            "extraordinary ADJ amod\n",
            "talent NOUN dobj\n",
            "for ADP prep\n",
            "explaining VERB pcomp\n",
            "difficult ADJ amod\n",
            "concepts NOUN dobj\n",
            "to ADP prep\n",
            "the DET det\n",
            "nonscientist NOUN pobj\n",
            ". PUNCT punct\n",
            "QED PROPN nsubj\n",
            "-- PUNCT punct\n",
            "the DET det\n",
            "edited ADJ amod\n",
            "version NOUN appos\n",
            "of ADP prep\n",
            "four NUM nummod\n",
            "lectures NOUN pobj\n",
            "on ADP prep\n",
            "quantum ADJ compound\n",
            "electrodynamics NOUN pobj\n",
            "that DET dobj\n",
            "Feynman PROPN nsubj\n",
            "gave VERB relcl\n",
            "to ADP dative\n",
            "the DET det\n",
            "general ADJ amod\n",
            "public NOUN pobj\n",
            "at ADP prep\n",
            "UCLA PROPN pobj\n",
            "as SCONJ prep\n",
            "part NOUN pobj\n",
            "of ADP prep\n",
            "the DET det\n",
            "Alix PROPN compound\n",
            "G. PROPN compound\n",
            "Mautner PROPN compound\n",
            "Memorial PROPN compound\n",
            "Lecture PROPN compound\n",
            "series NOUN pobj\n",
            "-- PUNCT punct\n",
            "is AUX ROOT\n",
            "perhaps ADV advmod\n",
            "the DET det\n",
            "best ADJ amod\n",
            "example NOUN attr\n",
            "of ADP prep\n",
            "his DET poss\n",
            "ability NOUN pobj\n",
            "to PART aux\n",
            "communicate VERB acl\n",
            "both CCONJ preconj\n",
            "the DET det\n",
            "substance NOUN dobj\n",
            "and CCONJ cc\n",
            "the DET det\n",
            "spirit NOUN conj\n",
            "of ADP prep\n",
            "science NOUN pobj\n",
            "to ADP prep\n",
            "the DET det\n",
            "layperson.<br ADJ dep\n",
            "/><br NUM intj\n",
            "/>The PUNCT punct\n",
            "focus NOUN pobj\n",
            ", PUNCT punct\n",
            "as SCONJ mark\n",
            "the DET det\n",
            "title NOUN nsubj\n",
            "suggests VERB advcl\n",
            ", PUNCT punct\n",
            "is AUX conj\n",
            "quantum PROPN compound\n",
            "electrodynamics PROPN attr\n",
            "( PUNCT punct\n",
            "QED PROPN appos\n",
            ") PUNCT punct\n",
            ", PUNCT punct\n",
            "the DET det\n",
            "part NOUN appos\n",
            "of ADP prep\n",
            "the DET det\n",
            "quantum NOUN compound\n",
            "theory NOUN pobj\n",
            "of ADP prep\n",
            "fields NOUN pobj\n",
            "that DET nsubj\n",
            "describes VERB relcl\n",
            "the DET det\n",
            "interactions NOUN dobj\n",
            "of ADP prep\n",
            "the DET det\n",
            "quanta PROPN pobj\n",
            "of ADP prep\n",
            "the DET det\n",
            "electromagnetic ADJ amod\n",
            "field NOUN compound\n",
            "- PUNCT punct\n",
            "light NOUN pobj\n",
            ", PUNCT punct\n",
            "X NOUN compound\n",
            "rays NOUN conj\n",
            ", PUNCT punct\n",
            "gamma NOUN compound\n",
            "rays NOUN conj\n",
            "-- PUNCT punct\n",
            "with ADP prep\n",
            "matter NOUN pobj\n",
            "and CCONJ cc\n",
            "those DET conj\n",
            "of ADP prep\n",
            "charged VERB amod\n",
            "particles NOUN pobj\n",
            "with ADP prep\n",
            "one NUM pobj\n",
            "another DET det\n",
            ". PUNCT punct\n",
            "By ADP prep\n",
            "extending VERB pcomp\n",
            "the DET det\n",
            "formalism NOUN dobj\n",
            "developed VERB acl\n",
            "by ADP agent\n",
            "Dirac PROPN pobj\n",
            "in ADP prep\n",
            "1933 NUM pobj\n",
            ", PUNCT punct\n",
            "which DET nsubj\n",
            "related VERB relcl\n",
            "quantum NOUN amod\n",
            "and CCONJ cc\n",
            "classical ADJ conj\n",
            "descriptions NOUN dobj\n",
            "of ADP prep\n",
            "the DET det\n",
            "motion NOUN pobj\n",
            "of ADP prep\n",
            "particles NOUN pobj\n",
            ", PUNCT punct\n",
            "Feynman PROPN nsubj\n",
            "revolutionized VERB ROOT\n",
            "the DET det\n",
            "quantum ADJ amod\n",
            "mechanical ADJ amod\n",
            "understanding NOUN dobj\n",
            "of ADP prep\n",
            "the DET det\n",
            "nature NOUN pobj\n",
            "of ADP prep\n",
            "particles NOUN pobj\n",
            "and CCONJ cc\n",
            "waves NOUN conj\n",
            ". PUNCT punct\n",
            "And CCONJ cc\n",
            ", PUNCT punct\n",
            "by ADP prep\n",
            "incorporating VERB pcomp\n",
            "his DET poss\n",
            "own ADJ amod\n",
            "readily ADV advmod\n",
            "visualizable ADJ amod\n",
            "formulation NOUN dobj\n",
            "of ADP prep\n",
            "quantum ADJ compound\n",
            "mechanics NOUN pobj\n",
            ", PUNCT punct\n",
            "Feynman PROPN nsubj\n",
            "created VERB ROOT\n",
            "a DET det\n",
            "diagrammatic ADJ amod\n",
            "version NOUN dobj\n",
            "of ADP prep\n",
            "QED PROPN pobj\n",
            "that DET nsubj\n",
            "made VERB relcl\n",
            "calculations NOUN nsubj\n",
            "much ADV advmod\n",
            "simpler ADJ ccomp\n",
            "and CCONJ cc\n",
            "also ADV advmod\n",
            "provided VERB conj\n",
            "visual ADJ amod\n",
            "insights NOUN dobj\n",
            "into ADP prep\n",
            "the DET det\n",
            "mechanisms NOUN pobj\n",
            "of ADP prep\n",
            "quantum ADJ nmod\n",
            "electrodynamic ADJ amod\n",
            "processes.<br NUM punct\n",
            "/><br NUM pobj\n",
            "/>In PUNCT punct\n",
            "this DET det\n",
            "book NOUN dep\n",
            ", PUNCT punct\n",
            "using VERB acl\n",
            "everyday ADJ amod\n",
            "language NOUN dobj\n",
            ", PUNCT punct\n",
            "spatial ADJ amod\n",
            "concepts NOUN appos\n",
            ", PUNCT punct\n",
            "visualizations NOUN conj\n",
            ", PUNCT punct\n",
            "and CCONJ cc\n",
            "his DET poss\n",
            "renowned ADJ amod\n",
            "\" PUNCT punct\n",
            "Feynman PROPN compound\n",
            "diagrams NOUN conj\n",
            "\" PUNCT punct\n",
            "instead ADV advmod\n",
            "of ADP cc\n",
            "advanced ADJ amod\n",
            "mathematics NOUN pobj\n",
            ", PUNCT punct\n",
            "Feynman PROPN nsubj\n",
            "successfully ADV advmod\n",
            "provides VERB ROOT\n",
            "a DET det\n",
            "definitive ADJ amod\n",
            "introduction NOUN dobj\n",
            "to ADP prep\n",
            "QED PROPN pobj\n",
            "for ADP prep\n",
            "a DET det\n",
            "lay ADJ amod\n",
            "readership NOUN pobj\n",
            "without ADP prep\n",
            "any DET det\n",
            "distortion NOUN pobj\n",
            "of ADP prep\n",
            "the DET det\n",
            "basic ADJ amod\n",
            "science NOUN pobj\n",
            ". PUNCT punct\n",
            "Characterized VERB advcl\n",
            "by ADP agent\n",
            "Feynman PROPN poss\n",
            "'s PART case\n",
            "famously ADV advmod\n",
            "original ADJ amod\n",
            "clarity NOUN pobj\n",
            "and CCONJ cc\n",
            "humor NOUN conj\n",
            ", PUNCT punct\n",
            "this DET det\n",
            "popular ADJ amod\n",
            "book NOUN nsubjpass\n",
            "on ADP prep\n",
            "QED PROPN pobj\n",
            "has AUX aux\n",
            "not PART neg\n",
            "been AUX auxpass\n",
            "equaled VERB ROOT\n",
            "since SCONJ prep\n",
            "its DET poss\n",
            "publication NOUN pobj\n",
            ". PUNCT punct\n"
          ],
          "name": "stdout"
        }
      ]
    },
    {
      "cell_type": "markdown",
      "metadata": {
        "id": "KV0s7n_BRJhs",
        "colab_type": "text"
      },
      "source": [
        "Creaando un objeto Doc y explora tokens."
      ]
    },
    {
      "cell_type": "code",
      "metadata": {
        "id": "kZY3UqNlPvWL",
        "colab_type": "code",
        "colab": {
          "base_uri": "https://localhost:8080/",
          "height": 54
        },
        "outputId": "2a902bff-b278-4c92-b9c3-5ff6b5583394"
      },
      "source": [
        "# Create a Doc object and explore tokens y contando los token\n",
        "doc = nlp(texto)\n",
        "\n",
        "for token in doc:\n",
        "    print(token.text, end=' | ')"
      ],
      "execution_count": 509,
      "outputs": [
        {
          "output_type": "stream",
          "text": [
            "Famous | the | world | over | for | the | creative | brilliance | of | his | insights | into | the | physical | world | , | Nobel | Prize | - | winning | physicist | Richard | Feynman | also | possessed | an | extraordinary | talent | for | explaining | difficult | concepts | to | the | nonscientist | . | QED | -- | the | edited | version | of | four | lectures | on | quantum | electrodynamics | that | Feynman | gave | to | the | general | public | at | UCLA | as | part | of | the | Alix | G. | Mautner | Memorial | Lecture | series | -- | is | perhaps | the | best | example | of | his | ability | to | communicate | both | the | substance | and | the | spirit | of | science | to | the | layperson.<br | /><br | />The | focus | , | as | the | title | suggests | , | is | quantum | electrodynamics | ( | QED | ) | , | the | part | of | the | quantum | theory | of | fields | that | describes | the | interactions | of | the | quanta | of | the | electromagnetic | field | - | light | , | X | rays | , | gamma | rays | -- | with | matter | and | those | of | charged | particles | with | one | another | . | By | extending | the | formalism | developed | by | Dirac | in | 1933 | , | which | related | quantum | and | classical | descriptions | of | the | motion | of | particles | , | Feynman | revolutionized | the | quantum | mechanical | understanding | of | the | nature | of | particles | and | waves | . | And | , | by | incorporating | his | own | readily | visualizable | formulation | of | quantum | mechanics | , | Feynman | created | a | diagrammatic | version | of | QED | that | made | calculations | much | simpler | and | also | provided | visual | insights | into | the | mechanisms | of | quantum | electrodynamic | processes.<br | /><br | />In | this | book | , | using | everyday | language | , | spatial | concepts | , | visualizations | , | and | his | renowned | \" | Feynman | diagrams | \" | instead | of | advanced | mathematics | , | Feynman | successfully | provides | a | definitive | introduction | to | QED | for | a | lay | readership | without | any | distortion | of | the | basic | science | . | Characterized | by | Feynman | 's | famously | original | clarity | and | humor | , | this | popular | book | on | QED | has | not | been | equaled | since | its | publication | . | "
          ],
          "name": "stdout"
        }
      ]
    },
    {
      "cell_type": "markdown",
      "metadata": {
        "id": "rGprlb32XqHr",
        "colab_type": "text"
      },
      "source": [
        "Contando numero de tokens y oraciones separadas"
      ]
    },
    {
      "cell_type": "code",
      "metadata": {
        "id": "C0JDMqGtXNwC",
        "colab_type": "code",
        "colab": {
          "base_uri": "https://localhost:8080/",
          "height": 50
        },
        "outputId": "3fac32c6-7627-41d8-9884-ad5241bc8080"
      },
      "source": [
        "sents = [sent for sent in doc.sents]\n",
        "print('el número de tokens es de:',len(doc))\n",
        "print('el número de oraciones sepradas es de:',len(sents))"
      ],
      "execution_count": 510,
      "outputs": [
        {
          "output_type": "stream",
          "text": [
            "el número de tokens es de: 285\n",
            "el número de oraciones sepradas es de: 6\n"
          ],
          "name": "stdout"
        }
      ]
    },
    {
      "cell_type": "markdown",
      "metadata": {
        "id": "rZ8KBtdpY0pS",
        "colab_type": "text"
      },
      "source": [
        "Entidades con nombre"
      ]
    },
    {
      "cell_type": "code",
      "metadata": {
        "id": "WUj_kgBcXUNK",
        "colab_type": "code",
        "colab": {
          "base_uri": "https://localhost:8080/",
          "height": 252
        },
        "outputId": "35f6dee2-8a69-44e9-d17d-65b2a3193a59"
      },
      "source": [
        "doc.ents"
      ],
      "execution_count": 511,
      "outputs": [
        {
          "output_type": "execute_result",
          "data": {
            "text/plain": [
              "(Nobel Prize,\n",
              " Richard Feynman,\n",
              " QED,\n",
              " four,\n",
              " Feynman,\n",
              " UCLA,\n",
              " Dirac,\n",
              " 1933,\n",
              " Feynman,\n",
              " Feynman,\n",
              " QED,\n",
              " Feynman,\n",
              " Feynman,\n",
              " QED)"
            ]
          },
          "metadata": {
            "tags": []
          },
          "execution_count": 511
        }
      ]
    },
    {
      "cell_type": "markdown",
      "metadata": {
        "id": "AMKGIz_OY_iR",
        "colab_type": "text"
      },
      "source": [
        "A pesar de ser un texto formal, tambien es posible encontrar entidades con nombre tales como abreviaciones, fecha y nombres propios. Una visualización de sus caracteristicas seria tal como se muestra a continuación."
      ]
    },
    {
      "cell_type": "code",
      "metadata": {
        "id": "BSHqUaZCY5oZ",
        "colab_type": "code",
        "colab": {
          "base_uri": "https://localhost:8080/",
          "height": 252
        },
        "outputId": "b6cd9ec9-1cca-4061-9ed0-196097fe3d48"
      },
      "source": [
        "for ent in doc.ents:\n",
        "    print(ent.text+' - '+ent.label_+' - '+str(spacy.explain(ent.label_)))"
      ],
      "execution_count": 512,
      "outputs": [
        {
          "output_type": "stream",
          "text": [
            "Nobel Prize - WORK_OF_ART - Titles of books, songs, etc.\n",
            "Richard Feynman - PERSON - People, including fictional\n",
            "QED - ORG - Companies, agencies, institutions, etc.\n",
            "four - CARDINAL - Numerals that do not fall under another type\n",
            "Feynman - NORP - Nationalities or religious or political groups\n",
            "UCLA - ORG - Companies, agencies, institutions, etc.\n",
            "Dirac - PERSON - People, including fictional\n",
            "1933 - DATE - Absolute or relative dates or periods\n",
            "Feynman - ORG - Companies, agencies, institutions, etc.\n",
            "Feynman - ORG - Companies, agencies, institutions, etc.\n",
            "QED - ORG - Companies, agencies, institutions, etc.\n",
            "Feynman - NORP - Nationalities or religious or political groups\n",
            "Feynman - ORG - Companies, agencies, institutions, etc.\n",
            "QED - ORG - Companies, agencies, institutions, etc.\n"
          ],
          "name": "stdout"
        }
      ]
    },
    {
      "cell_type": "markdown",
      "metadata": {
        "id": "sff6F3BpZnvx",
        "colab_type": "text"
      },
      "source": [
        "Probablemente falte implementar una caracteristica importante en cuanto a los nombres propios que pueden volverse objetos o adjetivos, tales como \"Feynman Diagrams\" que deberia ser lo correcto."
      ]
    },
    {
      "cell_type": "markdown",
      "metadata": {
        "id": "iq9BVPSnarOr",
        "colab_type": "text"
      },
      "source": [
        "### STEMMING"
      ]
    },
    {
      "cell_type": "code",
      "metadata": {
        "id": "NMg_NUomayC0",
        "colab_type": "code",
        "colab": {}
      },
      "source": [
        "#Necesitaremos de la siguiente clase:\n",
        "p_stemmer = PorterStemmer()"
      ],
      "execution_count": 513,
      "outputs": []
    },
    {
      "cell_type": "markdown",
      "metadata": {
        "id": "s9Qbvjpdgg9C",
        "colab_type": "text"
      },
      "source": [
        "Para facilitar el analisis de stemming en una sentencia creamos una funcion."
      ]
    },
    {
      "cell_type": "code",
      "metadata": {
        "id": "oOBCs92cgtre",
        "colab_type": "code",
        "colab": {
          "base_uri": "https://localhost:8080/",
          "height": 87
        },
        "outputId": "f1b347be-e1e0-410a-bffd-3027b57a4ad4"
      },
      "source": [
        "def stemming(texto):\n",
        "    token_words=word_tokenize(texto)\n",
        "    token_words\n",
        "    stem_texto=[]\n",
        "    for word in token_words:\n",
        "        stem_texto.append(p_stemmer.stem(word))\n",
        "        stem_texto.append(\" \")\n",
        "    return \"\".join(stem_texto)\n",
        "\n",
        "print(texto)\n",
        "print(\"-Sentencias STEMMING\")\n",
        "x=stemming(texto)\n",
        "print(x)"
      ],
      "execution_count": 514,
      "outputs": [
        {
          "output_type": "stream",
          "text": [
            "Famous the world over for the creative brilliance of his insights into the physical world, Nobel Prize-winning physicist Richard Feynman also possessed an extraordinary talent for explaining difficult concepts to the nonscientist. QED--the edited version of four lectures on quantum electrodynamics that Feynman gave to the general public at UCLA as part of the Alix G. Mautner Memorial Lecture series--is perhaps the best example of his ability to communicate both the substance and the spirit of science to the layperson.<br /><br />The focus, as the title suggests, is quantum electrodynamics (QED), the part of the quantum theory of fields that describes the interactions of the quanta of the electromagnetic field-light, X rays, gamma rays--with matter and those of charged particles with one another. By extending the formalism developed by Dirac in 1933, which related quantum and classical descriptions of the motion of particles, Feynman revolutionized the quantum mechanical understanding of the nature of particles and waves. And, by incorporating his own readily visualizable formulation of quantum mechanics, Feynman created a diagrammatic version of QED that made calculations much simpler and also provided visual insights into the mechanisms of quantum electrodynamic processes.<br /><br />In this book, using everyday language, spatial concepts, visualizations, and his renowned \"Feynman diagrams\" instead of advanced mathematics, Feynman successfully provides a definitive introduction to QED for a lay readership without any distortion of the basic science. Characterized by Feynman's famously original clarity and humor, this popular book on QED has not been equaled since its publication.\n",
            "-Sentencias STEMMING\n",
            "famou the world over for the creativ brillianc of hi insight into the physic world , nobel prize-win physicist richard feynman also possess an extraordinari talent for explain difficult concept to the nonscientist . qed -- the edit version of four lectur on quantum electrodynam that feynman gave to the gener public at ucla as part of the alix G. mautner memori lectur seri -- is perhap the best exampl of hi abil to commun both the substanc and the spirit of scienc to the layperson. < br / > < br / > the focu , as the titl suggest , is quantum electrodynam ( qed ) , the part of the quantum theori of field that describ the interact of the quanta of the electromagnet field-light , X ray , gamma ray -- with matter and those of charg particl with one anoth . By extend the formal develop by dirac in 1933 , which relat quantum and classic descript of the motion of particl , feynman revolution the quantum mechan understand of the natur of particl and wave . and , by incorpor hi own readili visualiz formul of quantum mechan , feynman creat a diagrammat version of qed that made calcul much simpler and also provid visual insight into the mechan of quantum electrodynam processes. < br / > < br / > In thi book , use everyday languag , spatial concept , visual , and hi renown `` feynman diagram '' instead of advanc mathemat , feynman success provid a definit introduct to qed for a lay readership without ani distort of the basic scienc . character by feynman 's famous origin clariti and humor , thi popular book on qed ha not been equal sinc it public . \n"
          ],
          "name": "stdout"
        }
      ]
    },
    {
      "cell_type": "markdown",
      "metadata": {
        "id": "xnlf3vN6l68O",
        "colab_type": "text"
      },
      "source": [
        "Como se puede ver efectivamente en algunas palabras falla el stimming"
      ]
    },
    {
      "cell_type": "markdown",
      "metadata": {
        "id": "DfIOa1o0meJw",
        "colab_type": "text"
      },
      "source": [
        "### LEMMATIZACION"
      ]
    },
    {
      "cell_type": "code",
      "metadata": {
        "id": "69MUYPFpmgVr",
        "colab_type": "code",
        "colab": {
          "base_uri": "https://localhost:8080/",
          "height": 1000
        },
        "outputId": "ffdbf0ff-6b71-4135-f1c1-6c9f32da17c4"
      },
      "source": [
        "doc1 = nlp(texto)\n",
        "\n",
        "for token in doc1:\n",
        "    print(token.text, '\\t', token.pos_, '\\t', token.lemma_)"
      ],
      "execution_count": 515,
      "outputs": [
        {
          "output_type": "stream",
          "text": [
            "Famous \t ADJ \t famous\n",
            "the \t DET \t the\n",
            "world \t NOUN \t world\n",
            "over \t ADP \t over\n",
            "for \t ADP \t for\n",
            "the \t DET \t the\n",
            "creative \t ADJ \t creative\n",
            "brilliance \t NOUN \t brilliance\n",
            "of \t ADP \t of\n",
            "his \t DET \t -PRON-\n",
            "insights \t NOUN \t insight\n",
            "into \t ADP \t into\n",
            "the \t DET \t the\n",
            "physical \t ADJ \t physical\n",
            "world \t NOUN \t world\n",
            ", \t PUNCT \t ,\n",
            "Nobel \t PROPN \t Nobel\n",
            "Prize \t PROPN \t Prize\n",
            "- \t PUNCT \t -\n",
            "winning \t VERB \t win\n",
            "physicist \t NOUN \t physicist\n",
            "Richard \t PROPN \t Richard\n",
            "Feynman \t PROPN \t Feynman\n",
            "also \t ADV \t also\n",
            "possessed \t VERB \t possess\n",
            "an \t DET \t an\n",
            "extraordinary \t ADJ \t extraordinary\n",
            "talent \t NOUN \t talent\n",
            "for \t ADP \t for\n",
            "explaining \t VERB \t explain\n",
            "difficult \t ADJ \t difficult\n",
            "concepts \t NOUN \t concept\n",
            "to \t ADP \t to\n",
            "the \t DET \t the\n",
            "nonscientist \t NOUN \t nonscientist\n",
            ". \t PUNCT \t .\n",
            "QED \t PROPN \t QED\n",
            "-- \t PUNCT \t --\n",
            "the \t DET \t the\n",
            "edited \t ADJ \t edited\n",
            "version \t NOUN \t version\n",
            "of \t ADP \t of\n",
            "four \t NUM \t four\n",
            "lectures \t NOUN \t lecture\n",
            "on \t ADP \t on\n",
            "quantum \t ADJ \t quantum\n",
            "electrodynamics \t NOUN \t electrodynamic\n",
            "that \t DET \t that\n",
            "Feynman \t PROPN \t Feynman\n",
            "gave \t VERB \t give\n",
            "to \t ADP \t to\n",
            "the \t DET \t the\n",
            "general \t ADJ \t general\n",
            "public \t NOUN \t public\n",
            "at \t ADP \t at\n",
            "UCLA \t PROPN \t UCLA\n",
            "as \t SCONJ \t as\n",
            "part \t NOUN \t part\n",
            "of \t ADP \t of\n",
            "the \t DET \t the\n",
            "Alix \t PROPN \t Alix\n",
            "G. \t PROPN \t G.\n",
            "Mautner \t PROPN \t Mautner\n",
            "Memorial \t PROPN \t Memorial\n",
            "Lecture \t PROPN \t Lecture\n",
            "series \t NOUN \t series\n",
            "-- \t PUNCT \t --\n",
            "is \t AUX \t be\n",
            "perhaps \t ADV \t perhaps\n",
            "the \t DET \t the\n",
            "best \t ADJ \t good\n",
            "example \t NOUN \t example\n",
            "of \t ADP \t of\n",
            "his \t DET \t -PRON-\n",
            "ability \t NOUN \t ability\n",
            "to \t PART \t to\n",
            "communicate \t VERB \t communicate\n",
            "both \t CCONJ \t both\n",
            "the \t DET \t the\n",
            "substance \t NOUN \t substance\n",
            "and \t CCONJ \t and\n",
            "the \t DET \t the\n",
            "spirit \t NOUN \t spirit\n",
            "of \t ADP \t of\n",
            "science \t NOUN \t science\n",
            "to \t ADP \t to\n",
            "the \t DET \t the\n",
            "layperson.<br \t ADJ \t layperson.<br\n",
            "/><br \t NUM \t /><br\n",
            "/>The \t PUNCT \t />The\n",
            "focus \t NOUN \t focus\n",
            ", \t PUNCT \t ,\n",
            "as \t SCONJ \t as\n",
            "the \t DET \t the\n",
            "title \t NOUN \t title\n",
            "suggests \t VERB \t suggest\n",
            ", \t PUNCT \t ,\n",
            "is \t AUX \t be\n",
            "quantum \t PROPN \t quantum\n",
            "electrodynamics \t PROPN \t electrodynamics\n",
            "( \t PUNCT \t (\n",
            "QED \t PROPN \t QED\n",
            ") \t PUNCT \t )\n",
            ", \t PUNCT \t ,\n",
            "the \t DET \t the\n",
            "part \t NOUN \t part\n",
            "of \t ADP \t of\n",
            "the \t DET \t the\n",
            "quantum \t NOUN \t quantum\n",
            "theory \t NOUN \t theory\n",
            "of \t ADP \t of\n",
            "fields \t NOUN \t field\n",
            "that \t DET \t that\n",
            "describes \t VERB \t describe\n",
            "the \t DET \t the\n",
            "interactions \t NOUN \t interaction\n",
            "of \t ADP \t of\n",
            "the \t DET \t the\n",
            "quanta \t PROPN \t quanta\n",
            "of \t ADP \t of\n",
            "the \t DET \t the\n",
            "electromagnetic \t ADJ \t electromagnetic\n",
            "field \t NOUN \t field\n",
            "- \t PUNCT \t -\n",
            "light \t NOUN \t light\n",
            ", \t PUNCT \t ,\n",
            "X \t NOUN \t x\n",
            "rays \t NOUN \t ray\n",
            ", \t PUNCT \t ,\n",
            "gamma \t NOUN \t gamma\n",
            "rays \t NOUN \t ray\n",
            "-- \t PUNCT \t --\n",
            "with \t ADP \t with\n",
            "matter \t NOUN \t matter\n",
            "and \t CCONJ \t and\n",
            "those \t DET \t those\n",
            "of \t ADP \t of\n",
            "charged \t VERB \t charge\n",
            "particles \t NOUN \t particle\n",
            "with \t ADP \t with\n",
            "one \t NUM \t one\n",
            "another \t DET \t another\n",
            ". \t PUNCT \t .\n",
            "By \t ADP \t by\n",
            "extending \t VERB \t extend\n",
            "the \t DET \t the\n",
            "formalism \t NOUN \t formalism\n",
            "developed \t VERB \t develop\n",
            "by \t ADP \t by\n",
            "Dirac \t PROPN \t Dirac\n",
            "in \t ADP \t in\n",
            "1933 \t NUM \t 1933\n",
            ", \t PUNCT \t ,\n",
            "which \t DET \t which\n",
            "related \t VERB \t relate\n",
            "quantum \t NOUN \t quantum\n",
            "and \t CCONJ \t and\n",
            "classical \t ADJ \t classical\n",
            "descriptions \t NOUN \t description\n",
            "of \t ADP \t of\n",
            "the \t DET \t the\n",
            "motion \t NOUN \t motion\n",
            "of \t ADP \t of\n",
            "particles \t NOUN \t particle\n",
            ", \t PUNCT \t ,\n",
            "Feynman \t PROPN \t Feynman\n",
            "revolutionized \t VERB \t revolutionize\n",
            "the \t DET \t the\n",
            "quantum \t ADJ \t quantum\n",
            "mechanical \t ADJ \t mechanical\n",
            "understanding \t NOUN \t understanding\n",
            "of \t ADP \t of\n",
            "the \t DET \t the\n",
            "nature \t NOUN \t nature\n",
            "of \t ADP \t of\n",
            "particles \t NOUN \t particle\n",
            "and \t CCONJ \t and\n",
            "waves \t NOUN \t wave\n",
            ". \t PUNCT \t .\n",
            "And \t CCONJ \t and\n",
            ", \t PUNCT \t ,\n",
            "by \t ADP \t by\n",
            "incorporating \t VERB \t incorporate\n",
            "his \t DET \t -PRON-\n",
            "own \t ADJ \t own\n",
            "readily \t ADV \t readily\n",
            "visualizable \t ADJ \t visualizable\n",
            "formulation \t NOUN \t formulation\n",
            "of \t ADP \t of\n",
            "quantum \t ADJ \t quantum\n",
            "mechanics \t NOUN \t mechanic\n",
            ", \t PUNCT \t ,\n",
            "Feynman \t PROPN \t Feynman\n",
            "created \t VERB \t create\n",
            "a \t DET \t a\n",
            "diagrammatic \t ADJ \t diagrammatic\n",
            "version \t NOUN \t version\n",
            "of \t ADP \t of\n",
            "QED \t PROPN \t QED\n",
            "that \t DET \t that\n",
            "made \t VERB \t make\n",
            "calculations \t NOUN \t calculation\n",
            "much \t ADV \t much\n",
            "simpler \t ADJ \t simple\n",
            "and \t CCONJ \t and\n",
            "also \t ADV \t also\n",
            "provided \t VERB \t provide\n",
            "visual \t ADJ \t visual\n",
            "insights \t NOUN \t insight\n",
            "into \t ADP \t into\n",
            "the \t DET \t the\n",
            "mechanisms \t NOUN \t mechanism\n",
            "of \t ADP \t of\n",
            "quantum \t ADJ \t quantum\n",
            "electrodynamic \t ADJ \t electrodynamic\n",
            "processes.<br \t NUM \t processes.<br\n",
            "/><br \t NUM \t /><br\n",
            "/>In \t PUNCT \t />In\n",
            "this \t DET \t this\n",
            "book \t NOUN \t book\n",
            ", \t PUNCT \t ,\n",
            "using \t VERB \t use\n",
            "everyday \t ADJ \t everyday\n",
            "language \t NOUN \t language\n",
            ", \t PUNCT \t ,\n",
            "spatial \t ADJ \t spatial\n",
            "concepts \t NOUN \t concept\n",
            ", \t PUNCT \t ,\n",
            "visualizations \t NOUN \t visualization\n",
            ", \t PUNCT \t ,\n",
            "and \t CCONJ \t and\n",
            "his \t DET \t -PRON-\n",
            "renowned \t ADJ \t renowned\n",
            "\" \t PUNCT \t \"\n",
            "Feynman \t PROPN \t Feynman\n",
            "diagrams \t NOUN \t diagram\n",
            "\" \t PUNCT \t \"\n",
            "instead \t ADV \t instead\n",
            "of \t ADP \t of\n",
            "advanced \t ADJ \t advanced\n",
            "mathematics \t NOUN \t mathematic\n",
            ", \t PUNCT \t ,\n",
            "Feynman \t PROPN \t Feynman\n",
            "successfully \t ADV \t successfully\n",
            "provides \t VERB \t provide\n",
            "a \t DET \t a\n",
            "definitive \t ADJ \t definitive\n",
            "introduction \t NOUN \t introduction\n",
            "to \t ADP \t to\n",
            "QED \t PROPN \t QED\n",
            "for \t ADP \t for\n",
            "a \t DET \t a\n",
            "lay \t ADJ \t lay\n",
            "readership \t NOUN \t readership\n",
            "without \t ADP \t without\n",
            "any \t DET \t any\n",
            "distortion \t NOUN \t distortion\n",
            "of \t ADP \t of\n",
            "the \t DET \t the\n",
            "basic \t ADJ \t basic\n",
            "science \t NOUN \t science\n",
            ". \t PUNCT \t .\n",
            "Characterized \t VERB \t characterize\n",
            "by \t ADP \t by\n",
            "Feynman \t PROPN \t Feynman\n",
            "'s \t PART \t 's\n",
            "famously \t ADV \t famously\n",
            "original \t ADJ \t original\n",
            "clarity \t NOUN \t clarity\n",
            "and \t CCONJ \t and\n",
            "humor \t NOUN \t humor\n",
            ", \t PUNCT \t ,\n",
            "this \t DET \t this\n",
            "popular \t ADJ \t popular\n",
            "book \t NOUN \t book\n",
            "on \t ADP \t on\n",
            "QED \t PROPN \t QED\n",
            "has \t AUX \t have\n",
            "not \t PART \t not\n",
            "been \t AUX \t be\n",
            "equaled \t VERB \t equal\n",
            "since \t SCONJ \t since\n",
            "its \t DET \t -PRON-\n",
            "publication \t NOUN \t publication\n",
            ". \t PUNCT \t .\n"
          ],
          "name": "stdout"
        }
      ]
    },
    {
      "cell_type": "markdown",
      "metadata": {
        "id": "9Y9pYtxQn0Kn",
        "colab_type": "text"
      },
      "source": [
        "## Segunda Parte - Analisis de sentimientos"
      ]
    },
    {
      "cell_type": "markdown",
      "metadata": {
        "id": "RVv2JFaeptf0",
        "colab_type": "text"
      },
      "source": [
        "Para esta sección vamos a analisar 10 reviews del libro."
      ]
    },
    {
      "cell_type": "code",
      "metadata": {
        "id": "Jp9F_21fnzdW",
        "colab_type": "code",
        "colab": {
          "base_uri": "https://localhost:8080/",
          "height": 34
        },
        "outputId": "42051322-8f3c-49f6-84d3-fb97783a1ca5"
      },
      "source": [
        "# una pequeña verificaci{on de cuantos reviews hay\n",
        "n_reviews=book.text_reviews_count\n",
        "print(\"El número de reviews es:\",n_reviews)"
      ],
      "execution_count": 516,
      "outputs": [
        {
          "output_type": "stream",
          "text": [
            "El número de reviews es: 338\n"
          ],
          "name": "stdout"
        }
      ]
    },
    {
      "cell_type": "markdown",
      "metadata": {
        "id": "5nXwuTTMXurV",
        "colab_type": "text"
      },
      "source": [
        "Más información"
      ]
    },
    {
      "cell_type": "code",
      "metadata": {
        "id": "Yxun8dBGXs__",
        "colab_type": "code",
        "colab": {
          "base_uri": "https://localhost:8080/",
          "height": 185
        },
        "outputId": "6ae6e608-55d0-438d-eeba-4fadc27442b4"
      },
      "source": [
        "gc.book_review_stats([book.isbn])"
      ],
      "execution_count": 517,
      "outputs": [
        {
          "output_type": "execute_result",
          "data": {
            "text/plain": [
              "[{'average_rating': '4.24',\n",
              "  'id': 5552,\n",
              "  'isbn': '0691024170',\n",
              "  'isbn13': '9780691024172',\n",
              "  'ratings_count': 13971,\n",
              "  'reviews_count': 37059,\n",
              "  'text_reviews_count': 338,\n",
              "  'work_ratings_count': 15585,\n",
              "  'work_reviews_count': 40927,\n",
              "  'work_text_reviews_count': 497}]"
            ]
          },
          "metadata": {
            "tags": []
          },
          "execution_count": 517
        }
      ]
    },
    {
      "cell_type": "markdown",
      "metadata": {
        "id": "RhXUTWgrXySF",
        "colab_type": "text"
      },
      "source": [
        "Probamos para una review"
      ]
    },
    {
      "cell_type": "code",
      "metadata": {
        "id": "LKsVkwnnqdVi",
        "colab_type": "code",
        "colab": {
          "base_uri": "https://localhost:8080/",
          "height": 34
        },
        "outputId": "3058e818-8923-49cb-9c20-896d88ce74a3"
      },
      "source": [
        "review_id = 694911068\n",
        "review = gc.review(review_id)\n",
        "review"
      ],
      "execution_count": 518,
      "outputs": [
        {
          "output_type": "execute_result",
          "data": {
            "text/plain": [
              "review [694911068]"
            ]
          },
          "metadata": {
            "tags": []
          },
          "execution_count": 518
        }
      ]
    },
    {
      "cell_type": "code",
      "metadata": {
        "id": "gC0SzKbgEvgP",
        "colab_type": "code",
        "colab": {
          "base_uri": "https://localhost:8080/",
          "height": 52
        },
        "outputId": "3d93f491-33bb-46d7-e8f8-b69c82972ebb"
      },
      "source": [
        "example=review.body\n",
        "example"
      ],
      "execution_count": 519,
      "outputs": [
        {
          "output_type": "execute_result",
          "data": {
            "application/vnd.google.colaboratory.intrinsic+json": {
              "type": "string"
            },
            "text/plain": [
              "\"If science ever had a poet. it's this man. wait. let's see if i can do this - - Richard Feynman did to Quantum-electrodynamics what Emily Dickinson did to poetry. Got rid of the elaborate insanity it was dressed in, refined into a melodic phrase, and deepened its meaning.\""
            ]
          },
          "metadata": {
            "tags": []
          },
          "execution_count": 519
        }
      ]
    },
    {
      "cell_type": "markdown",
      "metadata": {
        "id": "_o3BciIJFNVq",
        "colab_type": "text"
      },
      "source": [
        "Ahora intentaremos trabajar con almenos 5 reviews aleatorias para mostrar parcialidad. revies de la pág , pág 5, pág 8, pág 9 y Pág 10.\n",
        "\n",
        "Y convertiremos en un Dataframe"
      ]
    },
    {
      "cell_type": "code",
      "metadata": {
        "id": "3Ek0uS67HeKH",
        "colab_type": "code",
        "colab": {}
      },
      "source": [
        "filas=[gc.review(694911068).body,gc.review(3152096503).body,gc.review(459009298).body,gc.review(2260565490).body,gc.review(1313928038).body,gc.review(3389139947).body,gc.review(1756461796).body,gc.review(130223210).body,gc.review(821588288).body,gc.review(42596292).body]"
      ],
      "execution_count": 520,
      "outputs": []
    },
    {
      "cell_type": "code",
      "metadata": {
        "id": "1hxwfgyBc_l2",
        "colab_type": "code",
        "colab": {}
      },
      "source": [
        "Puntuacion=[gc.review(694911068).rating,gc.review(3152096503).rating,gc.review(459009298).rating,gc.review(2260565490).rating,gc.review(1313928038).rating,gc.review(3389139947).rating,gc.review(1756461796).rating,gc.review(130223210).rating,gc.review(821588288).rating,gc.review(42596292).rating]"
      ],
      "execution_count": 521,
      "outputs": []
    },
    {
      "cell_type": "code",
      "metadata": {
        "id": "e2uJvAl8IKLW",
        "colab_type": "code",
        "colab": {
          "base_uri": "https://localhost:8080/",
          "height": 343
        },
        "outputId": "05985f99-04e2-4e38-d998-fce6b8c7d889"
      },
      "source": [
        "data = pd.DataFrame(list(zip(Puntuacion,filas)), columns=['Rating','reviews'])\n",
        "data"
      ],
      "execution_count": 522,
      "outputs": [
        {
          "output_type": "execute_result",
          "data": {
            "text/html": [
              "<div>\n",
              "<style scoped>\n",
              "    .dataframe tbody tr th:only-of-type {\n",
              "        vertical-align: middle;\n",
              "    }\n",
              "\n",
              "    .dataframe tbody tr th {\n",
              "        vertical-align: top;\n",
              "    }\n",
              "\n",
              "    .dataframe thead th {\n",
              "        text-align: right;\n",
              "    }\n",
              "</style>\n",
              "<table border=\"1\" class=\"dataframe\">\n",
              "  <thead>\n",
              "    <tr style=\"text-align: right;\">\n",
              "      <th></th>\n",
              "      <th>Rating</th>\n",
              "      <th>reviews</th>\n",
              "    </tr>\n",
              "  </thead>\n",
              "  <tbody>\n",
              "    <tr>\n",
              "      <th>0</th>\n",
              "      <td>5</td>\n",
              "      <td>If science ever had a poet. it's this man. wai...</td>\n",
              "    </tr>\n",
              "    <tr>\n",
              "      <th>1</th>\n",
              "      <td>3</td>\n",
              "      <td>I can't say that I know mich physics than I've...</td>\n",
              "    </tr>\n",
              "    <tr>\n",
              "      <th>2</th>\n",
              "      <td>3</td>\n",
              "      <td>My biggest mistake here was reading this in sm...</td>\n",
              "    </tr>\n",
              "    <tr>\n",
              "      <th>3</th>\n",
              "      <td>1</td>\n",
              "      <td>Maybe I shouldn’t be surprised, but this just ...</td>\n",
              "    </tr>\n",
              "    <tr>\n",
              "      <th>4</th>\n",
              "      <td>4</td>\n",
              "      <td>Like the preface of the book explains, this is...</td>\n",
              "    </tr>\n",
              "    <tr>\n",
              "      <th>5</th>\n",
              "      <td>5</td>\n",
              "      <td>Just brilliant! Probably the best piece of non...</td>\n",
              "    </tr>\n",
              "    <tr>\n",
              "      <th>6</th>\n",
              "      <td>5</td>\n",
              "      <td>This is a very intuitive explain in some basic...</td>\n",
              "    </tr>\n",
              "    <tr>\n",
              "      <th>7</th>\n",
              "      <td>5</td>\n",
              "      <td>Despite the technical nature of his explanatio...</td>\n",
              "    </tr>\n",
              "    <tr>\n",
              "      <th>8</th>\n",
              "      <td>5</td>\n",
              "      <td>A masterpiece of popular science. Feynman did ...</td>\n",
              "    </tr>\n",
              "    <tr>\n",
              "      <th>9</th>\n",
              "      <td>5</td>\n",
              "      <td>Perfect for what it is, which is a concise and...</td>\n",
              "    </tr>\n",
              "  </tbody>\n",
              "</table>\n",
              "</div>"
            ],
            "text/plain": [
              "  Rating                                            reviews\n",
              "0      5  If science ever had a poet. it's this man. wai...\n",
              "1      3  I can't say that I know mich physics than I've...\n",
              "2      3  My biggest mistake here was reading this in sm...\n",
              "3      1  Maybe I shouldn’t be surprised, but this just ...\n",
              "4      4  Like the preface of the book explains, this is...\n",
              "5      5  Just brilliant! Probably the best piece of non...\n",
              "6      5  This is a very intuitive explain in some basic...\n",
              "7      5  Despite the technical nature of his explanatio...\n",
              "8      5  A masterpiece of popular science. Feynman did ...\n",
              "9      5  Perfect for what it is, which is a concise and..."
            ]
          },
          "metadata": {
            "tags": []
          },
          "execution_count": 522
        }
      ]
    },
    {
      "cell_type": "code",
      "metadata": {
        "id": "0wg31aTsqJjY",
        "colab_type": "code",
        "colab": {
          "base_uri": "https://localhost:8080/",
          "height": 168
        },
        "outputId": "dd29f7dd-fed3-4cc1-b4c9-ee081fe76705"
      },
      "source": [
        "data.info()"
      ],
      "execution_count": 523,
      "outputs": [
        {
          "output_type": "stream",
          "text": [
            "<class 'pandas.core.frame.DataFrame'>\n",
            "RangeIndex: 10 entries, 0 to 9\n",
            "Data columns (total 2 columns):\n",
            " #   Column   Non-Null Count  Dtype \n",
            "---  ------   --------------  ----- \n",
            " 0   Rating   10 non-null     object\n",
            " 1   reviews  10 non-null     object\n",
            "dtypes: object(2)\n",
            "memory usage: 288.0+ bytes\n"
          ],
          "name": "stdout"
        }
      ]
    },
    {
      "cell_type": "markdown",
      "metadata": {
        "id": "7PLtRrbYehw9",
        "colab_type": "text"
      },
      "source": [
        "A partir de esto realizamos un analisis de sentimiento."
      ]
    },
    {
      "cell_type": "markdown",
      "metadata": {
        "id": "whcS6MEGfcSk",
        "colab_type": "text"
      },
      "source": [
        "- Primero, Podemos crear una nueva columna que almacene la longitud de la cadena de cada muestra de texto y luego ordenar las filas de DataFrame en orden ascendente de la longitud del texto.\n"
      ]
    },
    {
      "cell_type": "code",
      "metadata": {
        "id": "TYtKOeHcegMq",
        "colab_type": "code",
        "colab": {
          "base_uri": "https://localhost:8080/",
          "height": 343
        },
        "outputId": "297519eb-3d36-4d22-8554-7c5149f63d81"
      },
      "source": [
        "data['len'] = data['reviews'].str.len()  # Almacene la longitud de la cadena de cada muestra\n",
        "data = data.sort_values(['len'], ascending=True)\n",
        "data"
      ],
      "execution_count": 524,
      "outputs": [
        {
          "output_type": "execute_result",
          "data": {
            "text/html": [
              "<div>\n",
              "<style scoped>\n",
              "    .dataframe tbody tr th:only-of-type {\n",
              "        vertical-align: middle;\n",
              "    }\n",
              "\n",
              "    .dataframe tbody tr th {\n",
              "        vertical-align: top;\n",
              "    }\n",
              "\n",
              "    .dataframe thead th {\n",
              "        text-align: right;\n",
              "    }\n",
              "</style>\n",
              "<table border=\"1\" class=\"dataframe\">\n",
              "  <thead>\n",
              "    <tr style=\"text-align: right;\">\n",
              "      <th></th>\n",
              "      <th>Rating</th>\n",
              "      <th>reviews</th>\n",
              "      <th>len</th>\n",
              "    </tr>\n",
              "  </thead>\n",
              "  <tbody>\n",
              "    <tr>\n",
              "      <th>3</th>\n",
              "      <td>1</td>\n",
              "      <td>Maybe I shouldn’t be surprised, but this just ...</td>\n",
              "      <td>219</td>\n",
              "    </tr>\n",
              "    <tr>\n",
              "      <th>9</th>\n",
              "      <td>5</td>\n",
              "      <td>Perfect for what it is, which is a concise and...</td>\n",
              "      <td>220</td>\n",
              "    </tr>\n",
              "    <tr>\n",
              "      <th>0</th>\n",
              "      <td>5</td>\n",
              "      <td>If science ever had a poet. it's this man. wai...</td>\n",
              "      <td>272</td>\n",
              "    </tr>\n",
              "    <tr>\n",
              "      <th>7</th>\n",
              "      <td>5</td>\n",
              "      <td>Despite the technical nature of his explanatio...</td>\n",
              "      <td>282</td>\n",
              "    </tr>\n",
              "    <tr>\n",
              "      <th>5</th>\n",
              "      <td>5</td>\n",
              "      <td>Just brilliant! Probably the best piece of non...</td>\n",
              "      <td>291</td>\n",
              "    </tr>\n",
              "    <tr>\n",
              "      <th>2</th>\n",
              "      <td>3</td>\n",
              "      <td>My biggest mistake here was reading this in sm...</td>\n",
              "      <td>300</td>\n",
              "    </tr>\n",
              "    <tr>\n",
              "      <th>4</th>\n",
              "      <td>4</td>\n",
              "      <td>Like the preface of the book explains, this is...</td>\n",
              "      <td>300</td>\n",
              "    </tr>\n",
              "    <tr>\n",
              "      <th>8</th>\n",
              "      <td>5</td>\n",
              "      <td>A masterpiece of popular science. Feynman did ...</td>\n",
              "      <td>300</td>\n",
              "    </tr>\n",
              "    <tr>\n",
              "      <th>1</th>\n",
              "      <td>3</td>\n",
              "      <td>I can't say that I know mich physics than I've...</td>\n",
              "      <td>305</td>\n",
              "    </tr>\n",
              "    <tr>\n",
              "      <th>6</th>\n",
              "      <td>5</td>\n",
              "      <td>This is a very intuitive explain in some basic...</td>\n",
              "      <td>310</td>\n",
              "    </tr>\n",
              "  </tbody>\n",
              "</table>\n",
              "</div>"
            ],
            "text/plain": [
              "  Rating                                            reviews  len\n",
              "3      1  Maybe I shouldn’t be surprised, but this just ...  219\n",
              "9      5  Perfect for what it is, which is a concise and...  220\n",
              "0      5  If science ever had a poet. it's this man. wai...  272\n",
              "7      5  Despite the technical nature of his explanatio...  282\n",
              "5      5  Just brilliant! Probably the best piece of non...  291\n",
              "2      3  My biggest mistake here was reading this in sm...  300\n",
              "4      4  Like the preface of the book explains, this is...  300\n",
              "8      5  A masterpiece of popular science. Feynman did ...  300\n",
              "1      3  I can't say that I know mich physics than I've...  305\n",
              "6      5  This is a very intuitive explain in some basic...  310"
            ]
          },
          "metadata": {
            "tags": []
          },
          "execution_count": 524
        }
      ]
    },
    {
      "cell_type": "markdown",
      "metadata": {
        "id": "Dhjyjw0zrqKo",
        "colab_type": "text"
      },
      "source": [
        "- Segundo, Para mayor facilidad Utilizaremos un criterio aceptacion para obtener resultados de forma binaria."
      ]
    },
    {
      "cell_type": "code",
      "metadata": {
        "id": "HTb3EzEaq4L9",
        "colab_type": "code",
        "colab": {}
      },
      "source": [
        "data['Rating'] = data['Rating'].astype(int)"
      ],
      "execution_count": 525,
      "outputs": []
    },
    {
      "cell_type": "code",
      "metadata": {
        "id": "DCmWx8A9qfdY",
        "colab_type": "code",
        "colab": {}
      },
      "source": [
        "data['Rating'] = data['Rating'].apply(lambda c: 'pos' if c >=3 else 'neg')"
      ],
      "execution_count": 526,
      "outputs": []
    },
    {
      "cell_type": "code",
      "metadata": {
        "id": "9jmllP7FrgTp",
        "colab_type": "code",
        "colab": {
          "base_uri": "https://localhost:8080/",
          "height": 343
        },
        "outputId": "18baa265-c668-42fc-aae8-70e883461703"
      },
      "source": [
        "data"
      ],
      "execution_count": 527,
      "outputs": [
        {
          "output_type": "execute_result",
          "data": {
            "text/html": [
              "<div>\n",
              "<style scoped>\n",
              "    .dataframe tbody tr th:only-of-type {\n",
              "        vertical-align: middle;\n",
              "    }\n",
              "\n",
              "    .dataframe tbody tr th {\n",
              "        vertical-align: top;\n",
              "    }\n",
              "\n",
              "    .dataframe thead th {\n",
              "        text-align: right;\n",
              "    }\n",
              "</style>\n",
              "<table border=\"1\" class=\"dataframe\">\n",
              "  <thead>\n",
              "    <tr style=\"text-align: right;\">\n",
              "      <th></th>\n",
              "      <th>Rating</th>\n",
              "      <th>reviews</th>\n",
              "      <th>len</th>\n",
              "    </tr>\n",
              "  </thead>\n",
              "  <tbody>\n",
              "    <tr>\n",
              "      <th>3</th>\n",
              "      <td>neg</td>\n",
              "      <td>Maybe I shouldn’t be surprised, but this just ...</td>\n",
              "      <td>219</td>\n",
              "    </tr>\n",
              "    <tr>\n",
              "      <th>9</th>\n",
              "      <td>pos</td>\n",
              "      <td>Perfect for what it is, which is a concise and...</td>\n",
              "      <td>220</td>\n",
              "    </tr>\n",
              "    <tr>\n",
              "      <th>0</th>\n",
              "      <td>pos</td>\n",
              "      <td>If science ever had a poet. it's this man. wai...</td>\n",
              "      <td>272</td>\n",
              "    </tr>\n",
              "    <tr>\n",
              "      <th>7</th>\n",
              "      <td>pos</td>\n",
              "      <td>Despite the technical nature of his explanatio...</td>\n",
              "      <td>282</td>\n",
              "    </tr>\n",
              "    <tr>\n",
              "      <th>5</th>\n",
              "      <td>pos</td>\n",
              "      <td>Just brilliant! Probably the best piece of non...</td>\n",
              "      <td>291</td>\n",
              "    </tr>\n",
              "    <tr>\n",
              "      <th>2</th>\n",
              "      <td>pos</td>\n",
              "      <td>My biggest mistake here was reading this in sm...</td>\n",
              "      <td>300</td>\n",
              "    </tr>\n",
              "    <tr>\n",
              "      <th>4</th>\n",
              "      <td>pos</td>\n",
              "      <td>Like the preface of the book explains, this is...</td>\n",
              "      <td>300</td>\n",
              "    </tr>\n",
              "    <tr>\n",
              "      <th>8</th>\n",
              "      <td>pos</td>\n",
              "      <td>A masterpiece of popular science. Feynman did ...</td>\n",
              "      <td>300</td>\n",
              "    </tr>\n",
              "    <tr>\n",
              "      <th>1</th>\n",
              "      <td>pos</td>\n",
              "      <td>I can't say that I know mich physics than I've...</td>\n",
              "      <td>305</td>\n",
              "    </tr>\n",
              "    <tr>\n",
              "      <th>6</th>\n",
              "      <td>pos</td>\n",
              "      <td>This is a very intuitive explain in some basic...</td>\n",
              "      <td>310</td>\n",
              "    </tr>\n",
              "  </tbody>\n",
              "</table>\n",
              "</div>"
            ],
            "text/plain": [
              "  Rating                                            reviews  len\n",
              "3    neg  Maybe I shouldn’t be surprised, but this just ...  219\n",
              "9    pos  Perfect for what it is, which is a concise and...  220\n",
              "0    pos  If science ever had a poet. it's this man. wai...  272\n",
              "7    pos  Despite the technical nature of his explanatio...  282\n",
              "5    pos  Just brilliant! Probably the best piece of non...  291\n",
              "2    pos  My biggest mistake here was reading this in sm...  300\n",
              "4    pos  Like the preface of the book explains, this is...  300\n",
              "8    pos  A masterpiece of popular science. Feynman did ...  300\n",
              "1    pos  I can't say that I know mich physics than I've...  305\n",
              "6    pos  This is a very intuitive explain in some basic...  310"
            ]
          },
          "metadata": {
            "tags": []
          },
          "execution_count": 527
        }
      ]
    },
    {
      "cell_type": "markdown",
      "metadata": {
        "id": "_LWEzEPVgJw4",
        "colab_type": "text"
      },
      "source": [
        "Las muestras con palabras claramente polares, como \"Perfect\" y \"marterprice\" ofrecerían un mayor contexto a un clasificador de sentimientos y para palabras que suenan neutrales (como \"maybe\" o \"mistake\") \n",
        "\n"
      ]
    },
    {
      "cell_type": "markdown",
      "metadata": {
        "id": "T0AGnkQzh3EZ",
        "colab_type": "text"
      },
      "source": [
        "Esto lo comprobamos con la funcion polarity"
      ]
    },
    {
      "cell_type": "code",
      "metadata": {
        "id": "3KYnuWo6hEew",
        "colab_type": "code",
        "colab": {
          "base_uri": "https://localhost:8080/",
          "height": 34
        },
        "outputId": "52f53234-2be5-4437-ea2b-066d51b0e312"
      },
      "source": [
        "sid.polarity_scores(data.loc[0]['reviews'])"
      ],
      "execution_count": 528,
      "outputs": [
        {
          "output_type": "execute_result",
          "data": {
            "text/plain": [
              "{'compound': -0.5719, 'neg': 0.079, 'neu': 0.921, 'pos': 0.0}"
            ]
          },
          "metadata": {
            "tags": []
          },
          "execution_count": 528
        }
      ]
    },
    {
      "cell_type": "code",
      "metadata": {
        "id": "M0tq3kdQo7FE",
        "colab_type": "code",
        "colab": {
          "base_uri": "https://localhost:8080/",
          "height": 52
        },
        "outputId": "625a7f22-fbf8-43b5-a7b7-c5a51ef7813e"
      },
      "source": [
        "data.loc[0]['reviews']"
      ],
      "execution_count": 529,
      "outputs": [
        {
          "output_type": "execute_result",
          "data": {
            "application/vnd.google.colaboratory.intrinsic+json": {
              "type": "string"
            },
            "text/plain": [
              "\"If science ever had a poet. it's this man. wait. let's see if i can do this - - Richard Feynman did to Quantum-electrodynamics what Emily Dickinson did to poetry. Got rid of the elaborate insanity it was dressed in, refined into a melodic phrase, and deepened its meaning.\""
            ]
          },
          "metadata": {
            "tags": []
          },
          "execution_count": 529
        }
      ]
    },
    {
      "cell_type": "code",
      "metadata": {
        "id": "MO-aTB5Yo-yJ",
        "colab_type": "code",
        "colab": {
          "base_uri": "https://localhost:8080/",
          "height": 35
        },
        "outputId": "92b55410-ee8a-44fb-812b-97014c8fc036"
      },
      "source": [
        "data.loc[0]['Rating']"
      ],
      "execution_count": 530,
      "outputs": [
        {
          "output_type": "execute_result",
          "data": {
            "application/vnd.google.colaboratory.intrinsic+json": {
              "type": "string"
            },
            "text/plain": [
              "'pos'"
            ]
          },
          "metadata": {
            "tags": []
          },
          "execution_count": 530
        }
      ]
    },
    {
      "cell_type": "markdown",
      "metadata": {
        "id": "SZ6vSNdCiJii",
        "colab_type": "text"
      },
      "source": [
        "El tener un composición neutral+positiva--- y un compound muy positivo resultaria como clasificación positiva\n"
      ]
    },
    {
      "cell_type": "code",
      "metadata": {
        "id": "CeIlhtIsiCZ-",
        "colab_type": "code",
        "colab": {
          "base_uri": "https://localhost:8080/",
          "height": 195
        },
        "outputId": "c86c6941-c53e-4d5f-a77c-779ac86bdbc3"
      },
      "source": [
        "# aplicar a cada elemento y pegarlo en el dataframe (importante)\n",
        "data['scores'] = data['reviews'].apply(lambda review: sid.polarity_scores(review))\n",
        "\n",
        "data.head()"
      ],
      "execution_count": 531,
      "outputs": [
        {
          "output_type": "execute_result",
          "data": {
            "text/html": [
              "<div>\n",
              "<style scoped>\n",
              "    .dataframe tbody tr th:only-of-type {\n",
              "        vertical-align: middle;\n",
              "    }\n",
              "\n",
              "    .dataframe tbody tr th {\n",
              "        vertical-align: top;\n",
              "    }\n",
              "\n",
              "    .dataframe thead th {\n",
              "        text-align: right;\n",
              "    }\n",
              "</style>\n",
              "<table border=\"1\" class=\"dataframe\">\n",
              "  <thead>\n",
              "    <tr style=\"text-align: right;\">\n",
              "      <th></th>\n",
              "      <th>Rating</th>\n",
              "      <th>reviews</th>\n",
              "      <th>len</th>\n",
              "      <th>scores</th>\n",
              "    </tr>\n",
              "  </thead>\n",
              "  <tbody>\n",
              "    <tr>\n",
              "      <th>3</th>\n",
              "      <td>neg</td>\n",
              "      <td>Maybe I shouldn’t be surprised, but this just ...</td>\n",
              "      <td>219</td>\n",
              "      <td>{'neg': 0.0, 'neu': 0.73, 'pos': 0.27, 'compou...</td>\n",
              "    </tr>\n",
              "    <tr>\n",
              "      <th>9</th>\n",
              "      <td>pos</td>\n",
              "      <td>Perfect for what it is, which is a concise and...</td>\n",
              "      <td>220</td>\n",
              "      <td>{'neg': 0.057, 'neu': 0.641, 'pos': 0.302, 'co...</td>\n",
              "    </tr>\n",
              "    <tr>\n",
              "      <th>0</th>\n",
              "      <td>pos</td>\n",
              "      <td>If science ever had a poet. it's this man. wai...</td>\n",
              "      <td>272</td>\n",
              "      <td>{'neg': 0.079, 'neu': 0.921, 'pos': 0.0, 'comp...</td>\n",
              "    </tr>\n",
              "    <tr>\n",
              "      <th>7</th>\n",
              "      <td>pos</td>\n",
              "      <td>Despite the technical nature of his explanatio...</td>\n",
              "      <td>282</td>\n",
              "      <td>{'neg': 0.0, 'neu': 0.788, 'pos': 0.212, 'comp...</td>\n",
              "    </tr>\n",
              "    <tr>\n",
              "      <th>5</th>\n",
              "      <td>pos</td>\n",
              "      <td>Just brilliant! Probably the best piece of non...</td>\n",
              "      <td>291</td>\n",
              "      <td>{'neg': 0.0, 'neu': 0.759, 'pos': 0.241, 'comp...</td>\n",
              "    </tr>\n",
              "  </tbody>\n",
              "</table>\n",
              "</div>"
            ],
            "text/plain": [
              "  Rating  ...                                             scores\n",
              "3    neg  ...  {'neg': 0.0, 'neu': 0.73, 'pos': 0.27, 'compou...\n",
              "9    pos  ...  {'neg': 0.057, 'neu': 0.641, 'pos': 0.302, 'co...\n",
              "0    pos  ...  {'neg': 0.079, 'neu': 0.921, 'pos': 0.0, 'comp...\n",
              "7    pos  ...  {'neg': 0.0, 'neu': 0.788, 'pos': 0.212, 'comp...\n",
              "5    pos  ...  {'neg': 0.0, 'neu': 0.759, 'pos': 0.241, 'comp...\n",
              "\n",
              "[5 rows x 4 columns]"
            ]
          },
          "metadata": {
            "tags": []
          },
          "execution_count": 531
        }
      ]
    },
    {
      "cell_type": "markdown",
      "metadata": {
        "id": "6_2VN5YXiYyi",
        "colab_type": "text"
      },
      "source": [
        "Agregamos las composiciones."
      ]
    },
    {
      "cell_type": "code",
      "metadata": {
        "id": "shK5kW6eiUam",
        "colab_type": "code",
        "colab": {
          "base_uri": "https://localhost:8080/",
          "height": 195
        },
        "outputId": "91fd2014-713e-467f-f98f-8ab0ef00d7a8"
      },
      "source": [
        "data['compound']  = data['scores'].apply(lambda score_dict: score_dict['compound'])\n",
        "\n",
        "data.head()"
      ],
      "execution_count": 532,
      "outputs": [
        {
          "output_type": "execute_result",
          "data": {
            "text/html": [
              "<div>\n",
              "<style scoped>\n",
              "    .dataframe tbody tr th:only-of-type {\n",
              "        vertical-align: middle;\n",
              "    }\n",
              "\n",
              "    .dataframe tbody tr th {\n",
              "        vertical-align: top;\n",
              "    }\n",
              "\n",
              "    .dataframe thead th {\n",
              "        text-align: right;\n",
              "    }\n",
              "</style>\n",
              "<table border=\"1\" class=\"dataframe\">\n",
              "  <thead>\n",
              "    <tr style=\"text-align: right;\">\n",
              "      <th></th>\n",
              "      <th>Rating</th>\n",
              "      <th>reviews</th>\n",
              "      <th>len</th>\n",
              "      <th>scores</th>\n",
              "      <th>compound</th>\n",
              "    </tr>\n",
              "  </thead>\n",
              "  <tbody>\n",
              "    <tr>\n",
              "      <th>3</th>\n",
              "      <td>neg</td>\n",
              "      <td>Maybe I shouldn’t be surprised, but this just ...</td>\n",
              "      <td>219</td>\n",
              "      <td>{'neg': 0.0, 'neu': 0.73, 'pos': 0.27, 'compou...</td>\n",
              "      <td>0.8662</td>\n",
              "    </tr>\n",
              "    <tr>\n",
              "      <th>9</th>\n",
              "      <td>pos</td>\n",
              "      <td>Perfect for what it is, which is a concise and...</td>\n",
              "      <td>220</td>\n",
              "      <td>{'neg': 0.057, 'neu': 0.641, 'pos': 0.302, 'co...</td>\n",
              "      <td>0.8932</td>\n",
              "    </tr>\n",
              "    <tr>\n",
              "      <th>0</th>\n",
              "      <td>pos</td>\n",
              "      <td>If science ever had a poet. it's this man. wai...</td>\n",
              "      <td>272</td>\n",
              "      <td>{'neg': 0.079, 'neu': 0.921, 'pos': 0.0, 'comp...</td>\n",
              "      <td>-0.5719</td>\n",
              "    </tr>\n",
              "    <tr>\n",
              "      <th>7</th>\n",
              "      <td>pos</td>\n",
              "      <td>Despite the technical nature of his explanatio...</td>\n",
              "      <td>282</td>\n",
              "      <td>{'neg': 0.0, 'neu': 0.788, 'pos': 0.212, 'comp...</td>\n",
              "      <td>0.8910</td>\n",
              "    </tr>\n",
              "    <tr>\n",
              "      <th>5</th>\n",
              "      <td>pos</td>\n",
              "      <td>Just brilliant! Probably the best piece of non...</td>\n",
              "      <td>291</td>\n",
              "      <td>{'neg': 0.0, 'neu': 0.759, 'pos': 0.241, 'comp...</td>\n",
              "      <td>0.9200</td>\n",
              "    </tr>\n",
              "  </tbody>\n",
              "</table>\n",
              "</div>"
            ],
            "text/plain": [
              "  Rating  ... compound\n",
              "3    neg  ...   0.8662\n",
              "9    pos  ...   0.8932\n",
              "0    pos  ...  -0.5719\n",
              "7    pos  ...   0.8910\n",
              "5    pos  ...   0.9200\n",
              "\n",
              "[5 rows x 5 columns]"
            ]
          },
          "metadata": {
            "tags": []
          },
          "execution_count": 532
        }
      ]
    },
    {
      "cell_type": "markdown",
      "metadata": {
        "id": "VUhNvykOj0NT",
        "colab_type": "text"
      },
      "source": [
        "Y su score respectivo"
      ]
    },
    {
      "cell_type": "code",
      "metadata": {
        "id": "9j2FXDtvifAq",
        "colab_type": "code",
        "colab": {
          "base_uri": "https://localhost:8080/",
          "height": 343
        },
        "outputId": "370fbc37-a573-4c6f-dba9-6fa67e8076d1"
      },
      "source": [
        "data['comp_score'] = data['compound'].apply(lambda c: 'pos' if c >=0 else 'neg')\n",
        "\n",
        "data"
      ],
      "execution_count": 533,
      "outputs": [
        {
          "output_type": "execute_result",
          "data": {
            "text/html": [
              "<div>\n",
              "<style scoped>\n",
              "    .dataframe tbody tr th:only-of-type {\n",
              "        vertical-align: middle;\n",
              "    }\n",
              "\n",
              "    .dataframe tbody tr th {\n",
              "        vertical-align: top;\n",
              "    }\n",
              "\n",
              "    .dataframe thead th {\n",
              "        text-align: right;\n",
              "    }\n",
              "</style>\n",
              "<table border=\"1\" class=\"dataframe\">\n",
              "  <thead>\n",
              "    <tr style=\"text-align: right;\">\n",
              "      <th></th>\n",
              "      <th>Rating</th>\n",
              "      <th>reviews</th>\n",
              "      <th>len</th>\n",
              "      <th>scores</th>\n",
              "      <th>compound</th>\n",
              "      <th>comp_score</th>\n",
              "    </tr>\n",
              "  </thead>\n",
              "  <tbody>\n",
              "    <tr>\n",
              "      <th>3</th>\n",
              "      <td>neg</td>\n",
              "      <td>Maybe I shouldn’t be surprised, but this just ...</td>\n",
              "      <td>219</td>\n",
              "      <td>{'neg': 0.0, 'neu': 0.73, 'pos': 0.27, 'compou...</td>\n",
              "      <td>0.8662</td>\n",
              "      <td>pos</td>\n",
              "    </tr>\n",
              "    <tr>\n",
              "      <th>9</th>\n",
              "      <td>pos</td>\n",
              "      <td>Perfect for what it is, which is a concise and...</td>\n",
              "      <td>220</td>\n",
              "      <td>{'neg': 0.057, 'neu': 0.641, 'pos': 0.302, 'co...</td>\n",
              "      <td>0.8932</td>\n",
              "      <td>pos</td>\n",
              "    </tr>\n",
              "    <tr>\n",
              "      <th>0</th>\n",
              "      <td>pos</td>\n",
              "      <td>If science ever had a poet. it's this man. wai...</td>\n",
              "      <td>272</td>\n",
              "      <td>{'neg': 0.079, 'neu': 0.921, 'pos': 0.0, 'comp...</td>\n",
              "      <td>-0.5719</td>\n",
              "      <td>neg</td>\n",
              "    </tr>\n",
              "    <tr>\n",
              "      <th>7</th>\n",
              "      <td>pos</td>\n",
              "      <td>Despite the technical nature of his explanatio...</td>\n",
              "      <td>282</td>\n",
              "      <td>{'neg': 0.0, 'neu': 0.788, 'pos': 0.212, 'comp...</td>\n",
              "      <td>0.8910</td>\n",
              "      <td>pos</td>\n",
              "    </tr>\n",
              "    <tr>\n",
              "      <th>5</th>\n",
              "      <td>pos</td>\n",
              "      <td>Just brilliant! Probably the best piece of non...</td>\n",
              "      <td>291</td>\n",
              "      <td>{'neg': 0.0, 'neu': 0.759, 'pos': 0.241, 'comp...</td>\n",
              "      <td>0.9200</td>\n",
              "      <td>pos</td>\n",
              "    </tr>\n",
              "    <tr>\n",
              "      <th>2</th>\n",
              "      <td>pos</td>\n",
              "      <td>My biggest mistake here was reading this in sm...</td>\n",
              "      <td>300</td>\n",
              "      <td>{'neg': 0.03, 'neu': 0.886, 'pos': 0.084, 'com...</td>\n",
              "      <td>0.4854</td>\n",
              "      <td>pos</td>\n",
              "    </tr>\n",
              "    <tr>\n",
              "      <th>4</th>\n",
              "      <td>pos</td>\n",
              "      <td>Like the preface of the book explains, this is...</td>\n",
              "      <td>300</td>\n",
              "      <td>{'neg': 0.053, 'neu': 0.778, 'pos': 0.17, 'com...</td>\n",
              "      <td>0.7647</td>\n",
              "      <td>pos</td>\n",
              "    </tr>\n",
              "    <tr>\n",
              "      <th>8</th>\n",
              "      <td>pos</td>\n",
              "      <td>A masterpiece of popular science. Feynman did ...</td>\n",
              "      <td>300</td>\n",
              "      <td>{'neg': 0.04, 'neu': 0.836, 'pos': 0.124, 'com...</td>\n",
              "      <td>0.4684</td>\n",
              "      <td>pos</td>\n",
              "    </tr>\n",
              "    <tr>\n",
              "      <th>1</th>\n",
              "      <td>pos</td>\n",
              "      <td>I can't say that I know mich physics than I've...</td>\n",
              "      <td>305</td>\n",
              "      <td>{'neg': 0.0, 'neu': 0.843, 'pos': 0.157, 'comp...</td>\n",
              "      <td>0.8221</td>\n",
              "      <td>pos</td>\n",
              "    </tr>\n",
              "    <tr>\n",
              "      <th>6</th>\n",
              "      <td>pos</td>\n",
              "      <td>This is a very intuitive explain in some basic...</td>\n",
              "      <td>310</td>\n",
              "      <td>{'neg': 0.0, 'neu': 1.0, 'pos': 0.0, 'compound...</td>\n",
              "      <td>0.0000</td>\n",
              "      <td>pos</td>\n",
              "    </tr>\n",
              "  </tbody>\n",
              "</table>\n",
              "</div>"
            ],
            "text/plain": [
              "  Rating  ... comp_score\n",
              "3    neg  ...        pos\n",
              "9    pos  ...        pos\n",
              "0    pos  ...        neg\n",
              "7    pos  ...        pos\n",
              "5    pos  ...        pos\n",
              "2    pos  ...        pos\n",
              "4    pos  ...        pos\n",
              "8    pos  ...        pos\n",
              "1    pos  ...        pos\n",
              "6    pos  ...        pos\n",
              "\n",
              "[10 rows x 6 columns]"
            ]
          },
          "metadata": {
            "tags": []
          },
          "execution_count": 533
        }
      ]
    },
    {
      "cell_type": "markdown",
      "metadata": {
        "id": "-dnnAD_Ni2Ra",
        "colab_type": "text"
      },
      "source": [
        "Hasta aqui hemos logrado identificar el score de compon identificacando los valores positivos y negativos"
      ]
    },
    {
      "cell_type": "markdown",
      "metadata": {
        "id": "s1WP75xRi0bN",
        "colab_type": "text"
      },
      "source": [
        "### Medidas de ajuste"
      ]
    },
    {
      "cell_type": "markdown",
      "metadata": {
        "id": "vT5nbhWYkEey",
        "colab_type": "text"
      },
      "source": [
        "#### Accuracy"
      ]
    },
    {
      "cell_type": "code",
      "metadata": {
        "id": "DmhUOrDWkMYi",
        "colab_type": "code",
        "colab": {}
      },
      "source": [
        "from sklearn.metrics import accuracy_score,classification_report,confusion_matrix"
      ],
      "execution_count": 534,
      "outputs": []
    },
    {
      "cell_type": "code",
      "metadata": {
        "id": "66mUV85yirSS",
        "colab_type": "code",
        "colab": {
          "base_uri": "https://localhost:8080/",
          "height": 34
        },
        "outputId": "a044e133-fe47-481e-96c5-4e9829c9db00"
      },
      "source": [
        "accuracy_score(data['Rating'],data['comp_score'])"
      ],
      "execution_count": 535,
      "outputs": [
        {
          "output_type": "execute_result",
          "data": {
            "text/plain": [
              "0.8"
            ]
          },
          "metadata": {
            "tags": []
          },
          "execution_count": 535
        }
      ]
    },
    {
      "cell_type": "code",
      "metadata": {
        "id": "HKY7ETkYkIr3",
        "colab_type": "code",
        "colab": {
          "base_uri": "https://localhost:8080/",
          "height": 50
        },
        "outputId": "2e8a90fd-f16c-460d-89fb-46e60338cb75"
      },
      "source": [
        "print(confusion_matrix(data['Rating'],data['comp_score']))\n"
      ],
      "execution_count": 536,
      "outputs": [
        {
          "output_type": "stream",
          "text": [
            "[[0 1]\n",
            " [1 8]]\n"
          ],
          "name": "stdout"
        }
      ]
    },
    {
      "cell_type": "markdown",
      "metadata": {
        "id": "s3M3B4QQsrq0",
        "colab_type": "text"
      },
      "source": [
        "#### Split the data into train & test sets:"
      ]
    },
    {
      "cell_type": "code",
      "metadata": {
        "id": "7wDpUhMcltBS",
        "colab_type": "code",
        "colab": {}
      },
      "source": [
        "from sklearn.model_selection import train_test_split\n",
        "\n",
        "X = data['reviews']\n",
        "y = data['Rating']\n",
        "\n",
        "X_train, X_test, y_train, y_test = train_test_split(X, y, test_size=0.33, random_state=42)"
      ],
      "execution_count": 537,
      "outputs": []
    },
    {
      "cell_type": "markdown",
      "metadata": {
        "id": "tYfAa9Pbs7Kn",
        "colab_type": "text"
      },
      "source": [
        "Construir un pipeline"
      ]
    },
    {
      "cell_type": "code",
      "metadata": {
        "id": "llYZwRotls_7",
        "colab_type": "code",
        "colab": {}
      },
      "source": [
        "from sklearn.pipeline import Pipeline\n",
        "from sklearn.feature_extraction.text import TfidfVectorizer\n",
        "from sklearn.naive_bayes import MultinomialNB\n",
        "from sklearn.svm import LinearSVC\n",
        "\n",
        "#podemos aplicar todo lo que se aprendio\n",
        "# Naïve Bayes:\n",
        "text_clf_nb = Pipeline([('tfidf', TfidfVectorizer()),\n",
        "                     ('clf', MultinomialNB()),\n",
        "])\n",
        "\n",
        "# Linear SVC:\n",
        "text_clf_lsvc = Pipeline([('tfidf', TfidfVectorizer()),\n",
        "                     ('clf', LinearSVC()),\n",
        "])"
      ],
      "execution_count": 538,
      "outputs": []
    },
    {
      "cell_type": "code",
      "metadata": {
        "id": "F1meTmFWls7E",
        "colab_type": "code",
        "colab": {
          "base_uri": "https://localhost:8080/",
          "height": 302
        },
        "outputId": "cf1c4b6d-bad2-4997-8f7f-ab3c78f0ef30"
      },
      "source": [
        "text_clf_nb.fit(X_train, y_train)"
      ],
      "execution_count": 539,
      "outputs": [
        {
          "output_type": "execute_result",
          "data": {
            "text/plain": [
              "Pipeline(memory=None,\n",
              "         steps=[('tfidf',\n",
              "                 TfidfVectorizer(analyzer='word', binary=False,\n",
              "                                 decode_error='strict',\n",
              "                                 dtype=<class 'numpy.float64'>,\n",
              "                                 encoding='utf-8', input='content',\n",
              "                                 lowercase=True, max_df=1.0, max_features=None,\n",
              "                                 min_df=1, ngram_range=(1, 1), norm='l2',\n",
              "                                 preprocessor=None, smooth_idf=True,\n",
              "                                 stop_words=None, strip_accents=None,\n",
              "                                 sublinear_tf=False,\n",
              "                                 token_pattern='(?u)\\\\b\\\\w\\\\w+\\\\b',\n",
              "                                 tokenizer=None, use_idf=True,\n",
              "                                 vocabulary=None)),\n",
              "                ('clf',\n",
              "                 MultinomialNB(alpha=1.0, class_prior=None, fit_prior=True))],\n",
              "         verbose=False)"
            ]
          },
          "metadata": {
            "tags": []
          },
          "execution_count": 539
        }
      ]
    },
    {
      "cell_type": "markdown",
      "metadata": {
        "id": "P9MmJBcatIO_",
        "colab_type": "text"
      },
      "source": [
        "Revisando Resultados"
      ]
    },
    {
      "cell_type": "code",
      "metadata": {
        "id": "O-oY6VRVtEaP",
        "colab_type": "code",
        "colab": {}
      },
      "source": [
        "# Form a prediction set\n",
        "predictions = text_clf_nb.predict(X_test)"
      ],
      "execution_count": 540,
      "outputs": []
    },
    {
      "cell_type": "code",
      "metadata": {
        "id": "yXpXCJcwtBjl",
        "colab_type": "code",
        "colab": {
          "base_uri": "https://localhost:8080/",
          "height": 50
        },
        "outputId": "f62e2c9e-eb44-4347-f8a6-546d85b6f74a"
      },
      "source": [
        "# Report the confusion matrix\n",
        "from sklearn import metrics\n",
        "print(metrics.confusion_matrix(y_test,predictions))"
      ],
      "execution_count": 541,
      "outputs": [
        {
          "output_type": "stream",
          "text": [
            "[[0 1]\n",
            " [0 3]]\n"
          ],
          "name": "stdout"
        }
      ]
    },
    {
      "cell_type": "code",
      "metadata": {
        "id": "3pSqSAKttMWR",
        "colab_type": "code",
        "colab": {
          "base_uri": "https://localhost:8080/",
          "height": 34
        },
        "outputId": "6326d9f1-a1cc-4f4e-9577-33ac761a7320"
      },
      "source": [
        "# Calculo de accuracy\n",
        "print(metrics.accuracy_score(y_test,predictions))"
      ],
      "execution_count": 542,
      "outputs": [
        {
          "output_type": "stream",
          "text": [
            "0.75\n"
          ],
          "name": "stdout"
        }
      ]
    },
    {
      "cell_type": "markdown",
      "metadata": {
        "id": "Fpdp_g4BuPFI",
        "colab_type": "text"
      },
      "source": [
        "## Conclusiones"
      ]
    },
    {
      "cell_type": "markdown",
      "metadata": {
        "id": "1_FjCGhPuS3q",
        "colab_type": "text"
      },
      "source": [
        "- Primera parte - Análisis de textos\n",
        "\n",
        "> - De alguna manera se logró automatizar la extracción de datos para facilitar el análisis de textos y reviews. El tópico elegido para el análisis fue de libros de la web GOODREADS, Se utilizó una API que fue de gran ayuda https://github.com/pirmoradian/goodreads.\n",
        "\n",
        "> - Se logro análisar un texto menor a 300 palabras de un libro de ciencia \"QED: The Strange Theory of Light and Matter\" de \"Richard Feynman\", verificando la Tokenización, Stemming y lemmatización, donde  dos primeros cumplen el proposito. Sin embargo, en cuanto a la lemmatización hay palabras que no vuelven a su nucleo o lemma principal.\n",
        "\n",
        "- Segunda parte - Analsis de sentimientos\n",
        "\n",
        "> - Se tomo 10 reviews del mismo libro. y se realizo un analisis de sentimientos, cuya exactitud cálculada fue de: 0,8\n",
        "\n",
        "\n",
        "> - Se escogio una clasificación de positivos y negativos para el \"Rating\" tomando como valor de referencia para positivos >= 3 (de 5) y negativos menores a 3 de tal manera que se ajuste a nuestra predicción.\n",
        "\n",
        "> - El pipeline escogido para el analisis fue el de Naive bayes. cuya exactitud cálculada fue de 0,75.\n"
      ]
    }
  ]
}