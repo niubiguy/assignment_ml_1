{
  "nbformat": 4,
  "nbformat_minor": 0,
  "metadata": {
    "colab": {
      "name": "report.ipynb",
      "provenance": [],
      "collapsed_sections": [],
      "toc_visible": true,
      "authorship_tag": "ABX9TyPyFbU3VkybS7oA5fzat4uB",
      "include_colab_link": true
    },
    "kernelspec": {
      "name": "python3",
      "display_name": "Python 3"
    }
  },
  "cells": [
    {
      "cell_type": "markdown",
      "metadata": {
        "id": "view-in-github",
        "colab_type": "text"
      },
      "source": [
        "<a href=\"https://colab.research.google.com/github/noobsterguy/assignment_ml_1/blob/master/report.ipynb\" target=\"_parent\"><img src=\"https://colab.research.google.com/assets/colab-badge.svg\" alt=\"Open In Colab\"/></a>"
      ]
    },
    {
      "cell_type": "markdown",
      "metadata": {
        "id": "I-gZztJJV2e_",
        "colab_type": "text"
      },
      "source": [
        "<a href=\"https://colab.research.google.com/github/noobsterguy/assignment_ml_1/blob/master/report.ipynb\" target=\"_parent\"><img src=\"https://colab.research.google.com/assets/colab-badge.svg\" alt=\"Open In Colab\"/></a>"
      ]
    },
    {
      "cell_type": "markdown",
      "metadata": {
        "id": "DAuZ4r_kWDb2",
        "colab_type": "text"
      },
      "source": [
        "** Para abrir este cuaderno como el * documento interactivo * (que le permite ejecutar celdas de código usted mismo), haga clic en el icono 'Open in Colab' (funciona mejor en Chrome) o siga [este enlace](https://colab.research.google.com/github/noobsterguy/assignment_ml_1/blob/master/report.ipynb):**"
      ]
    },
    {
      "cell_type": "markdown",
      "metadata": {
        "id": "akztGTNEWWs8",
        "colab_type": "text"
      },
      "source": [
        ">Fecha: \n",
        ">\n",
        ">2020-07-25\n",
        ">----  --- "
      ]
    },
    {
      "cell_type": "markdown",
      "metadata": {
        "id": "Q8CCDRKyWWzt",
        "colab_type": "text"
      },
      "source": [
        "# TRABAJO ENCARGADO DEL CURSO DATA SCIENCIE Y MACHINE LEARNING\n",
        "\n",
        "Presentado por:\n",
        "\n",
        "Ivancovish J. Huancco\n"
      ]
    },
    {
      "cell_type": "markdown",
      "metadata": {
        "id": "qQGoyX4lWW2g",
        "colab_type": "text"
      },
      "source": [
        "---\n",
        "---\n",
        "># Resumen\n",
        "\n",
        ">El conjunto de datos presentados son para predecir si ha impactado o no por el covid de una empresa comercial.\n",
        ">\n",
        ">El objetivo de este análisis es resolver este problema mediante una exploración y limpieza de datos detallados tales como: Identificación de Missings, Identificación de Outliers, entre otros. Además, de el análisis de métricas del modelo.\n",
        ">\n",
        ">*Palabras Clave: Ausentes, Valores Atípicos, Predicción, Regresión Logistica, Métricas de Evaluación de modelos*\n",
        ">\n",
        ">*Keywords: Missing values, Outlier values, Prediction, Logistic Regression, Model Evaluation Metrics*\n",
        "\n",
        "---\n",
        "---"
      ]
    },
    {
      "cell_type": "markdown",
      "metadata": {
        "id": "5G2V-uk9N_A4",
        "colab_type": "text"
      },
      "source": [
        "<a id='top'></a>\n",
        "#### Contenido: \n",
        "#### 1. <a href='#Import'>Importar / Instalar módulos de Python (Código)</a>\n",
        "\n",
        "#### 2. <a href='#EDA'>Exploración de Análisis de Datos</a>\n",
        "21. <a href='#masafectada'>¿Que tipo de empresas pueden ser las más probables a ser afectadas?</a>\n",
        "22. <a href='#queafecta'>¿Que determina si una empresa es afectada o no?</a>\n",
        "\n",
        "#### 3. <a href='#clean'>Limpieza de Datos</a>\n",
        "31. <a href='#missing'>Identificación de valores Missing</a>\n",
        "32. <a href='#outlier'>Identificación de valores Outliers</a>\n",
        "\n",
        "#### 4. <a href='#seleccion'>Selección de características</a>\n",
        "\n",
        "#### 5. <a href='#evaluacion'>Evaluación del Modelo y Métricas</a>\n",
        "51. <a href='#modelo'>Implementación del modelo en Python con scikit-learn</a>\n",
        "52. <a href='#validacion'>Validación del modelo logístico</a>\n",
        "53. <a href='#cruzada'>Validacion cruzada-k fold \"Cross-Validation\"</a>\n",
        "54. <a href='#roc'>Curva de características operativas del receptor (ROC)</a>\n",
        "\n",
        "#### 6. <a href='#ML'>Pruebas con modelos de regresión</a>\n",
        "\n",
        "#### 7. <a href='#conclusion'>Conclusion</a>"
      ]
    },
    {
      "cell_type": "markdown",
      "metadata": {
        "id": "o14l5wG8WW5M",
        "colab_type": "text"
      },
      "source": [
        "<a id='import'></a>\n",
        "#### 1. Importar / instalar módulos de Python (código)\n"
      ]
    },
    {
      "cell_type": "markdown",
      "metadata": {
        "id": "fgzek5QEWW7n",
        "colab_type": "text"
      },
      "source": [
        "Primero descargamos archivos específicos para este análisis (datos experimentales, etc.):\n",
        "\n"
      ]
    },
    {
      "cell_type": "code",
      "metadata": {
        "id": "XnZgOUlqVxtz",
        "colab_type": "code",
        "colab": {}
      },
      "source": [
        "%%shell\n",
        "git clone https://github.com/noobsterguy/assignment_ml_1.git"
      ],
      "execution_count": null,
      "outputs": []
    },
    {
      "cell_type": "markdown",
      "metadata": {
        "id": "QJEKtrewW-BW",
        "colab_type": "text"
      },
      "source": [
        "Finalmente, importamos todos los módulos de Python necesarios:"
      ]
    },
    {
      "cell_type": "code",
      "metadata": {
        "id": "ESzV4gjsWzxO",
        "colab_type": "code",
        "colab": {}
      },
      "source": [
        "import pandas as pd\n",
        "import numpy as np\n",
        "import matplotlib.pyplot as plt\n",
        "import missingno as msno\n",
        "import seaborn as sb\n",
        "import pandas as pd\n",
        "import os\n",
        "import io"
      ],
      "execution_count": null,
      "outputs": []
    },
    {
      "cell_type": "markdown",
      "metadata": {
        "id": "-yF3tAgTX43_",
        "colab_type": "text"
      },
      "source": [
        "Comience con la importacion de datos para trabajar."
      ]
    },
    {
      "cell_type": "code",
      "metadata": {
        "id": "TPBZ5LXnW87z",
        "colab_type": "code",
        "colab": {
          "base_uri": "https://localhost:8080/",
          "height": 455
        },
        "outputId": "846bbdeb-174d-493c-f77a-748143ea4ac4"
      },
      "source": [
        "# El error de código utf-8 generalmente aparece cuando el rango de valores numéricos excede de 0 a 127. Entonces, los puntos ISO-8859-1 Unicode 0–255 son idénticos a los valores latinos 1, por lo que la conversión a esta codificación simplemente requiere convertir los puntos de código en valores de bytes; Si se encuentra un punto de código mayor que 255, la cadena no se puede codificar en Latin-1\n",
        "data = pd.read_csv('assignment_ml_1/Data_cov.csv',encoding='ISO-8859-1',sep=\";\")\n",
        "data"
      ],
      "execution_count": 54,
      "outputs": [
        {
          "output_type": "execute_result",
          "data": {
            "text/html": [
              "<div>\n",
              "<style scoped>\n",
              "    .dataframe tbody tr th:only-of-type {\n",
              "        vertical-align: middle;\n",
              "    }\n",
              "\n",
              "    .dataframe tbody tr th {\n",
              "        vertical-align: top;\n",
              "    }\n",
              "\n",
              "    .dataframe thead th {\n",
              "        text-align: right;\n",
              "    }\n",
              "</style>\n",
              "<table border=\"1\" class=\"dataframe\">\n",
              "  <thead>\n",
              "    <tr style=\"text-align: right;\">\n",
              "      <th></th>\n",
              "      <th>Sector</th>\n",
              "      <th>Dep</th>\n",
              "      <th>Impactado</th>\n",
              "      <th>Saldo</th>\n",
              "      <th>Desembolso_mes</th>\n",
              "      <th>Saldo Promedio</th>\n",
              "      <th>Deuda Sistea,</th>\n",
              "      <th>Pasivo</th>\n",
              "      <th>Turismo</th>\n",
              "      <th>Sector de Impacto</th>\n",
              "      <th>Venta</th>\n",
              "      <th>Venta Formal</th>\n",
              "      <th>Pasivo_desembolso</th>\n",
              "      <th>Deuda rezagada va</th>\n",
              "      <th>Deuda rezagada vr</th>\n",
              "      <th>pasivo rezagada va</th>\n",
              "      <th>pasivo rezagada vr</th>\n",
              "      <th>Pasivo_desembolso da</th>\n",
              "      <th>Pasivo_desembolso dr</th>\n",
              "    </tr>\n",
              "  </thead>\n",
              "  <tbody>\n",
              "    <tr>\n",
              "      <th>0</th>\n",
              "      <td>INDUSTRIA</td>\n",
              "      <td>Lima</td>\n",
              "      <td>0</td>\n",
              "      <td>56643.10092</td>\n",
              "      <td>0.0</td>\n",
              "      <td>28321.550460</td>\n",
              "      <td>31365.73</td>\n",
              "      <td>5876.82</td>\n",
              "      <td>0</td>\n",
              "      <td>3</td>\n",
              "      <td>108400.0</td>\n",
              "      <td>43741.08</td>\n",
              "      <td>5876.820</td>\n",
              "      <td>-800.65</td>\n",
              "      <td>-0.024891</td>\n",
              "      <td>830.82</td>\n",
              "      <td>0.164649</td>\n",
              "      <td>830.82</td>\n",
              "      <td>0.164649</td>\n",
              "    </tr>\n",
              "    <tr>\n",
              "      <th>1</th>\n",
              "      <td>COMERCIO</td>\n",
              "      <td>Arequipa</td>\n",
              "      <td>0</td>\n",
              "      <td>190313.99460</td>\n",
              "      <td>0.0</td>\n",
              "      <td>63437.998180</td>\n",
              "      <td>64864.99</td>\n",
              "      <td>4467.40</td>\n",
              "      <td>0</td>\n",
              "      <td>4</td>\n",
              "      <td>105300.0</td>\n",
              "      <td>69737.17</td>\n",
              "      <td>4467.400</td>\n",
              "      <td>-2810.52</td>\n",
              "      <td>-0.041529</td>\n",
              "      <td>-7043.43</td>\n",
              "      <td>-0.611896</td>\n",
              "      <td>-7043.43</td>\n",
              "      <td>-0.611896</td>\n",
              "    </tr>\n",
              "    <tr>\n",
              "      <th>2</th>\n",
              "      <td>SERVICIO</td>\n",
              "      <td>Amazonas</td>\n",
              "      <td>0</td>\n",
              "      <td>547601.57360</td>\n",
              "      <td>0.0</td>\n",
              "      <td>182533.857900</td>\n",
              "      <td>200239.32</td>\n",
              "      <td>5000.92</td>\n",
              "      <td>0</td>\n",
              "      <td>1</td>\n",
              "      <td>86600.0</td>\n",
              "      <td>79178.83</td>\n",
              "      <td>5000.920</td>\n",
              "      <td>653.68</td>\n",
              "      <td>0.003275</td>\n",
              "      <td>2000.92</td>\n",
              "      <td>0.666973</td>\n",
              "      <td>2000.92</td>\n",
              "      <td>0.666973</td>\n",
              "    </tr>\n",
              "    <tr>\n",
              "      <th>3</th>\n",
              "      <td>INDUSTRIA</td>\n",
              "      <td>Lima</td>\n",
              "      <td>0</td>\n",
              "      <td>283914.20840</td>\n",
              "      <td>0.0</td>\n",
              "      <td>94638.069470</td>\n",
              "      <td>112945.17</td>\n",
              "      <td>325.50</td>\n",
              "      <td>0</td>\n",
              "      <td>3</td>\n",
              "      <td>103000.0</td>\n",
              "      <td>0.00</td>\n",
              "      <td>325.500</td>\n",
              "      <td>14820.77</td>\n",
              "      <td>0.151041</td>\n",
              "      <td>-17128.30</td>\n",
              "      <td>-0.981351</td>\n",
              "      <td>-17128.30</td>\n",
              "      <td>-0.981351</td>\n",
              "    </tr>\n",
              "    <tr>\n",
              "      <th>4</th>\n",
              "      <td>COMERCIO</td>\n",
              "      <td>Cusco</td>\n",
              "      <td>0</td>\n",
              "      <td>142296.43840</td>\n",
              "      <td>0.0</td>\n",
              "      <td>47432.146120</td>\n",
              "      <td>144877.21</td>\n",
              "      <td>0.00</td>\n",
              "      <td>0</td>\n",
              "      <td>4</td>\n",
              "      <td>172920.0</td>\n",
              "      <td>171999.33</td>\n",
              "      <td>0.000</td>\n",
              "      <td>17468.60</td>\n",
              "      <td>0.137107</td>\n",
              "      <td>-2071.80</td>\n",
              "      <td>-1.000000</td>\n",
              "      <td>-2071.80</td>\n",
              "      <td>-1.000000</td>\n",
              "    </tr>\n",
              "    <tr>\n",
              "      <th>...</th>\n",
              "      <td>...</td>\n",
              "      <td>...</td>\n",
              "      <td>...</td>\n",
              "      <td>...</td>\n",
              "      <td>...</td>\n",
              "      <td>...</td>\n",
              "      <td>...</td>\n",
              "      <td>...</td>\n",
              "      <td>...</td>\n",
              "      <td>...</td>\n",
              "      <td>...</td>\n",
              "      <td>...</td>\n",
              "      <td>...</td>\n",
              "      <td>...</td>\n",
              "      <td>...</td>\n",
              "      <td>...</td>\n",
              "      <td>...</td>\n",
              "      <td>...</td>\n",
              "      <td>...</td>\n",
              "    </tr>\n",
              "    <tr>\n",
              "      <th>1993</th>\n",
              "      <td>COMERCIO</td>\n",
              "      <td>Lambayeque</td>\n",
              "      <td>1</td>\n",
              "      <td>4325.85076</td>\n",
              "      <td>0.0</td>\n",
              "      <td>1441.950253</td>\n",
              "      <td>1624.47</td>\n",
              "      <td>2558.31</td>\n",
              "      <td>0</td>\n",
              "      <td>4</td>\n",
              "      <td>30000.0</td>\n",
              "      <td>4905.00</td>\n",
              "      <td>2528.565</td>\n",
              "      <td>-710.56</td>\n",
              "      <td>-0.304304</td>\n",
              "      <td>-3174.29</td>\n",
              "      <td>-0.550924</td>\n",
              "      <td>-2548.50</td>\n",
              "      <td>-0.543144</td>\n",
              "    </tr>\n",
              "    <tr>\n",
              "      <th>1994</th>\n",
              "      <td>COMERCIO</td>\n",
              "      <td>Arequipa</td>\n",
              "      <td>1</td>\n",
              "      <td>94650.62631</td>\n",
              "      <td>0.0</td>\n",
              "      <td>31550.208770</td>\n",
              "      <td>75502.84</td>\n",
              "      <td>3029.48</td>\n",
              "      <td>0</td>\n",
              "      <td>4</td>\n",
              "      <td>32100.0</td>\n",
              "      <td>7034.00</td>\n",
              "      <td>3029.480</td>\n",
              "      <td>-5421.28</td>\n",
              "      <td>-0.066992</td>\n",
              "      <td>-10965.03</td>\n",
              "      <td>-0.783524</td>\n",
              "      <td>-10965.03</td>\n",
              "      <td>-0.783524</td>\n",
              "    </tr>\n",
              "    <tr>\n",
              "      <th>1995</th>\n",
              "      <td>COMERCIO</td>\n",
              "      <td>Lima</td>\n",
              "      <td>1</td>\n",
              "      <td>747579.33510</td>\n",
              "      <td>0.0</td>\n",
              "      <td>249193.111700</td>\n",
              "      <td>843972.49</td>\n",
              "      <td>593.99</td>\n",
              "      <td>0</td>\n",
              "      <td>3</td>\n",
              "      <td>180905.0</td>\n",
              "      <td>93482.00</td>\n",
              "      <td>593.990</td>\n",
              "      <td>6776.19</td>\n",
              "      <td>0.008094</td>\n",
              "      <td>-11589.60</td>\n",
              "      <td>-0.951247</td>\n",
              "      <td>-11589.60</td>\n",
              "      <td>-0.951247</td>\n",
              "    </tr>\n",
              "    <tr>\n",
              "      <th>1996</th>\n",
              "      <td>COMERCIO</td>\n",
              "      <td>Lima</td>\n",
              "      <td>1</td>\n",
              "      <td>18077.98187</td>\n",
              "      <td>0.0</td>\n",
              "      <td>6025.993957</td>\n",
              "      <td>122633.10</td>\n",
              "      <td>5312.64</td>\n",
              "      <td>0</td>\n",
              "      <td>3</td>\n",
              "      <td>69500.0</td>\n",
              "      <td>8333.00</td>\n",
              "      <td>5312.640</td>\n",
              "      <td>-3838.01</td>\n",
              "      <td>-0.030347</td>\n",
              "      <td>-18929.55</td>\n",
              "      <td>-0.780851</td>\n",
              "      <td>-18929.55</td>\n",
              "      <td>-0.780851</td>\n",
              "    </tr>\n",
              "    <tr>\n",
              "      <th>1997</th>\n",
              "      <td>SERVICIO</td>\n",
              "      <td>Arequipa</td>\n",
              "      <td>1</td>\n",
              "      <td>286471.03470</td>\n",
              "      <td>0.0</td>\n",
              "      <td>97561.751050</td>\n",
              "      <td>269538.61</td>\n",
              "      <td>2558.31</td>\n",
              "      <td>0</td>\n",
              "      <td>4</td>\n",
              "      <td>50514.0</td>\n",
              "      <td>4171.00</td>\n",
              "      <td>2528.565</td>\n",
              "      <td>-26220.40</td>\n",
              "      <td>-0.088655</td>\n",
              "      <td>-3174.29</td>\n",
              "      <td>-0.550924</td>\n",
              "      <td>-2548.50</td>\n",
              "      <td>-0.543144</td>\n",
              "    </tr>\n",
              "  </tbody>\n",
              "</table>\n",
              "<p>1998 rows × 19 columns</p>\n",
              "</div>"
            ],
            "text/plain": [
              "         Sector         Dep  ...  Pasivo_desembolso da  Pasivo_desembolso dr\n",
              "0     INDUSTRIA        Lima  ...                830.82              0.164649\n",
              "1      COMERCIO    Arequipa  ...              -7043.43             -0.611896\n",
              "2      SERVICIO    Amazonas  ...               2000.92              0.666973\n",
              "3     INDUSTRIA        Lima  ...             -17128.30             -0.981351\n",
              "4      COMERCIO       Cusco  ...              -2071.80             -1.000000\n",
              "...         ...         ...  ...                   ...                   ...\n",
              "1993   COMERCIO  Lambayeque  ...              -2548.50             -0.543144\n",
              "1994   COMERCIO    Arequipa  ...             -10965.03             -0.783524\n",
              "1995   COMERCIO        Lima  ...             -11589.60             -0.951247\n",
              "1996   COMERCIO        Lima  ...             -18929.55             -0.780851\n",
              "1997   SERVICIO    Arequipa  ...              -2548.50             -0.543144\n",
              "\n",
              "[1998 rows x 19 columns]"
            ]
          },
          "metadata": {
            "tags": []
          },
          "execution_count": 54
        }
      ]
    },
    {
      "cell_type": "markdown",
      "metadata": {
        "id": "aQMeCoZyxiFZ",
        "colab_type": "text"
      },
      "source": [
        "Primero, por comodidad y posibles futuros conflictos cambiare los nombres de las columnas"
      ]
    },
    {
      "cell_type": "code",
      "metadata": {
        "id": "TGJnuOVAxtWR",
        "colab_type": "code",
        "colab": {
          "base_uri": "https://localhost:8080/",
          "height": 118
        },
        "outputId": "f8b6777b-2d4c-44f9-a4f9-b32c8f2bdfd2"
      },
      "source": [
        "data.columns\n"
      ],
      "execution_count": 55,
      "outputs": [
        {
          "output_type": "execute_result",
          "data": {
            "text/plain": [
              "Index(['Sector', 'Dep', 'Impactado', 'Saldo', 'Desembolso_mes',\n",
              "       'Saldo Promedio', 'Deuda Sistea,', 'Pasivo', 'Turismo',\n",
              "       'Sector de Impacto', 'Venta ', 'Venta Formal', 'Pasivo_desembolso',\n",
              "       'Deuda rezagada va', 'Deuda rezagada vr', 'pasivo rezagada va',\n",
              "       'pasivo rezagada vr', 'Pasivo_desembolso da', 'Pasivo_desembolso dr'],\n",
              "      dtype='object')"
            ]
          },
          "metadata": {
            "tags": []
          },
          "execution_count": 55
        }
      ]
    },
    {
      "cell_type": "code",
      "metadata": {
        "id": "sOSUjNZdxw7T",
        "colab_type": "code",
        "colab": {
          "base_uri": "https://localhost:8080/",
          "height": 438
        },
        "outputId": "6facf668-288f-4da4-9d87-e18d03cfd57e"
      },
      "source": [
        "data = data.rename(columns={'Saldo Promedio':'Saldo_Promedio',\n",
        "                                   'Deuda Sistea,':'Deuda_Sistema','Sector de Impacto':'Sector_de_Impacto','Venta ':'Venta','Venta Formal':'Venta_Formal','Deuda rezagada va':'Deuda_rezagada_va'\n",
        "                                   ,'Deuda rezagada vr':'Deuda_rezagada_vr','pasivo rezagada va':'pasivo_rezagada_va','pasivo rezagada vr':'pasivo_rezagada_vr'\n",
        "                                   ,'Pasivo_desembolso da':'Pasivo_desembolso_da','Pasivo_desembolso dr':'Pasivo_desembolso dr'})\n",
        "data"
      ],
      "execution_count": 56,
      "outputs": [
        {
          "output_type": "execute_result",
          "data": {
            "text/html": [
              "<div>\n",
              "<style scoped>\n",
              "    .dataframe tbody tr th:only-of-type {\n",
              "        vertical-align: middle;\n",
              "    }\n",
              "\n",
              "    .dataframe tbody tr th {\n",
              "        vertical-align: top;\n",
              "    }\n",
              "\n",
              "    .dataframe thead th {\n",
              "        text-align: right;\n",
              "    }\n",
              "</style>\n",
              "<table border=\"1\" class=\"dataframe\">\n",
              "  <thead>\n",
              "    <tr style=\"text-align: right;\">\n",
              "      <th></th>\n",
              "      <th>Sector</th>\n",
              "      <th>Dep</th>\n",
              "      <th>Impactado</th>\n",
              "      <th>Saldo</th>\n",
              "      <th>Desembolso_mes</th>\n",
              "      <th>Saldo_Promedio</th>\n",
              "      <th>Deuda_Sistema</th>\n",
              "      <th>Pasivo</th>\n",
              "      <th>Turismo</th>\n",
              "      <th>Sector_de_Impacto</th>\n",
              "      <th>Venta</th>\n",
              "      <th>Venta_Formal</th>\n",
              "      <th>Pasivo_desembolso</th>\n",
              "      <th>Deuda_rezagada_va</th>\n",
              "      <th>Deuda_rezagada_vr</th>\n",
              "      <th>pasivo_rezagada_va</th>\n",
              "      <th>pasivo_rezagada_vr</th>\n",
              "      <th>Pasivo_desembolso_da</th>\n",
              "      <th>Pasivo_desembolso dr</th>\n",
              "    </tr>\n",
              "  </thead>\n",
              "  <tbody>\n",
              "    <tr>\n",
              "      <th>0</th>\n",
              "      <td>INDUSTRIA</td>\n",
              "      <td>Lima</td>\n",
              "      <td>0</td>\n",
              "      <td>56643.10092</td>\n",
              "      <td>0.0</td>\n",
              "      <td>28321.550460</td>\n",
              "      <td>31365.73</td>\n",
              "      <td>5876.82</td>\n",
              "      <td>0</td>\n",
              "      <td>3</td>\n",
              "      <td>108400.0</td>\n",
              "      <td>43741.08</td>\n",
              "      <td>5876.820</td>\n",
              "      <td>-800.65</td>\n",
              "      <td>-0.024891</td>\n",
              "      <td>830.82</td>\n",
              "      <td>0.164649</td>\n",
              "      <td>830.82</td>\n",
              "      <td>0.164649</td>\n",
              "    </tr>\n",
              "    <tr>\n",
              "      <th>1</th>\n",
              "      <td>COMERCIO</td>\n",
              "      <td>Arequipa</td>\n",
              "      <td>0</td>\n",
              "      <td>190313.99460</td>\n",
              "      <td>0.0</td>\n",
              "      <td>63437.998180</td>\n",
              "      <td>64864.99</td>\n",
              "      <td>4467.40</td>\n",
              "      <td>0</td>\n",
              "      <td>4</td>\n",
              "      <td>105300.0</td>\n",
              "      <td>69737.17</td>\n",
              "      <td>4467.400</td>\n",
              "      <td>-2810.52</td>\n",
              "      <td>-0.041529</td>\n",
              "      <td>-7043.43</td>\n",
              "      <td>-0.611896</td>\n",
              "      <td>-7043.43</td>\n",
              "      <td>-0.611896</td>\n",
              "    </tr>\n",
              "    <tr>\n",
              "      <th>2</th>\n",
              "      <td>SERVICIO</td>\n",
              "      <td>Amazonas</td>\n",
              "      <td>0</td>\n",
              "      <td>547601.57360</td>\n",
              "      <td>0.0</td>\n",
              "      <td>182533.857900</td>\n",
              "      <td>200239.32</td>\n",
              "      <td>5000.92</td>\n",
              "      <td>0</td>\n",
              "      <td>1</td>\n",
              "      <td>86600.0</td>\n",
              "      <td>79178.83</td>\n",
              "      <td>5000.920</td>\n",
              "      <td>653.68</td>\n",
              "      <td>0.003275</td>\n",
              "      <td>2000.92</td>\n",
              "      <td>0.666973</td>\n",
              "      <td>2000.92</td>\n",
              "      <td>0.666973</td>\n",
              "    </tr>\n",
              "    <tr>\n",
              "      <th>3</th>\n",
              "      <td>INDUSTRIA</td>\n",
              "      <td>Lima</td>\n",
              "      <td>0</td>\n",
              "      <td>283914.20840</td>\n",
              "      <td>0.0</td>\n",
              "      <td>94638.069470</td>\n",
              "      <td>112945.17</td>\n",
              "      <td>325.50</td>\n",
              "      <td>0</td>\n",
              "      <td>3</td>\n",
              "      <td>103000.0</td>\n",
              "      <td>0.00</td>\n",
              "      <td>325.500</td>\n",
              "      <td>14820.77</td>\n",
              "      <td>0.151041</td>\n",
              "      <td>-17128.30</td>\n",
              "      <td>-0.981351</td>\n",
              "      <td>-17128.30</td>\n",
              "      <td>-0.981351</td>\n",
              "    </tr>\n",
              "    <tr>\n",
              "      <th>4</th>\n",
              "      <td>COMERCIO</td>\n",
              "      <td>Cusco</td>\n",
              "      <td>0</td>\n",
              "      <td>142296.43840</td>\n",
              "      <td>0.0</td>\n",
              "      <td>47432.146120</td>\n",
              "      <td>144877.21</td>\n",
              "      <td>0.00</td>\n",
              "      <td>0</td>\n",
              "      <td>4</td>\n",
              "      <td>172920.0</td>\n",
              "      <td>171999.33</td>\n",
              "      <td>0.000</td>\n",
              "      <td>17468.60</td>\n",
              "      <td>0.137107</td>\n",
              "      <td>-2071.80</td>\n",
              "      <td>-1.000000</td>\n",
              "      <td>-2071.80</td>\n",
              "      <td>-1.000000</td>\n",
              "    </tr>\n",
              "    <tr>\n",
              "      <th>...</th>\n",
              "      <td>...</td>\n",
              "      <td>...</td>\n",
              "      <td>...</td>\n",
              "      <td>...</td>\n",
              "      <td>...</td>\n",
              "      <td>...</td>\n",
              "      <td>...</td>\n",
              "      <td>...</td>\n",
              "      <td>...</td>\n",
              "      <td>...</td>\n",
              "      <td>...</td>\n",
              "      <td>...</td>\n",
              "      <td>...</td>\n",
              "      <td>...</td>\n",
              "      <td>...</td>\n",
              "      <td>...</td>\n",
              "      <td>...</td>\n",
              "      <td>...</td>\n",
              "      <td>...</td>\n",
              "    </tr>\n",
              "    <tr>\n",
              "      <th>1993</th>\n",
              "      <td>COMERCIO</td>\n",
              "      <td>Lambayeque</td>\n",
              "      <td>1</td>\n",
              "      <td>4325.85076</td>\n",
              "      <td>0.0</td>\n",
              "      <td>1441.950253</td>\n",
              "      <td>1624.47</td>\n",
              "      <td>2558.31</td>\n",
              "      <td>0</td>\n",
              "      <td>4</td>\n",
              "      <td>30000.0</td>\n",
              "      <td>4905.00</td>\n",
              "      <td>2528.565</td>\n",
              "      <td>-710.56</td>\n",
              "      <td>-0.304304</td>\n",
              "      <td>-3174.29</td>\n",
              "      <td>-0.550924</td>\n",
              "      <td>-2548.50</td>\n",
              "      <td>-0.543144</td>\n",
              "    </tr>\n",
              "    <tr>\n",
              "      <th>1994</th>\n",
              "      <td>COMERCIO</td>\n",
              "      <td>Arequipa</td>\n",
              "      <td>1</td>\n",
              "      <td>94650.62631</td>\n",
              "      <td>0.0</td>\n",
              "      <td>31550.208770</td>\n",
              "      <td>75502.84</td>\n",
              "      <td>3029.48</td>\n",
              "      <td>0</td>\n",
              "      <td>4</td>\n",
              "      <td>32100.0</td>\n",
              "      <td>7034.00</td>\n",
              "      <td>3029.480</td>\n",
              "      <td>-5421.28</td>\n",
              "      <td>-0.066992</td>\n",
              "      <td>-10965.03</td>\n",
              "      <td>-0.783524</td>\n",
              "      <td>-10965.03</td>\n",
              "      <td>-0.783524</td>\n",
              "    </tr>\n",
              "    <tr>\n",
              "      <th>1995</th>\n",
              "      <td>COMERCIO</td>\n",
              "      <td>Lima</td>\n",
              "      <td>1</td>\n",
              "      <td>747579.33510</td>\n",
              "      <td>0.0</td>\n",
              "      <td>249193.111700</td>\n",
              "      <td>843972.49</td>\n",
              "      <td>593.99</td>\n",
              "      <td>0</td>\n",
              "      <td>3</td>\n",
              "      <td>180905.0</td>\n",
              "      <td>93482.00</td>\n",
              "      <td>593.990</td>\n",
              "      <td>6776.19</td>\n",
              "      <td>0.008094</td>\n",
              "      <td>-11589.60</td>\n",
              "      <td>-0.951247</td>\n",
              "      <td>-11589.60</td>\n",
              "      <td>-0.951247</td>\n",
              "    </tr>\n",
              "    <tr>\n",
              "      <th>1996</th>\n",
              "      <td>COMERCIO</td>\n",
              "      <td>Lima</td>\n",
              "      <td>1</td>\n",
              "      <td>18077.98187</td>\n",
              "      <td>0.0</td>\n",
              "      <td>6025.993957</td>\n",
              "      <td>122633.10</td>\n",
              "      <td>5312.64</td>\n",
              "      <td>0</td>\n",
              "      <td>3</td>\n",
              "      <td>69500.0</td>\n",
              "      <td>8333.00</td>\n",
              "      <td>5312.640</td>\n",
              "      <td>-3838.01</td>\n",
              "      <td>-0.030347</td>\n",
              "      <td>-18929.55</td>\n",
              "      <td>-0.780851</td>\n",
              "      <td>-18929.55</td>\n",
              "      <td>-0.780851</td>\n",
              "    </tr>\n",
              "    <tr>\n",
              "      <th>1997</th>\n",
              "      <td>SERVICIO</td>\n",
              "      <td>Arequipa</td>\n",
              "      <td>1</td>\n",
              "      <td>286471.03470</td>\n",
              "      <td>0.0</td>\n",
              "      <td>97561.751050</td>\n",
              "      <td>269538.61</td>\n",
              "      <td>2558.31</td>\n",
              "      <td>0</td>\n",
              "      <td>4</td>\n",
              "      <td>50514.0</td>\n",
              "      <td>4171.00</td>\n",
              "      <td>2528.565</td>\n",
              "      <td>-26220.40</td>\n",
              "      <td>-0.088655</td>\n",
              "      <td>-3174.29</td>\n",
              "      <td>-0.550924</td>\n",
              "      <td>-2548.50</td>\n",
              "      <td>-0.543144</td>\n",
              "    </tr>\n",
              "  </tbody>\n",
              "</table>\n",
              "<p>1998 rows × 19 columns</p>\n",
              "</div>"
            ],
            "text/plain": [
              "         Sector         Dep  ...  Pasivo_desembolso_da  Pasivo_desembolso dr\n",
              "0     INDUSTRIA        Lima  ...                830.82              0.164649\n",
              "1      COMERCIO    Arequipa  ...              -7043.43             -0.611896\n",
              "2      SERVICIO    Amazonas  ...               2000.92              0.666973\n",
              "3     INDUSTRIA        Lima  ...             -17128.30             -0.981351\n",
              "4      COMERCIO       Cusco  ...              -2071.80             -1.000000\n",
              "...         ...         ...  ...                   ...                   ...\n",
              "1993   COMERCIO  Lambayeque  ...              -2548.50             -0.543144\n",
              "1994   COMERCIO    Arequipa  ...             -10965.03             -0.783524\n",
              "1995   COMERCIO        Lima  ...             -11589.60             -0.951247\n",
              "1996   COMERCIO        Lima  ...             -18929.55             -0.780851\n",
              "1997   SERVICIO    Arequipa  ...              -2548.50             -0.543144\n",
              "\n",
              "[1998 rows x 19 columns]"
            ]
          },
          "metadata": {
            "tags": []
          },
          "execution_count": 56
        }
      ]
    },
    {
      "cell_type": "markdown",
      "metadata": {
        "id": "KqGpUoMWaGOX",
        "colab_type": "text"
      },
      "source": [
        "<a id='EDA'></a>\n",
        "#### 2. Exploración y Análisis de Datos\n"
      ]
    },
    {
      "cell_type": "markdown",
      "metadata": {
        "id": "CojuglUNbF3I",
        "colab_type": "text"
      },
      "source": [
        "En esta sección, estableceremos las variables independientes que brinden mayor información para nuestro analisis."
      ]
    },
    {
      "cell_type": "markdown",
      "metadata": {
        "id": "IpDePe7_afPx",
        "colab_type": "text"
      },
      "source": [
        "<a id='masafecta'></a>\n",
        "##### 2.2. ¿Que tipo de empresas pueden ser las más probables a ser afectadas?\n",
        "\n",
        "Según un informe realizado por el [IPE](https://www.ipe.org.pe/portal/wp-content/uploads/2020/05/INFORME-IPE-7.pdf) menciona que ciertos sectores de la economía son más afectados que otros. Además, Las empresas no pueden equilibrar sus ingresos con respecto a sus deudas.\n",
        "\n",
        "Esto conlleva a utilizar al sector como una variable, puesto que, si una empresa pertenece a cierto serctor, sera mas propenso a ser impactada.\n",
        "\n",
        "Asi, podemos apreciar cuales son la subvariables (sectores).\n",
        "\n",
        "Tambien se podria analizar con respecto a la ubicación (ciudad) de la empresa\n",
        "\n"
      ]
    },
    {
      "cell_type": "code",
      "metadata": {
        "id": "oLnr6c9ZRDi4",
        "colab_type": "code",
        "colab": {
          "base_uri": "https://localhost:8080/",
          "height": 326
        },
        "outputId": "2217c5fb-0bec-4480-e322-b45230442b6a"
      },
      "source": [
        "data[\"Sector\"].unique()\n",
        "plot = data['Sector'].value_counts().plot(kind='bar',\n",
        "                                            title='Sectores')"
      ],
      "execution_count": 57,
      "outputs": [
        {
          "output_type": "display_data",
          "data": {
            "image/png": "[encoded data removed]",
            "text/plain": [
              "<Figure size 432x288 with 1 Axes>"
            ]
          },
          "metadata": {
            "tags": []
          }
        }
      ]
    },
    {
      "cell_type": "markdown",
      "metadata": {
        "id": "GTFD5OeXcLB-",
        "colab_type": "text"
      },
      "source": [
        "<a id='masafecta'></a>\n",
        "##### 2.3. ¿Que determina si un cliente es impactado o no? \n",
        "\n",
        "Podrian existir distintos factores que hacen que el cliente sea impactado tales como: el sector a la que la empresa pertenece, lugar, entre otros por ejemplo, para empresa de Cine, que pertenece al sector terciario de servicios, será afectada considerablemente en su economía debido a ser un lugar propenso para el congatio lo que conllevaria tener venta 0 y una deuda considerable, un cliente consumidor de este servicio puede ser verse afectado.\n",
        "\n",
        "Por otro lado, el turismo tambien puede llegar a afectar sectores como el comercio en cada región del pais. tal como indica el grafico mostrado arriba.\n",
        "\n",
        "En resumen, cada variable mostrada en los datos contribuye de alguna manera para realizar un análisis estadistico."
      ]
    },
    {
      "cell_type": "markdown",
      "metadata": {
        "id": "viHRDX3OaO1l",
        "colab_type": "text"
      },
      "source": [
        "<a id='clean'></a>\n",
        "#### 3. Limpieza de Datos"
      ]
    },
    {
      "cell_type": "markdown",
      "metadata": {
        "id": "o0NfMV0hcmww",
        "colab_type": "text"
      },
      "source": [
        "<a id='missing'></a>\n",
        "##### 3.1. Identificación de valores Missing\n"
      ]
    },
    {
      "cell_type": "markdown",
      "metadata": {
        "id": "MeXbw0DeYoSd",
        "colab_type": "text"
      },
      "source": [
        "A continuación, iniciamos con el análisis de valores Ausentes (Missing) con el metodo \".matrix\", \".bar\" y \"isnull\"."
      ]
    },
    {
      "cell_type": "code",
      "metadata": {
        "id": "jQtnAOGHX30A",
        "colab_type": "code",
        "colab": {
          "base_uri": "https://localhost:8080/",
          "height": 572
        },
        "outputId": "c0dc693b-688f-45d1-e40f-3d1371d481d9"
      },
      "source": [
        "msno.matrix(data)"
      ],
      "execution_count": 58,
      "outputs": [
        {
          "output_type": "execute_result",
          "data": {
            "text/plain": [
              "<matplotlib.axes._subplots.AxesSubplot at 0x7fba2fd8e860>"
            ]
          },
          "metadata": {
            "tags": []
          },
          "execution_count": 58
        },
        {
          "output_type": "display_data",
          "data": {
            "image/png": "[encoded data removed]",
            "text/plain": [
              "<Figure size 1800x720 with 2 Axes>"
            ]
          },
          "metadata": {
            "tags": []
          }
        }
      ]
    },
    {
      "cell_type": "markdown",
      "metadata": {
        "id": "K10V-bpLbD_N",
        "colab_type": "text"
      },
      "source": [
        "Ahora con el método \".bar\""
      ]
    },
    {
      "cell_type": "code",
      "metadata": {
        "id": "TTE2lQKUYdoF",
        "colab_type": "code",
        "colab": {
          "base_uri": "https://localhost:8080/",
          "height": 618
        },
        "outputId": "5ff0805c-b4b3-45d4-d487-ec8cbca99d6b"
      },
      "source": [
        "msno.bar(data)"
      ],
      "execution_count": 59,
      "outputs": [
        {
          "output_type": "execute_result",
          "data": {
            "text/plain": [
              "<matplotlib.axes._subplots.AxesSubplot at 0x7fba2fce7cc0>"
            ]
          },
          "metadata": {
            "tags": []
          },
          "execution_count": 59
        },
        {
          "output_type": "display_data",
          "data": {
            "image/png": "[encoded data removed]",
            "text/plain": [
              "<Figure size 1728x720 with 3 Axes>"
            ]
          },
          "metadata": {
            "tags": []
          }
        }
      ]
    },
    {
      "cell_type": "markdown",
      "metadata": {
        "id": "AAxPU3A30Knk",
        "colab_type": "text"
      },
      "source": [
        "NÚmero de missing por columnas\n",
        "\n"
      ]
    },
    {
      "cell_type": "code",
      "metadata": {
        "id": "WcwtdlMZowQ1",
        "colab_type": "code",
        "colab": {
          "base_uri": "https://localhost:8080/",
          "height": 353
        },
        "outputId": "1fb695eb-0e69-41e0-96d6-45328fbabc7b"
      },
      "source": [
        "data.isnull().sum()"
      ],
      "execution_count": 60,
      "outputs": [
        {
          "output_type": "execute_result",
          "data": {
            "text/plain": [
              "Sector                  0\n",
              "Dep                     0\n",
              "Impactado               0\n",
              "Saldo                   0\n",
              "Desembolso_mes          0\n",
              "Saldo_Promedio          0\n",
              "Deuda_Sistema           0\n",
              "Pasivo                  0\n",
              "Turismo                 0\n",
              "Sector_de_Impacto       0\n",
              "Venta                   0\n",
              "Venta_Formal            0\n",
              "Pasivo_desembolso       0\n",
              "Deuda_rezagada_va       0\n",
              "Deuda_rezagada_vr       0\n",
              "pasivo_rezagada_va      0\n",
              "pasivo_rezagada_vr      0\n",
              "Pasivo_desembolso_da    0\n",
              "Pasivo_desembolso dr    0\n",
              "dtype: int64"
            ]
          },
          "metadata": {
            "tags": []
          },
          "execution_count": 60
        }
      ]
    },
    {
      "cell_type": "markdown",
      "metadata": {
        "id": "Jlfrz5WabSIH",
        "colab_type": "text"
      },
      "source": [
        "*   Como se puede apreciar de ambos graficos generados mediante \".matrix\" y \".bar\", se observa que el Conjunto de Datos (DataSet) no contiene valores Ausentes (Missing)\n",
        "\n",
        "Ahora verificamos el tipo de dato de cada columna"
      ]
    },
    {
      "cell_type": "code",
      "metadata": {
        "id": "bcG5nWBxzB6g",
        "colab_type": "code",
        "colab": {
          "base_uri": "https://localhost:8080/",
          "height": 454
        },
        "outputId": "1ef3d01a-915c-46fb-bfad-0c9b4f85bb12"
      },
      "source": [
        "data.info()"
      ],
      "execution_count": 61,
      "outputs": [
        {
          "output_type": "stream",
          "text": [
            "<class 'pandas.core.frame.DataFrame'>\n",
            "RangeIndex: 1998 entries, 0 to 1997\n",
            "Data columns (total 19 columns):\n",
            " #   Column                Non-Null Count  Dtype  \n",
            "---  ------                --------------  -----  \n",
            " 0   Sector                1998 non-null   object \n",
            " 1   Dep                   1998 non-null   object \n",
            " 2   Impactado             1998 non-null   int64  \n",
            " 3   Saldo                 1998 non-null   float64\n",
            " 4   Desembolso_mes        1998 non-null   float64\n",
            " 5   Saldo_Promedio        1998 non-null   float64\n",
            " 6   Deuda_Sistema         1998 non-null   float64\n",
            " 7   Pasivo                1998 non-null   float64\n",
            " 8   Turismo               1998 non-null   int64  \n",
            " 9   Sector_de_Impacto     1998 non-null   int64  \n",
            " 10  Venta                 1998 non-null   float64\n",
            " 11  Venta_Formal          1998 non-null   float64\n",
            " 12  Pasivo_desembolso     1998 non-null   float64\n",
            " 13  Deuda_rezagada_va     1998 non-null   float64\n",
            " 14  Deuda_rezagada_vr     1998 non-null   float64\n",
            " 15  pasivo_rezagada_va    1998 non-null   float64\n",
            " 16  pasivo_rezagada_vr    1998 non-null   float64\n",
            " 17  Pasivo_desembolso_da  1998 non-null   float64\n",
            " 18  Pasivo_desembolso dr  1998 non-null   float64\n",
            "dtypes: float64(14), int64(3), object(2)\n",
            "memory usage: 296.7+ KB\n"
          ],
          "name": "stdout"
        }
      ]
    },
    {
      "cell_type": "markdown",
      "metadata": {
        "id": "LYu7l-QQzKhw",
        "colab_type": "text"
      },
      "source": [
        "Aqui la unica variable que no corresponde es Turismo puesto que este deberia sea de tipo categorico."
      ]
    },
    {
      "cell_type": "markdown",
      "metadata": {
        "id": "MxRl0K0Gcx_1",
        "colab_type": "text"
      },
      "source": [
        "<a id='outlier'></a>\n",
        "##### 3.2. Identificación de valores Outliers"
      ]
    },
    {
      "cell_type": "markdown",
      "metadata": {
        "id": "0e04GTqeeVWG",
        "colab_type": "text"
      },
      "source": [
        "Como se mencionó anteriormente, los factores que intervienen para que una empresa sea afectada son, sus ventas, deudas y pasivos.\n",
        "\n",
        "Así se puede hacer un filtro de variables para inspeccionar valores atípicos."
      ]
    },
    {
      "cell_type": "code",
      "metadata": {
        "id": "8ldrJv8_sC-k",
        "colab_type": "code",
        "colab": {
          "base_uri": "https://localhost:8080/",
          "height": 218
        },
        "outputId": "bf41e6fd-e826-41df-f606-0f790c099f7c"
      },
      "source": [
        "data[\"Saldo\"]"
      ],
      "execution_count": 62,
      "outputs": [
        {
          "output_type": "execute_result",
          "data": {
            "text/plain": [
              "0        56643.10092\n",
              "1       190313.99460\n",
              "2       547601.57360\n",
              "3       283914.20840\n",
              "4       142296.43840\n",
              "            ...     \n",
              "1993      4325.85076\n",
              "1994     94650.62631\n",
              "1995    747579.33510\n",
              "1996     18077.98187\n",
              "1997    286471.03470\n",
              "Name: Saldo, Length: 1998, dtype: float64"
            ]
          },
          "metadata": {
            "tags": []
          },
          "execution_count": 62
        }
      ]
    },
    {
      "cell_type": "code",
      "metadata": {
        "id": "3i49c2DRhxef",
        "colab_type": "code",
        "colab": {
          "base_uri": "https://localhost:8080/",
          "height": 293
        },
        "outputId": "adb25822-1f1c-4dde-80c3-08a21d344584"
      },
      "source": [
        "data.Saldo.plot.box() "
      ],
      "execution_count": 63,
      "outputs": [
        {
          "output_type": "execute_result",
          "data": {
            "text/plain": [
              "<matplotlib.axes._subplots.AxesSubplot at 0x7fba317f2160>"
            ]
          },
          "metadata": {
            "tags": []
          },
          "execution_count": 63
        },
        {
          "output_type": "display_data",
          "data": {
            "image/png": "[encoded data removed]",
            "text/plain": [
              "<Figure size 432x288 with 1 Axes>"
            ]
          },
          "metadata": {
            "tags": []
          }
        }
      ]
    },
    {
      "cell_type": "markdown",
      "metadata": {
        "id": "Ja6Y1NQhez0T",
        "colab_type": "text"
      },
      "source": [
        "A partir del gráfico mostrado en la parte superior, se tiene que existen datos atípicos que podrian afectar en nuestro estudio."
      ]
    },
    {
      "cell_type": "code",
      "metadata": {
        "id": "-01wqak9gyPu",
        "colab_type": "code",
        "colab": {
          "base_uri": "https://localhost:8080/",
          "height": 34
        },
        "outputId": "46a8e8b3-a792-4a1f-87c0-9047c4dc4bc9"
      },
      "source": [
        "cotas_saldo=np.percentile(data[-data.Saldo.isnull()]['Saldo'],[1,90])\n",
        "cotas_saldo"
      ],
      "execution_count": 64,
      "outputs": [
        {
          "output_type": "execute_result",
          "data": {
            "text/plain": [
              "array([   4226.3835726, 1248246.3753   ])"
            ]
          },
          "metadata": {
            "tags": []
          },
          "execution_count": 64
        }
      ]
    },
    {
      "cell_type": "code",
      "metadata": {
        "id": "nkJh4nYgg-Ca",
        "colab_type": "code",
        "colab": {
          "base_uri": "https://localhost:8080/",
          "height": 34
        },
        "outputId": "9b193bfc-5fa7-4070-bdab-7a70e61fa673"
      },
      "source": [
        "data.loc[data.Saldo>=cotas_saldo[1],'Saldo']=cotas_saldo[1]\n",
        "data.loc[data.Saldo<=cotas_saldo[0],'Saldo']=cotas_saldo[0]\n",
        "[np.min(data.Saldo),np.max(data.Saldo)]"
      ],
      "execution_count": 65,
      "outputs": [
        {
          "output_type": "execute_result",
          "data": {
            "text/plain": [
              "[4226.383572600001, 1248246.3752999995]"
            ]
          },
          "metadata": {
            "tags": []
          },
          "execution_count": 65
        }
      ]
    },
    {
      "cell_type": "code",
      "metadata": {
        "id": "XIdR4MXGhN2z",
        "colab_type": "code",
        "colab": {
          "base_uri": "https://localhost:8080/",
          "height": 293
        },
        "outputId": "071e3b24-43e7-48d2-d2a7-5876c2933c88"
      },
      "source": [
        "data.Saldo.plot.box() #grid='True'"
      ],
      "execution_count": 66,
      "outputs": [
        {
          "output_type": "execute_result",
          "data": {
            "text/plain": [
              "<matplotlib.axes._subplots.AxesSubplot at 0x7fba317e9c88>"
            ]
          },
          "metadata": {
            "tags": []
          },
          "execution_count": 66
        },
        {
          "output_type": "display_data",
          "data": {
            "image/png": "[encoded data removed]",
            "text/plain": [
              "<Figure size 432x288 with 1 Axes>"
            ]
          },
          "metadata": {
            "tags": []
          }
        }
      ]
    },
    {
      "cell_type": "markdown",
      "metadata": {
        "id": "aIUTFZxRhTzf",
        "colab_type": "text"
      },
      "source": [
        "Mismo procedimiento para Ventas"
      ]
    },
    {
      "cell_type": "code",
      "metadata": {
        "id": "WGp8T8DofK7k",
        "colab_type": "code",
        "colab": {
          "base_uri": "https://localhost:8080/",
          "height": 218
        },
        "outputId": "e96794ca-b9f7-4ee6-c843-66646abff57c"
      },
      "source": [
        "data[\"Venta\"]"
      ],
      "execution_count": 67,
      "outputs": [
        {
          "output_type": "execute_result",
          "data": {
            "text/plain": [
              "0       108400.0\n",
              "1       105300.0\n",
              "2        86600.0\n",
              "3       103000.0\n",
              "4       172920.0\n",
              "          ...   \n",
              "1993     30000.0\n",
              "1994     32100.0\n",
              "1995    180905.0\n",
              "1996     69500.0\n",
              "1997     50514.0\n",
              "Name: Venta, Length: 1998, dtype: float64"
            ]
          },
          "metadata": {
            "tags": []
          },
          "execution_count": 67
        }
      ]
    },
    {
      "cell_type": "code",
      "metadata": {
        "id": "H49hoF1rwSst",
        "colab_type": "code",
        "colab": {
          "base_uri": "https://localhost:8080/",
          "height": 293
        },
        "outputId": "764e4b85-2936-4b12-cbce-c1da428bf745"
      },
      "source": [
        "data.Venta.plot.box() "
      ],
      "execution_count": 68,
      "outputs": [
        {
          "output_type": "execute_result",
          "data": {
            "text/plain": [
              "<matplotlib.axes._subplots.AxesSubplot at 0x7fba317d2f28>"
            ]
          },
          "metadata": {
            "tags": []
          },
          "execution_count": 68
        },
        {
          "output_type": "display_data",
          "data": {
            "image/png": "[encoded data removed]",
            "text/plain": [
              "<Figure size 432x288 with 1 Axes>"
            ]
          },
          "metadata": {
            "tags": []
          }
        }
      ]
    },
    {
      "cell_type": "code",
      "metadata": {
        "id": "QEceRS_JhaXj",
        "colab_type": "code",
        "colab": {
          "base_uri": "https://localhost:8080/",
          "height": 34
        },
        "outputId": "ace251cf-49c3-4263-e0c7-a502a496ae03"
      },
      "source": [
        "cotas_venta=np.percentile(data[-data.Venta.isnull()]['Venta'],[1,90])\n",
        "cotas_venta"
      ],
      "execution_count": 69,
      "outputs": [
        {
          "output_type": "execute_result",
          "data": {
            "text/plain": [
              "array([  8438.8  , 197429.904])"
            ]
          },
          "metadata": {
            "tags": []
          },
          "execution_count": 69
        }
      ]
    },
    {
      "cell_type": "code",
      "metadata": {
        "id": "8HML2AqAhaen",
        "colab_type": "code",
        "colab": {
          "base_uri": "https://localhost:8080/",
          "height": 34
        },
        "outputId": "1dff3a0f-e0c9-495a-c32e-222a5f7571b4"
      },
      "source": [
        "data.loc[data.Venta>=cotas_venta[1],'Venta']=cotas_venta[1]\n",
        "data.loc[data.Venta<=cotas_venta[0],'Venta']=cotas_venta[0]\n",
        "[np.min(data.Venta),np.max(data.Venta)]"
      ],
      "execution_count": 70,
      "outputs": [
        {
          "output_type": "execute_result",
          "data": {
            "text/plain": [
              "[8438.8, 197429.90399999998]"
            ]
          },
          "metadata": {
            "tags": []
          },
          "execution_count": 70
        }
      ]
    },
    {
      "cell_type": "code",
      "metadata": {
        "id": "YsPvhG_thahf",
        "colab_type": "code",
        "colab": {
          "base_uri": "https://localhost:8080/",
          "height": 293
        },
        "outputId": "c9f607ae-ff92-41e9-8a7c-dff7cc7d3715"
      },
      "source": [
        "data.Saldo.plot.box() #grid='True'"
      ],
      "execution_count": 71,
      "outputs": [
        {
          "output_type": "execute_result",
          "data": {
            "text/plain": [
              "<matplotlib.axes._subplots.AxesSubplot at 0x7fba2d0f7c50>"
            ]
          },
          "metadata": {
            "tags": []
          },
          "execution_count": 71
        },
        {
          "output_type": "display_data",
          "data": {
            "image/png": "[encoded data removed]",
            "text/plain": [
              "<Figure size 432x288 with 1 Axes>"
            ]
          },
          "metadata": {
            "tags": []
          }
        }
      ]
    },
    {
      "cell_type": "markdown",
      "metadata": {
        "id": "do8ufru2dGpf",
        "colab_type": "text"
      },
      "source": [
        "<a id='seleccion'></a>\n",
        "#### 4. Selección de características"
      ]
    },
    {
      "cell_type": "markdown",
      "metadata": {
        "id": "K_-9Qe5A1i6J",
        "colab_type": "text"
      },
      "source": [
        "La variable turismo podria ser tambien contribuyente asi que lo separamor por dummies"
      ]
    },
    {
      "cell_type": "code",
      "metadata": {
        "id": "_AybL1CwiZ5o",
        "colab_type": "code",
        "colab": {
          "base_uri": "https://localhost:8080/",
          "height": 438
        },
        "outputId": "313ccddc-2993-47d7-811e-8a0ac117c8b3"
      },
      "source": [
        "dummy_sector = pd.get_dummies(data[\"Sector\"], prefix=\"sec\")\n",
        "dummy_departamento = pd.get_dummies(data[\"Dep\"], prefix=\"dep\")\n",
        "dummy_turismo = pd.get_dummies(data[\"Turismo\"], prefix=\"turis\")\n",
        "dummy_departamento"
      ],
      "execution_count": 72,
      "outputs": [
        {
          "output_type": "execute_result",
          "data": {
            "text/html": [
              "<div>\n",
              "<style scoped>\n",
              "    .dataframe tbody tr th:only-of-type {\n",
              "        vertical-align: middle;\n",
              "    }\n",
              "\n",
              "    .dataframe tbody tr th {\n",
              "        vertical-align: top;\n",
              "    }\n",
              "\n",
              "    .dataframe thead th {\n",
              "        text-align: right;\n",
              "    }\n",
              "</style>\n",
              "<table border=\"1\" class=\"dataframe\">\n",
              "  <thead>\n",
              "    <tr style=\"text-align: right;\">\n",
              "      <th></th>\n",
              "      <th>dep_Amazonas</th>\n",
              "      <th>dep_Apurímac</th>\n",
              "      <th>dep_Arequipa</th>\n",
              "      <th>dep_Ayacucho</th>\n",
              "      <th>dep_Cajamarca</th>\n",
              "      <th>dep_Callao</th>\n",
              "      <th>dep_Cusco</th>\n",
              "      <th>dep_Huancavelica</th>\n",
              "      <th>dep_Huánuco</th>\n",
              "      <th>dep_Ica</th>\n",
              "      <th>dep_Junín</th>\n",
              "      <th>dep_La Libertad</th>\n",
              "      <th>dep_Lambayeque</th>\n",
              "      <th>dep_Lima</th>\n",
              "      <th>dep_Loreto</th>\n",
              "      <th>dep_Madre de Dios</th>\n",
              "      <th>dep_Moquegua</th>\n",
              "      <th>dep_Pasco</th>\n",
              "      <th>dep_Piura</th>\n",
              "      <th>dep_Puno</th>\n",
              "      <th>dep_San Martín</th>\n",
              "      <th>dep_Tacna</th>\n",
              "      <th>dep_Tumbes</th>\n",
              "      <th>dep_Ucayali</th>\n",
              "      <th>dep_Áncash</th>\n",
              "    </tr>\n",
              "  </thead>\n",
              "  <tbody>\n",
              "    <tr>\n",
              "      <th>0</th>\n",
              "      <td>0</td>\n",
              "      <td>0</td>\n",
              "      <td>0</td>\n",
              "      <td>0</td>\n",
              "      <td>0</td>\n",
              "      <td>0</td>\n",
              "      <td>0</td>\n",
              "      <td>0</td>\n",
              "      <td>0</td>\n",
              "      <td>0</td>\n",
              "      <td>0</td>\n",
              "      <td>0</td>\n",
              "      <td>0</td>\n",
              "      <td>1</td>\n",
              "      <td>0</td>\n",
              "      <td>0</td>\n",
              "      <td>0</td>\n",
              "      <td>0</td>\n",
              "      <td>0</td>\n",
              "      <td>0</td>\n",
              "      <td>0</td>\n",
              "      <td>0</td>\n",
              "      <td>0</td>\n",
              "      <td>0</td>\n",
              "      <td>0</td>\n",
              "    </tr>\n",
              "    <tr>\n",
              "      <th>1</th>\n",
              "      <td>0</td>\n",
              "      <td>0</td>\n",
              "      <td>1</td>\n",
              "      <td>0</td>\n",
              "      <td>0</td>\n",
              "      <td>0</td>\n",
              "      <td>0</td>\n",
              "      <td>0</td>\n",
              "      <td>0</td>\n",
              "      <td>0</td>\n",
              "      <td>0</td>\n",
              "      <td>0</td>\n",
              "      <td>0</td>\n",
              "      <td>0</td>\n",
              "      <td>0</td>\n",
              "      <td>0</td>\n",
              "      <td>0</td>\n",
              "      <td>0</td>\n",
              "      <td>0</td>\n",
              "      <td>0</td>\n",
              "      <td>0</td>\n",
              "      <td>0</td>\n",
              "      <td>0</td>\n",
              "      <td>0</td>\n",
              "      <td>0</td>\n",
              "    </tr>\n",
              "    <tr>\n",
              "      <th>2</th>\n",
              "      <td>1</td>\n",
              "      <td>0</td>\n",
              "      <td>0</td>\n",
              "      <td>0</td>\n",
              "      <td>0</td>\n",
              "      <td>0</td>\n",
              "      <td>0</td>\n",
              "      <td>0</td>\n",
              "      <td>0</td>\n",
              "      <td>0</td>\n",
              "      <td>0</td>\n",
              "      <td>0</td>\n",
              "      <td>0</td>\n",
              "      <td>0</td>\n",
              "      <td>0</td>\n",
              "      <td>0</td>\n",
              "      <td>0</td>\n",
              "      <td>0</td>\n",
              "      <td>0</td>\n",
              "      <td>0</td>\n",
              "      <td>0</td>\n",
              "      <td>0</td>\n",
              "      <td>0</td>\n",
              "      <td>0</td>\n",
              "      <td>0</td>\n",
              "    </tr>\n",
              "    <tr>\n",
              "      <th>3</th>\n",
              "      <td>0</td>\n",
              "      <td>0</td>\n",
              "      <td>0</td>\n",
              "      <td>0</td>\n",
              "      <td>0</td>\n",
              "      <td>0</td>\n",
              "      <td>0</td>\n",
              "      <td>0</td>\n",
              "      <td>0</td>\n",
              "      <td>0</td>\n",
              "      <td>0</td>\n",
              "      <td>0</td>\n",
              "      <td>0</td>\n",
              "      <td>1</td>\n",
              "      <td>0</td>\n",
              "      <td>0</td>\n",
              "      <td>0</td>\n",
              "      <td>0</td>\n",
              "      <td>0</td>\n",
              "      <td>0</td>\n",
              "      <td>0</td>\n",
              "      <td>0</td>\n",
              "      <td>0</td>\n",
              "      <td>0</td>\n",
              "      <td>0</td>\n",
              "    </tr>\n",
              "    <tr>\n",
              "      <th>4</th>\n",
              "      <td>0</td>\n",
              "      <td>0</td>\n",
              "      <td>0</td>\n",
              "      <td>0</td>\n",
              "      <td>0</td>\n",
              "      <td>0</td>\n",
              "      <td>1</td>\n",
              "      <td>0</td>\n",
              "      <td>0</td>\n",
              "      <td>0</td>\n",
              "      <td>0</td>\n",
              "      <td>0</td>\n",
              "      <td>0</td>\n",
              "      <td>0</td>\n",
              "      <td>0</td>\n",
              "      <td>0</td>\n",
              "      <td>0</td>\n",
              "      <td>0</td>\n",
              "      <td>0</td>\n",
              "      <td>0</td>\n",
              "      <td>0</td>\n",
              "      <td>0</td>\n",
              "      <td>0</td>\n",
              "      <td>0</td>\n",
              "      <td>0</td>\n",
              "    </tr>\n",
              "    <tr>\n",
              "      <th>...</th>\n",
              "      <td>...</td>\n",
              "      <td>...</td>\n",
              "      <td>...</td>\n",
              "      <td>...</td>\n",
              "      <td>...</td>\n",
              "      <td>...</td>\n",
              "      <td>...</td>\n",
              "      <td>...</td>\n",
              "      <td>...</td>\n",
              "      <td>...</td>\n",
              "      <td>...</td>\n",
              "      <td>...</td>\n",
              "      <td>...</td>\n",
              "      <td>...</td>\n",
              "      <td>...</td>\n",
              "      <td>...</td>\n",
              "      <td>...</td>\n",
              "      <td>...</td>\n",
              "      <td>...</td>\n",
              "      <td>...</td>\n",
              "      <td>...</td>\n",
              "      <td>...</td>\n",
              "      <td>...</td>\n",
              "      <td>...</td>\n",
              "      <td>...</td>\n",
              "    </tr>\n",
              "    <tr>\n",
              "      <th>1993</th>\n",
              "      <td>0</td>\n",
              "      <td>0</td>\n",
              "      <td>0</td>\n",
              "      <td>0</td>\n",
              "      <td>0</td>\n",
              "      <td>0</td>\n",
              "      <td>0</td>\n",
              "      <td>0</td>\n",
              "      <td>0</td>\n",
              "      <td>0</td>\n",
              "      <td>0</td>\n",
              "      <td>0</td>\n",
              "      <td>1</td>\n",
              "      <td>0</td>\n",
              "      <td>0</td>\n",
              "      <td>0</td>\n",
              "      <td>0</td>\n",
              "      <td>0</td>\n",
              "      <td>0</td>\n",
              "      <td>0</td>\n",
              "      <td>0</td>\n",
              "      <td>0</td>\n",
              "      <td>0</td>\n",
              "      <td>0</td>\n",
              "      <td>0</td>\n",
              "    </tr>\n",
              "    <tr>\n",
              "      <th>1994</th>\n",
              "      <td>0</td>\n",
              "      <td>0</td>\n",
              "      <td>1</td>\n",
              "      <td>0</td>\n",
              "      <td>0</td>\n",
              "      <td>0</td>\n",
              "      <td>0</td>\n",
              "      <td>0</td>\n",
              "      <td>0</td>\n",
              "      <td>0</td>\n",
              "      <td>0</td>\n",
              "      <td>0</td>\n",
              "      <td>0</td>\n",
              "      <td>0</td>\n",
              "      <td>0</td>\n",
              "      <td>0</td>\n",
              "      <td>0</td>\n",
              "      <td>0</td>\n",
              "      <td>0</td>\n",
              "      <td>0</td>\n",
              "      <td>0</td>\n",
              "      <td>0</td>\n",
              "      <td>0</td>\n",
              "      <td>0</td>\n",
              "      <td>0</td>\n",
              "    </tr>\n",
              "    <tr>\n",
              "      <th>1995</th>\n",
              "      <td>0</td>\n",
              "      <td>0</td>\n",
              "      <td>0</td>\n",
              "      <td>0</td>\n",
              "      <td>0</td>\n",
              "      <td>0</td>\n",
              "      <td>0</td>\n",
              "      <td>0</td>\n",
              "      <td>0</td>\n",
              "      <td>0</td>\n",
              "      <td>0</td>\n",
              "      <td>0</td>\n",
              "      <td>0</td>\n",
              "      <td>1</td>\n",
              "      <td>0</td>\n",
              "      <td>0</td>\n",
              "      <td>0</td>\n",
              "      <td>0</td>\n",
              "      <td>0</td>\n",
              "      <td>0</td>\n",
              "      <td>0</td>\n",
              "      <td>0</td>\n",
              "      <td>0</td>\n",
              "      <td>0</td>\n",
              "      <td>0</td>\n",
              "    </tr>\n",
              "    <tr>\n",
              "      <th>1996</th>\n",
              "      <td>0</td>\n",
              "      <td>0</td>\n",
              "      <td>0</td>\n",
              "      <td>0</td>\n",
              "      <td>0</td>\n",
              "      <td>0</td>\n",
              "      <td>0</td>\n",
              "      <td>0</td>\n",
              "      <td>0</td>\n",
              "      <td>0</td>\n",
              "      <td>0</td>\n",
              "      <td>0</td>\n",
              "      <td>0</td>\n",
              "      <td>1</td>\n",
              "      <td>0</td>\n",
              "      <td>0</td>\n",
              "      <td>0</td>\n",
              "      <td>0</td>\n",
              "      <td>0</td>\n",
              "      <td>0</td>\n",
              "      <td>0</td>\n",
              "      <td>0</td>\n",
              "      <td>0</td>\n",
              "      <td>0</td>\n",
              "      <td>0</td>\n",
              "    </tr>\n",
              "    <tr>\n",
              "      <th>1997</th>\n",
              "      <td>0</td>\n",
              "      <td>0</td>\n",
              "      <td>1</td>\n",
              "      <td>0</td>\n",
              "      <td>0</td>\n",
              "      <td>0</td>\n",
              "      <td>0</td>\n",
              "      <td>0</td>\n",
              "      <td>0</td>\n",
              "      <td>0</td>\n",
              "      <td>0</td>\n",
              "      <td>0</td>\n",
              "      <td>0</td>\n",
              "      <td>0</td>\n",
              "      <td>0</td>\n",
              "      <td>0</td>\n",
              "      <td>0</td>\n",
              "      <td>0</td>\n",
              "      <td>0</td>\n",
              "      <td>0</td>\n",
              "      <td>0</td>\n",
              "      <td>0</td>\n",
              "      <td>0</td>\n",
              "      <td>0</td>\n",
              "      <td>0</td>\n",
              "    </tr>\n",
              "  </tbody>\n",
              "</table>\n",
              "<p>1998 rows × 25 columns</p>\n",
              "</div>"
            ],
            "text/plain": [
              "      dep_Amazonas  dep_Apurímac  ...  dep_Ucayali  dep_Áncash\n",
              "0                0             0  ...            0           0\n",
              "1                0             0  ...            0           0\n",
              "2                1             0  ...            0           0\n",
              "3                0             0  ...            0           0\n",
              "4                0             0  ...            0           0\n",
              "...            ...           ...  ...          ...         ...\n",
              "1993             0             0  ...            0           0\n",
              "1994             0             0  ...            0           0\n",
              "1995             0             0  ...            0           0\n",
              "1996             0             0  ...            0           0\n",
              "1997             0             0  ...            0           0\n",
              "\n",
              "[1998 rows x 25 columns]"
            ]
          },
          "metadata": {
            "tags": []
          },
          "execution_count": 72
        }
      ]
    },
    {
      "cell_type": "code",
      "metadata": {
        "id": "mWBhtMe6iZ3K",
        "colab_type": "code",
        "colab": {
          "base_uri": "https://localhost:8080/",
          "height": 438
        },
        "outputId": "b89ab822-f839-4ef3-a2b8-378cdf6798fc"
      },
      "source": [
        "data=pd.concat([data,dummy_sector,dummy_turismo,dummy_departamento],axis=1)\n",
        "data"
      ],
      "execution_count": 73,
      "outputs": [
        {
          "output_type": "execute_result",
          "data": {
            "text/html": [
              "<div>\n",
              "<style scoped>\n",
              "    .dataframe tbody tr th:only-of-type {\n",
              "        vertical-align: middle;\n",
              "    }\n",
              "\n",
              "    .dataframe tbody tr th {\n",
              "        vertical-align: top;\n",
              "    }\n",
              "\n",
              "    .dataframe thead th {\n",
              "        text-align: right;\n",
              "    }\n",
              "</style>\n",
              "<table border=\"1\" class=\"dataframe\">\n",
              "  <thead>\n",
              "    <tr style=\"text-align: right;\">\n",
              "      <th></th>\n",
              "      <th>Sector</th>\n",
              "      <th>Dep</th>\n",
              "      <th>Impactado</th>\n",
              "      <th>Saldo</th>\n",
              "      <th>Desembolso_mes</th>\n",
              "      <th>Saldo_Promedio</th>\n",
              "      <th>Deuda_Sistema</th>\n",
              "      <th>Pasivo</th>\n",
              "      <th>Turismo</th>\n",
              "      <th>Sector_de_Impacto</th>\n",
              "      <th>Venta</th>\n",
              "      <th>Venta_Formal</th>\n",
              "      <th>Pasivo_desembolso</th>\n",
              "      <th>Deuda_rezagada_va</th>\n",
              "      <th>Deuda_rezagada_vr</th>\n",
              "      <th>pasivo_rezagada_va</th>\n",
              "      <th>pasivo_rezagada_vr</th>\n",
              "      <th>Pasivo_desembolso_da</th>\n",
              "      <th>Pasivo_desembolso dr</th>\n",
              "      <th>sec_COMERCIO</th>\n",
              "      <th>sec_INDUSTRIA</th>\n",
              "      <th>sec_SERVICIO</th>\n",
              "      <th>turis_0</th>\n",
              "      <th>turis_1</th>\n",
              "      <th>dep_Amazonas</th>\n",
              "      <th>dep_Apurímac</th>\n",
              "      <th>dep_Arequipa</th>\n",
              "      <th>dep_Ayacucho</th>\n",
              "      <th>dep_Cajamarca</th>\n",
              "      <th>dep_Callao</th>\n",
              "      <th>dep_Cusco</th>\n",
              "      <th>dep_Huancavelica</th>\n",
              "      <th>dep_Huánuco</th>\n",
              "      <th>dep_Ica</th>\n",
              "      <th>dep_Junín</th>\n",
              "      <th>dep_La Libertad</th>\n",
              "      <th>dep_Lambayeque</th>\n",
              "      <th>dep_Lima</th>\n",
              "      <th>dep_Loreto</th>\n",
              "      <th>dep_Madre de Dios</th>\n",
              "      <th>dep_Moquegua</th>\n",
              "      <th>dep_Pasco</th>\n",
              "      <th>dep_Piura</th>\n",
              "      <th>dep_Puno</th>\n",
              "      <th>dep_San Martín</th>\n",
              "      <th>dep_Tacna</th>\n",
              "      <th>dep_Tumbes</th>\n",
              "      <th>dep_Ucayali</th>\n",
              "      <th>dep_Áncash</th>\n",
              "    </tr>\n",
              "  </thead>\n",
              "  <tbody>\n",
              "    <tr>\n",
              "      <th>0</th>\n",
              "      <td>INDUSTRIA</td>\n",
              "      <td>Lima</td>\n",
              "      <td>0</td>\n",
              "      <td>56643.10092</td>\n",
              "      <td>0.0</td>\n",
              "      <td>28321.550460</td>\n",
              "      <td>31365.73</td>\n",
              "      <td>5876.82</td>\n",
              "      <td>0</td>\n",
              "      <td>3</td>\n",
              "      <td>108400.0</td>\n",
              "      <td>43741.08</td>\n",
              "      <td>5876.820</td>\n",
              "      <td>-800.65</td>\n",
              "      <td>-0.024891</td>\n",
              "      <td>830.82</td>\n",
              "      <td>0.164649</td>\n",
              "      <td>830.82</td>\n",
              "      <td>0.164649</td>\n",
              "      <td>0</td>\n",
              "      <td>1</td>\n",
              "      <td>0</td>\n",
              "      <td>1</td>\n",
              "      <td>0</td>\n",
              "      <td>0</td>\n",
              "      <td>0</td>\n",
              "      <td>0</td>\n",
              "      <td>0</td>\n",
              "      <td>0</td>\n",
              "      <td>0</td>\n",
              "      <td>0</td>\n",
              "      <td>0</td>\n",
              "      <td>0</td>\n",
              "      <td>0</td>\n",
              "      <td>0</td>\n",
              "      <td>0</td>\n",
              "      <td>0</td>\n",
              "      <td>1</td>\n",
              "      <td>0</td>\n",
              "      <td>0</td>\n",
              "      <td>0</td>\n",
              "      <td>0</td>\n",
              "      <td>0</td>\n",
              "      <td>0</td>\n",
              "      <td>0</td>\n",
              "      <td>0</td>\n",
              "      <td>0</td>\n",
              "      <td>0</td>\n",
              "      <td>0</td>\n",
              "    </tr>\n",
              "    <tr>\n",
              "      <th>1</th>\n",
              "      <td>COMERCIO</td>\n",
              "      <td>Arequipa</td>\n",
              "      <td>0</td>\n",
              "      <td>190313.99460</td>\n",
              "      <td>0.0</td>\n",
              "      <td>63437.998180</td>\n",
              "      <td>64864.99</td>\n",
              "      <td>4467.40</td>\n",
              "      <td>0</td>\n",
              "      <td>4</td>\n",
              "      <td>105300.0</td>\n",
              "      <td>69737.17</td>\n",
              "      <td>4467.400</td>\n",
              "      <td>-2810.52</td>\n",
              "      <td>-0.041529</td>\n",
              "      <td>-7043.43</td>\n",
              "      <td>-0.611896</td>\n",
              "      <td>-7043.43</td>\n",
              "      <td>-0.611896</td>\n",
              "      <td>1</td>\n",
              "      <td>0</td>\n",
              "      <td>0</td>\n",
              "      <td>1</td>\n",
              "      <td>0</td>\n",
              "      <td>0</td>\n",
              "      <td>0</td>\n",
              "      <td>1</td>\n",
              "      <td>0</td>\n",
              "      <td>0</td>\n",
              "      <td>0</td>\n",
              "      <td>0</td>\n",
              "      <td>0</td>\n",
              "      <td>0</td>\n",
              "      <td>0</td>\n",
              "      <td>0</td>\n",
              "      <td>0</td>\n",
              "      <td>0</td>\n",
              "      <td>0</td>\n",
              "      <td>0</td>\n",
              "      <td>0</td>\n",
              "      <td>0</td>\n",
              "      <td>0</td>\n",
              "      <td>0</td>\n",
              "      <td>0</td>\n",
              "      <td>0</td>\n",
              "      <td>0</td>\n",
              "      <td>0</td>\n",
              "      <td>0</td>\n",
              "      <td>0</td>\n",
              "    </tr>\n",
              "    <tr>\n",
              "      <th>2</th>\n",
              "      <td>SERVICIO</td>\n",
              "      <td>Amazonas</td>\n",
              "      <td>0</td>\n",
              "      <td>547601.57360</td>\n",
              "      <td>0.0</td>\n",
              "      <td>182533.857900</td>\n",
              "      <td>200239.32</td>\n",
              "      <td>5000.92</td>\n",
              "      <td>0</td>\n",
              "      <td>1</td>\n",
              "      <td>86600.0</td>\n",
              "      <td>79178.83</td>\n",
              "      <td>5000.920</td>\n",
              "      <td>653.68</td>\n",
              "      <td>0.003275</td>\n",
              "      <td>2000.92</td>\n",
              "      <td>0.666973</td>\n",
              "      <td>2000.92</td>\n",
              "      <td>0.666973</td>\n",
              "      <td>0</td>\n",
              "      <td>0</td>\n",
              "      <td>1</td>\n",
              "      <td>1</td>\n",
              "      <td>0</td>\n",
              "      <td>1</td>\n",
              "      <td>0</td>\n",
              "      <td>0</td>\n",
              "      <td>0</td>\n",
              "      <td>0</td>\n",
              "      <td>0</td>\n",
              "      <td>0</td>\n",
              "      <td>0</td>\n",
              "      <td>0</td>\n",
              "      <td>0</td>\n",
              "      <td>0</td>\n",
              "      <td>0</td>\n",
              "      <td>0</td>\n",
              "      <td>0</td>\n",
              "      <td>0</td>\n",
              "      <td>0</td>\n",
              "      <td>0</td>\n",
              "      <td>0</td>\n",
              "      <td>0</td>\n",
              "      <td>0</td>\n",
              "      <td>0</td>\n",
              "      <td>0</td>\n",
              "      <td>0</td>\n",
              "      <td>0</td>\n",
              "      <td>0</td>\n",
              "    </tr>\n",
              "    <tr>\n",
              "      <th>3</th>\n",
              "      <td>INDUSTRIA</td>\n",
              "      <td>Lima</td>\n",
              "      <td>0</td>\n",
              "      <td>283914.20840</td>\n",
              "      <td>0.0</td>\n",
              "      <td>94638.069470</td>\n",
              "      <td>112945.17</td>\n",
              "      <td>325.50</td>\n",
              "      <td>0</td>\n",
              "      <td>3</td>\n",
              "      <td>103000.0</td>\n",
              "      <td>0.00</td>\n",
              "      <td>325.500</td>\n",
              "      <td>14820.77</td>\n",
              "      <td>0.151041</td>\n",
              "      <td>-17128.30</td>\n",
              "      <td>-0.981351</td>\n",
              "      <td>-17128.30</td>\n",
              "      <td>-0.981351</td>\n",
              "      <td>0</td>\n",
              "      <td>1</td>\n",
              "      <td>0</td>\n",
              "      <td>1</td>\n",
              "      <td>0</td>\n",
              "      <td>0</td>\n",
              "      <td>0</td>\n",
              "      <td>0</td>\n",
              "      <td>0</td>\n",
              "      <td>0</td>\n",
              "      <td>0</td>\n",
              "      <td>0</td>\n",
              "      <td>0</td>\n",
              "      <td>0</td>\n",
              "      <td>0</td>\n",
              "      <td>0</td>\n",
              "      <td>0</td>\n",
              "      <td>0</td>\n",
              "      <td>1</td>\n",
              "      <td>0</td>\n",
              "      <td>0</td>\n",
              "      <td>0</td>\n",
              "      <td>0</td>\n",
              "      <td>0</td>\n",
              "      <td>0</td>\n",
              "      <td>0</td>\n",
              "      <td>0</td>\n",
              "      <td>0</td>\n",
              "      <td>0</td>\n",
              "      <td>0</td>\n",
              "    </tr>\n",
              "    <tr>\n",
              "      <th>4</th>\n",
              "      <td>COMERCIO</td>\n",
              "      <td>Cusco</td>\n",
              "      <td>0</td>\n",
              "      <td>142296.43840</td>\n",
              "      <td>0.0</td>\n",
              "      <td>47432.146120</td>\n",
              "      <td>144877.21</td>\n",
              "      <td>0.00</td>\n",
              "      <td>0</td>\n",
              "      <td>4</td>\n",
              "      <td>172920.0</td>\n",
              "      <td>171999.33</td>\n",
              "      <td>0.000</td>\n",
              "      <td>17468.60</td>\n",
              "      <td>0.137107</td>\n",
              "      <td>-2071.80</td>\n",
              "      <td>-1.000000</td>\n",
              "      <td>-2071.80</td>\n",
              "      <td>-1.000000</td>\n",
              "      <td>1</td>\n",
              "      <td>0</td>\n",
              "      <td>0</td>\n",
              "      <td>1</td>\n",
              "      <td>0</td>\n",
              "      <td>0</td>\n",
              "      <td>0</td>\n",
              "      <td>0</td>\n",
              "      <td>0</td>\n",
              "      <td>0</td>\n",
              "      <td>0</td>\n",
              "      <td>1</td>\n",
              "      <td>0</td>\n",
              "      <td>0</td>\n",
              "      <td>0</td>\n",
              "      <td>0</td>\n",
              "      <td>0</td>\n",
              "      <td>0</td>\n",
              "      <td>0</td>\n",
              "      <td>0</td>\n",
              "      <td>0</td>\n",
              "      <td>0</td>\n",
              "      <td>0</td>\n",
              "      <td>0</td>\n",
              "      <td>0</td>\n",
              "      <td>0</td>\n",
              "      <td>0</td>\n",
              "      <td>0</td>\n",
              "      <td>0</td>\n",
              "      <td>0</td>\n",
              "    </tr>\n",
              "    <tr>\n",
              "      <th>...</th>\n",
              "      <td>...</td>\n",
              "      <td>...</td>\n",
              "      <td>...</td>\n",
              "      <td>...</td>\n",
              "      <td>...</td>\n",
              "      <td>...</td>\n",
              "      <td>...</td>\n",
              "      <td>...</td>\n",
              "      <td>...</td>\n",
              "      <td>...</td>\n",
              "      <td>...</td>\n",
              "      <td>...</td>\n",
              "      <td>...</td>\n",
              "      <td>...</td>\n",
              "      <td>...</td>\n",
              "      <td>...</td>\n",
              "      <td>...</td>\n",
              "      <td>...</td>\n",
              "      <td>...</td>\n",
              "      <td>...</td>\n",
              "      <td>...</td>\n",
              "      <td>...</td>\n",
              "      <td>...</td>\n",
              "      <td>...</td>\n",
              "      <td>...</td>\n",
              "      <td>...</td>\n",
              "      <td>...</td>\n",
              "      <td>...</td>\n",
              "      <td>...</td>\n",
              "      <td>...</td>\n",
              "      <td>...</td>\n",
              "      <td>...</td>\n",
              "      <td>...</td>\n",
              "      <td>...</td>\n",
              "      <td>...</td>\n",
              "      <td>...</td>\n",
              "      <td>...</td>\n",
              "      <td>...</td>\n",
              "      <td>...</td>\n",
              "      <td>...</td>\n",
              "      <td>...</td>\n",
              "      <td>...</td>\n",
              "      <td>...</td>\n",
              "      <td>...</td>\n",
              "      <td>...</td>\n",
              "      <td>...</td>\n",
              "      <td>...</td>\n",
              "      <td>...</td>\n",
              "      <td>...</td>\n",
              "    </tr>\n",
              "    <tr>\n",
              "      <th>1993</th>\n",
              "      <td>COMERCIO</td>\n",
              "      <td>Lambayeque</td>\n",
              "      <td>1</td>\n",
              "      <td>4325.85076</td>\n",
              "      <td>0.0</td>\n",
              "      <td>1441.950253</td>\n",
              "      <td>1624.47</td>\n",
              "      <td>2558.31</td>\n",
              "      <td>0</td>\n",
              "      <td>4</td>\n",
              "      <td>30000.0</td>\n",
              "      <td>4905.00</td>\n",
              "      <td>2528.565</td>\n",
              "      <td>-710.56</td>\n",
              "      <td>-0.304304</td>\n",
              "      <td>-3174.29</td>\n",
              "      <td>-0.550924</td>\n",
              "      <td>-2548.50</td>\n",
              "      <td>-0.543144</td>\n",
              "      <td>1</td>\n",
              "      <td>0</td>\n",
              "      <td>0</td>\n",
              "      <td>1</td>\n",
              "      <td>0</td>\n",
              "      <td>0</td>\n",
              "      <td>0</td>\n",
              "      <td>0</td>\n",
              "      <td>0</td>\n",
              "      <td>0</td>\n",
              "      <td>0</td>\n",
              "      <td>0</td>\n",
              "      <td>0</td>\n",
              "      <td>0</td>\n",
              "      <td>0</td>\n",
              "      <td>0</td>\n",
              "      <td>0</td>\n",
              "      <td>1</td>\n",
              "      <td>0</td>\n",
              "      <td>0</td>\n",
              "      <td>0</td>\n",
              "      <td>0</td>\n",
              "      <td>0</td>\n",
              "      <td>0</td>\n",
              "      <td>0</td>\n",
              "      <td>0</td>\n",
              "      <td>0</td>\n",
              "      <td>0</td>\n",
              "      <td>0</td>\n",
              "      <td>0</td>\n",
              "    </tr>\n",
              "    <tr>\n",
              "      <th>1994</th>\n",
              "      <td>COMERCIO</td>\n",
              "      <td>Arequipa</td>\n",
              "      <td>1</td>\n",
              "      <td>94650.62631</td>\n",
              "      <td>0.0</td>\n",
              "      <td>31550.208770</td>\n",
              "      <td>75502.84</td>\n",
              "      <td>3029.48</td>\n",
              "      <td>0</td>\n",
              "      <td>4</td>\n",
              "      <td>32100.0</td>\n",
              "      <td>7034.00</td>\n",
              "      <td>3029.480</td>\n",
              "      <td>-5421.28</td>\n",
              "      <td>-0.066992</td>\n",
              "      <td>-10965.03</td>\n",
              "      <td>-0.783524</td>\n",
              "      <td>-10965.03</td>\n",
              "      <td>-0.783524</td>\n",
              "      <td>1</td>\n",
              "      <td>0</td>\n",
              "      <td>0</td>\n",
              "      <td>1</td>\n",
              "      <td>0</td>\n",
              "      <td>0</td>\n",
              "      <td>0</td>\n",
              "      <td>1</td>\n",
              "      <td>0</td>\n",
              "      <td>0</td>\n",
              "      <td>0</td>\n",
              "      <td>0</td>\n",
              "      <td>0</td>\n",
              "      <td>0</td>\n",
              "      <td>0</td>\n",
              "      <td>0</td>\n",
              "      <td>0</td>\n",
              "      <td>0</td>\n",
              "      <td>0</td>\n",
              "      <td>0</td>\n",
              "      <td>0</td>\n",
              "      <td>0</td>\n",
              "      <td>0</td>\n",
              "      <td>0</td>\n",
              "      <td>0</td>\n",
              "      <td>0</td>\n",
              "      <td>0</td>\n",
              "      <td>0</td>\n",
              "      <td>0</td>\n",
              "      <td>0</td>\n",
              "    </tr>\n",
              "    <tr>\n",
              "      <th>1995</th>\n",
              "      <td>COMERCIO</td>\n",
              "      <td>Lima</td>\n",
              "      <td>1</td>\n",
              "      <td>747579.33510</td>\n",
              "      <td>0.0</td>\n",
              "      <td>249193.111700</td>\n",
              "      <td>843972.49</td>\n",
              "      <td>593.99</td>\n",
              "      <td>0</td>\n",
              "      <td>3</td>\n",
              "      <td>180905.0</td>\n",
              "      <td>93482.00</td>\n",
              "      <td>593.990</td>\n",
              "      <td>6776.19</td>\n",
              "      <td>0.008094</td>\n",
              "      <td>-11589.60</td>\n",
              "      <td>-0.951247</td>\n",
              "      <td>-11589.60</td>\n",
              "      <td>-0.951247</td>\n",
              "      <td>1</td>\n",
              "      <td>0</td>\n",
              "      <td>0</td>\n",
              "      <td>1</td>\n",
              "      <td>0</td>\n",
              "      <td>0</td>\n",
              "      <td>0</td>\n",
              "      <td>0</td>\n",
              "      <td>0</td>\n",
              "      <td>0</td>\n",
              "      <td>0</td>\n",
              "      <td>0</td>\n",
              "      <td>0</td>\n",
              "      <td>0</td>\n",
              "      <td>0</td>\n",
              "      <td>0</td>\n",
              "      <td>0</td>\n",
              "      <td>0</td>\n",
              "      <td>1</td>\n",
              "      <td>0</td>\n",
              "      <td>0</td>\n",
              "      <td>0</td>\n",
              "      <td>0</td>\n",
              "      <td>0</td>\n",
              "      <td>0</td>\n",
              "      <td>0</td>\n",
              "      <td>0</td>\n",
              "      <td>0</td>\n",
              "      <td>0</td>\n",
              "      <td>0</td>\n",
              "    </tr>\n",
              "    <tr>\n",
              "      <th>1996</th>\n",
              "      <td>COMERCIO</td>\n",
              "      <td>Lima</td>\n",
              "      <td>1</td>\n",
              "      <td>18077.98187</td>\n",
              "      <td>0.0</td>\n",
              "      <td>6025.993957</td>\n",
              "      <td>122633.10</td>\n",
              "      <td>5312.64</td>\n",
              "      <td>0</td>\n",
              "      <td>3</td>\n",
              "      <td>69500.0</td>\n",
              "      <td>8333.00</td>\n",
              "      <td>5312.640</td>\n",
              "      <td>-3838.01</td>\n",
              "      <td>-0.030347</td>\n",
              "      <td>-18929.55</td>\n",
              "      <td>-0.780851</td>\n",
              "      <td>-18929.55</td>\n",
              "      <td>-0.780851</td>\n",
              "      <td>1</td>\n",
              "      <td>0</td>\n",
              "      <td>0</td>\n",
              "      <td>1</td>\n",
              "      <td>0</td>\n",
              "      <td>0</td>\n",
              "      <td>0</td>\n",
              "      <td>0</td>\n",
              "      <td>0</td>\n",
              "      <td>0</td>\n",
              "      <td>0</td>\n",
              "      <td>0</td>\n",
              "      <td>0</td>\n",
              "      <td>0</td>\n",
              "      <td>0</td>\n",
              "      <td>0</td>\n",
              "      <td>0</td>\n",
              "      <td>0</td>\n",
              "      <td>1</td>\n",
              "      <td>0</td>\n",
              "      <td>0</td>\n",
              "      <td>0</td>\n",
              "      <td>0</td>\n",
              "      <td>0</td>\n",
              "      <td>0</td>\n",
              "      <td>0</td>\n",
              "      <td>0</td>\n",
              "      <td>0</td>\n",
              "      <td>0</td>\n",
              "      <td>0</td>\n",
              "    </tr>\n",
              "    <tr>\n",
              "      <th>1997</th>\n",
              "      <td>SERVICIO</td>\n",
              "      <td>Arequipa</td>\n",
              "      <td>1</td>\n",
              "      <td>286471.03470</td>\n",
              "      <td>0.0</td>\n",
              "      <td>97561.751050</td>\n",
              "      <td>269538.61</td>\n",
              "      <td>2558.31</td>\n",
              "      <td>0</td>\n",
              "      <td>4</td>\n",
              "      <td>50514.0</td>\n",
              "      <td>4171.00</td>\n",
              "      <td>2528.565</td>\n",
              "      <td>-26220.40</td>\n",
              "      <td>-0.088655</td>\n",
              "      <td>-3174.29</td>\n",
              "      <td>-0.550924</td>\n",
              "      <td>-2548.50</td>\n",
              "      <td>-0.543144</td>\n",
              "      <td>0</td>\n",
              "      <td>0</td>\n",
              "      <td>1</td>\n",
              "      <td>1</td>\n",
              "      <td>0</td>\n",
              "      <td>0</td>\n",
              "      <td>0</td>\n",
              "      <td>1</td>\n",
              "      <td>0</td>\n",
              "      <td>0</td>\n",
              "      <td>0</td>\n",
              "      <td>0</td>\n",
              "      <td>0</td>\n",
              "      <td>0</td>\n",
              "      <td>0</td>\n",
              "      <td>0</td>\n",
              "      <td>0</td>\n",
              "      <td>0</td>\n",
              "      <td>0</td>\n",
              "      <td>0</td>\n",
              "      <td>0</td>\n",
              "      <td>0</td>\n",
              "      <td>0</td>\n",
              "      <td>0</td>\n",
              "      <td>0</td>\n",
              "      <td>0</td>\n",
              "      <td>0</td>\n",
              "      <td>0</td>\n",
              "      <td>0</td>\n",
              "      <td>0</td>\n",
              "    </tr>\n",
              "  </tbody>\n",
              "</table>\n",
              "<p>1998 rows × 49 columns</p>\n",
              "</div>"
            ],
            "text/plain": [
              "         Sector         Dep  Impactado  ...  dep_Tumbes  dep_Ucayali  dep_Áncash\n",
              "0     INDUSTRIA        Lima          0  ...           0            0           0\n",
              "1      COMERCIO    Arequipa          0  ...           0            0           0\n",
              "2      SERVICIO    Amazonas          0  ...           0            0           0\n",
              "3     INDUSTRIA        Lima          0  ...           0            0           0\n",
              "4      COMERCIO       Cusco          0  ...           0            0           0\n",
              "...         ...         ...        ...  ...         ...          ...         ...\n",
              "1993   COMERCIO  Lambayeque          1  ...           0            0           0\n",
              "1994   COMERCIO    Arequipa          1  ...           0            0           0\n",
              "1995   COMERCIO        Lima          1  ...           0            0           0\n",
              "1996   COMERCIO        Lima          1  ...           0            0           0\n",
              "1997   SERVICIO    Arequipa          1  ...           0            0           0\n",
              "\n",
              "[1998 rows x 49 columns]"
            ]
          },
          "metadata": {
            "tags": []
          },
          "execution_count": 73
        }
      ]
    },
    {
      "cell_type": "markdown",
      "metadata": {
        "id": "Hs8ruwCwPmPI",
        "colab_type": "text"
      },
      "source": [
        "<a id='evaluacion'></a>\n",
        "#### 5. Evaluación del Modelo y Métricas"
      ]
    },
    {
      "cell_type": "markdown",
      "metadata": {
        "id": "yGslin_nP2WK",
        "colab_type": "text"
      },
      "source": [
        "A priori podemos ver que los resultados de la variable dependiente debe ser de tipo binaria, con lo que se puede usar el metodo de regresión logistica por ser bien conocida y muy usada.\n",
        "\n",
        "Filtrando datos necesarios"
      ]
    },
    {
      "cell_type": "code",
      "metadata": {
        "id": "Fwp2lArwiZ00",
        "colab_type": "code",
        "colab": {}
      },
      "source": [
        "X=data\n",
        "X=X.drop(['Impactado','Sector',\"Turismo\",\"Dep\"], axis=1)\n",
        "X.head\n",
        "Y=data[\"Impactado\"]"
      ],
      "execution_count": 74,
      "outputs": []
    },
    {
      "cell_type": "markdown",
      "metadata": {
        "id": "8b1tS374bZOy",
        "colab_type": "text"
      },
      "source": [
        "<a id=\"modelo\"></a>\n",
        "##### 5.1. Implementación del modelo en Python con scikit-learn"
      ]
    },
    {
      "cell_type": "code",
      "metadata": {
        "id": "cr-3H95xba57",
        "colab_type": "code",
        "colab": {}
      },
      "source": [
        "from sklearn import linear_model"
      ],
      "execution_count": 75,
      "outputs": []
    },
    {
      "cell_type": "code",
      "metadata": {
        "id": "OHCIxsrgba2d",
        "colab_type": "code",
        "colab": {
          "base_uri": "https://localhost:8080/",
          "height": 101
        },
        "outputId": "b1c15c41-9a2e-4c44-b5dc-bc41ad6b2c0f"
      },
      "source": [
        "logit_model = linear_model.LogisticRegression()\n",
        "logit_model.fit(X,Y)"
      ],
      "execution_count": 76,
      "outputs": [
        {
          "output_type": "execute_result",
          "data": {
            "text/plain": [
              "LogisticRegression(C=1.0, class_weight=None, dual=False, fit_intercept=True,\n",
              "                   intercept_scaling=1, l1_ratio=None, max_iter=100,\n",
              "                   multi_class='auto', n_jobs=None, penalty='l2',\n",
              "                   random_state=None, solver='lbfgs', tol=0.0001, verbose=0,\n",
              "                   warm_start=False)"
            ]
          },
          "metadata": {
            "tags": []
          },
          "execution_count": 76
        }
      ]
    },
    {
      "cell_type": "markdown",
      "metadata": {
        "id": "ZWjF27Fmb2cd",
        "colab_type": "text"
      },
      "source": [
        "Donde la exactitud es:"
      ]
    },
    {
      "cell_type": "code",
      "metadata": {
        "id": "4Q88u_aubazD",
        "colab_type": "code",
        "colab": {
          "base_uri": "https://localhost:8080/",
          "height": 34
        },
        "outputId": "4a740fed-d5c8-4680-f300-990595979f5a"
      },
      "source": [
        "print(\"El accuracy por el modelo es: \",logit_model.score(X,Y))"
      ],
      "execution_count": 77,
      "outputs": [
        {
          "output_type": "stream",
          "text": [
            "El accuracy por el modelo es:  0.6136136136136137\n"
          ],
          "name": "stdout"
        }
      ]
    },
    {
      "cell_type": "code",
      "metadata": {
        "id": "6VoW9B4xcAqf",
        "colab_type": "code",
        "colab": {
          "base_uri": "https://localhost:8080/",
          "height": 1000
        },
        "outputId": "4b26b1ea-324d-4d9a-e53f-526fb447fadf"
      },
      "source": [
        "pd.DataFrame(list(zip(X.columns, np.transpose(logit_model.coef_))))"
      ],
      "execution_count": 78,
      "outputs": [
        {
          "output_type": "execute_result",
          "data": {
            "text/html": [
              "<div>\n",
              "<style scoped>\n",
              "    .dataframe tbody tr th:only-of-type {\n",
              "        vertical-align: middle;\n",
              "    }\n",
              "\n",
              "    .dataframe tbody tr th {\n",
              "        vertical-align: top;\n",
              "    }\n",
              "\n",
              "    .dataframe thead th {\n",
              "        text-align: right;\n",
              "    }\n",
              "</style>\n",
              "<table border=\"1\" class=\"dataframe\">\n",
              "  <thead>\n",
              "    <tr style=\"text-align: right;\">\n",
              "      <th></th>\n",
              "      <th>0</th>\n",
              "      <th>1</th>\n",
              "    </tr>\n",
              "  </thead>\n",
              "  <tbody>\n",
              "    <tr>\n",
              "      <th>0</th>\n",
              "      <td>Saldo</td>\n",
              "      <td>[1.3429338370018026e-06]</td>\n",
              "    </tr>\n",
              "    <tr>\n",
              "      <th>1</th>\n",
              "      <td>Desembolso_mes</td>\n",
              "      <td>[3.5262321770195855e-06]</td>\n",
              "    </tr>\n",
              "    <tr>\n",
              "      <th>2</th>\n",
              "      <td>Saldo_Promedio</td>\n",
              "      <td>[-1.6122556939678894e-06]</td>\n",
              "    </tr>\n",
              "    <tr>\n",
              "      <th>3</th>\n",
              "      <td>Deuda_Sistema</td>\n",
              "      <td>[1.2256953019863785e-06]</td>\n",
              "    </tr>\n",
              "    <tr>\n",
              "      <th>4</th>\n",
              "      <td>Pasivo</td>\n",
              "      <td>[-1.5972307809116082e-06]</td>\n",
              "    </tr>\n",
              "    <tr>\n",
              "      <th>5</th>\n",
              "      <td>Sector_de_Impacto</td>\n",
              "      <td>[3.757009952377894e-09]</td>\n",
              "    </tr>\n",
              "    <tr>\n",
              "      <th>6</th>\n",
              "      <td>Venta</td>\n",
              "      <td>[-4.897611606721304e-06]</td>\n",
              "    </tr>\n",
              "    <tr>\n",
              "      <th>7</th>\n",
              "      <td>Venta_Formal</td>\n",
              "      <td>[-5.836817454049511e-07]</td>\n",
              "    </tr>\n",
              "    <tr>\n",
              "      <th>8</th>\n",
              "      <td>Pasivo_desembolso</td>\n",
              "      <td>[-5.166220380927337e-06]</td>\n",
              "    </tr>\n",
              "    <tr>\n",
              "      <th>9</th>\n",
              "      <td>Deuda_rezagada_va</td>\n",
              "      <td>[-1.9562031096954227e-06]</td>\n",
              "    </tr>\n",
              "    <tr>\n",
              "      <th>10</th>\n",
              "      <td>Deuda_rezagada_vr</td>\n",
              "      <td>[-1.0140895600975708e-09]</td>\n",
              "    </tr>\n",
              "    <tr>\n",
              "      <th>11</th>\n",
              "      <td>pasivo_rezagada_va</td>\n",
              "      <td>[-2.90400344758841e-07]</td>\n",
              "    </tr>\n",
              "    <tr>\n",
              "      <th>12</th>\n",
              "      <td>pasivo_rezagada_vr</td>\n",
              "      <td>[-2.314925772575281e-06]</td>\n",
              "    </tr>\n",
              "    <tr>\n",
              "      <th>13</th>\n",
              "      <td>Pasivo_desembolso_da</td>\n",
              "      <td>[6.570263961595203e-07]</td>\n",
              "    </tr>\n",
              "    <tr>\n",
              "      <th>14</th>\n",
              "      <td>Pasivo_desembolso dr</td>\n",
              "      <td>[-2.3280219383428346e-06]</td>\n",
              "    </tr>\n",
              "    <tr>\n",
              "      <th>15</th>\n",
              "      <td>sec_COMERCIO</td>\n",
              "      <td>[-3.398189461951219e-09]</td>\n",
              "    </tr>\n",
              "    <tr>\n",
              "      <th>16</th>\n",
              "      <td>sec_INDUSTRIA</td>\n",
              "      <td>[9.425033435186485e-10]</td>\n",
              "    </tr>\n",
              "    <tr>\n",
              "      <th>17</th>\n",
              "      <td>sec_SERVICIO</td>\n",
              "      <td>[1.758733075182534e-09]</td>\n",
              "    </tr>\n",
              "    <tr>\n",
              "      <th>18</th>\n",
              "      <td>turis_0</td>\n",
              "      <td>[-1.6431240959101495e-09]</td>\n",
              "    </tr>\n",
              "    <tr>\n",
              "      <th>19</th>\n",
              "      <td>turis_1</td>\n",
              "      <td>[9.461710526601034e-10]</td>\n",
              "    </tr>\n",
              "    <tr>\n",
              "      <th>20</th>\n",
              "      <td>dep_Amazonas</td>\n",
              "      <td>[1.2762734882735646e-10]</td>\n",
              "    </tr>\n",
              "    <tr>\n",
              "      <th>21</th>\n",
              "      <td>dep_Apurímac</td>\n",
              "      <td>[3.37295286174453e-10]</td>\n",
              "    </tr>\n",
              "    <tr>\n",
              "      <th>22</th>\n",
              "      <td>dep_Arequipa</td>\n",
              "      <td>[-1.1695950463938962e-09]</td>\n",
              "    </tr>\n",
              "    <tr>\n",
              "      <th>23</th>\n",
              "      <td>dep_Ayacucho</td>\n",
              "      <td>[-5.214077822465115e-11]</td>\n",
              "    </tr>\n",
              "    <tr>\n",
              "      <th>24</th>\n",
              "      <td>dep_Cajamarca</td>\n",
              "      <td>[6.239288701170192e-10]</td>\n",
              "    </tr>\n",
              "    <tr>\n",
              "      <th>25</th>\n",
              "      <td>dep_Callao</td>\n",
              "      <td>[-2.146088295864965e-10]</td>\n",
              "    </tr>\n",
              "    <tr>\n",
              "      <th>26</th>\n",
              "      <td>dep_Cusco</td>\n",
              "      <td>[5.824109988334167e-10]</td>\n",
              "    </tr>\n",
              "    <tr>\n",
              "      <th>27</th>\n",
              "      <td>dep_Huancavelica</td>\n",
              "      <td>[1.0161712924218897e-10]</td>\n",
              "    </tr>\n",
              "    <tr>\n",
              "      <th>28</th>\n",
              "      <td>dep_Huánuco</td>\n",
              "      <td>[-3.90066749108094e-11]</td>\n",
              "    </tr>\n",
              "    <tr>\n",
              "      <th>29</th>\n",
              "      <td>dep_Ica</td>\n",
              "      <td>[-8.17409190209165e-11]</td>\n",
              "    </tr>\n",
              "    <tr>\n",
              "      <th>30</th>\n",
              "      <td>dep_Junín</td>\n",
              "      <td>[-8.35035073567139e-10]</td>\n",
              "    </tr>\n",
              "    <tr>\n",
              "      <th>31</th>\n",
              "      <td>dep_La Libertad</td>\n",
              "      <td>[-1.5944458668021974e-11]</td>\n",
              "    </tr>\n",
              "    <tr>\n",
              "      <th>32</th>\n",
              "      <td>dep_Lambayeque</td>\n",
              "      <td>[-3.792849521387716e-10]</td>\n",
              "    </tr>\n",
              "    <tr>\n",
              "      <th>33</th>\n",
              "      <td>dep_Lima</td>\n",
              "      <td>[-3.391813553945403e-10]</td>\n",
              "    </tr>\n",
              "    <tr>\n",
              "      <th>34</th>\n",
              "      <td>dep_Loreto</td>\n",
              "      <td>[-1.0827494568355363e-10]</td>\n",
              "    </tr>\n",
              "    <tr>\n",
              "      <th>35</th>\n",
              "      <td>dep_Madre de Dios</td>\n",
              "      <td>[4.205316532238381e-11]</td>\n",
              "    </tr>\n",
              "    <tr>\n",
              "      <th>36</th>\n",
              "      <td>dep_Moquegua</td>\n",
              "      <td>[-5.892692773710232e-10]</td>\n",
              "    </tr>\n",
              "    <tr>\n",
              "      <th>37</th>\n",
              "      <td>dep_Pasco</td>\n",
              "      <td>[-1.3001051908316975e-10]</td>\n",
              "    </tr>\n",
              "    <tr>\n",
              "      <th>38</th>\n",
              "      <td>dep_Piura</td>\n",
              "      <td>[-1.5741562736619856e-09]</td>\n",
              "    </tr>\n",
              "    <tr>\n",
              "      <th>39</th>\n",
              "      <td>dep_Puno</td>\n",
              "      <td>[-9.9758232749162e-11]</td>\n",
              "    </tr>\n",
              "    <tr>\n",
              "      <th>40</th>\n",
              "      <td>dep_San Martín</td>\n",
              "      <td>[4.598698715274511e-10]</td>\n",
              "    </tr>\n",
              "    <tr>\n",
              "      <th>41</th>\n",
              "      <td>dep_Tacna</td>\n",
              "      <td>[2.3572413627625547e-10]</td>\n",
              "    </tr>\n",
              "    <tr>\n",
              "      <th>42</th>\n",
              "      <td>dep_Tumbes</td>\n",
              "      <td>[6.048610985274938e-10]</td>\n",
              "    </tr>\n",
              "    <tr>\n",
              "      <th>43</th>\n",
              "      <td>dep_Ucayali</td>\n",
              "      <td>[5.248157296832426e-10]</td>\n",
              "    </tr>\n",
              "    <tr>\n",
              "      <th>44</th>\n",
              "      <td>dep_Áncash</td>\n",
              "      <td>[1.2908506586728356e-09]</td>\n",
              "    </tr>\n",
              "  </tbody>\n",
              "</table>\n",
              "</div>"
            ],
            "text/plain": [
              "                       0                          1\n",
              "0                  Saldo   [1.3429338370018026e-06]\n",
              "1         Desembolso_mes   [3.5262321770195855e-06]\n",
              "2         Saldo_Promedio  [-1.6122556939678894e-06]\n",
              "3          Deuda_Sistema   [1.2256953019863785e-06]\n",
              "4                 Pasivo  [-1.5972307809116082e-06]\n",
              "5      Sector_de_Impacto    [3.757009952377894e-09]\n",
              "6                  Venta   [-4.897611606721304e-06]\n",
              "7           Venta_Formal   [-5.836817454049511e-07]\n",
              "8      Pasivo_desembolso   [-5.166220380927337e-06]\n",
              "9      Deuda_rezagada_va  [-1.9562031096954227e-06]\n",
              "10     Deuda_rezagada_vr  [-1.0140895600975708e-09]\n",
              "11    pasivo_rezagada_va    [-2.90400344758841e-07]\n",
              "12    pasivo_rezagada_vr   [-2.314925772575281e-06]\n",
              "13  Pasivo_desembolso_da    [6.570263961595203e-07]\n",
              "14  Pasivo_desembolso dr  [-2.3280219383428346e-06]\n",
              "15          sec_COMERCIO   [-3.398189461951219e-09]\n",
              "16         sec_INDUSTRIA    [9.425033435186485e-10]\n",
              "17          sec_SERVICIO    [1.758733075182534e-09]\n",
              "18               turis_0  [-1.6431240959101495e-09]\n",
              "19               turis_1    [9.461710526601034e-10]\n",
              "20          dep_Amazonas   [1.2762734882735646e-10]\n",
              "21          dep_Apurímac     [3.37295286174453e-10]\n",
              "22          dep_Arequipa  [-1.1695950463938962e-09]\n",
              "23          dep_Ayacucho   [-5.214077822465115e-11]\n",
              "24         dep_Cajamarca    [6.239288701170192e-10]\n",
              "25            dep_Callao   [-2.146088295864965e-10]\n",
              "26             dep_Cusco    [5.824109988334167e-10]\n",
              "27      dep_Huancavelica   [1.0161712924218897e-10]\n",
              "28           dep_Huánuco    [-3.90066749108094e-11]\n",
              "29               dep_Ica    [-8.17409190209165e-11]\n",
              "30             dep_Junín    [-8.35035073567139e-10]\n",
              "31       dep_La Libertad  [-1.5944458668021974e-11]\n",
              "32        dep_Lambayeque   [-3.792849521387716e-10]\n",
              "33              dep_Lima   [-3.391813553945403e-10]\n",
              "34            dep_Loreto  [-1.0827494568355363e-10]\n",
              "35     dep_Madre de Dios    [4.205316532238381e-11]\n",
              "36          dep_Moquegua   [-5.892692773710232e-10]\n",
              "37             dep_Pasco  [-1.3001051908316975e-10]\n",
              "38             dep_Piura  [-1.5741562736619856e-09]\n",
              "39              dep_Puno     [-9.9758232749162e-11]\n",
              "40        dep_San Martín    [4.598698715274511e-10]\n",
              "41             dep_Tacna   [2.3572413627625547e-10]\n",
              "42            dep_Tumbes    [6.048610985274938e-10]\n",
              "43           dep_Ucayali    [5.248157296832426e-10]\n",
              "44            dep_Áncash   [1.2908506586728356e-09]"
            ]
          },
          "metadata": {
            "tags": []
          },
          "execution_count": 78
        }
      ]
    },
    {
      "cell_type": "markdown",
      "metadata": {
        "id": "rj_xOlDCcG-g",
        "colab_type": "text"
      },
      "source": [
        "<a id=\"validacion\"></a>\n",
        "##### 5.2. Validación del modelo logístico"
      ]
    },
    {
      "cell_type": "markdown",
      "metadata": {
        "id": "K0LRyQt8cY2D",
        "colab_type": "text"
      },
      "source": [
        "A continuacion mostramos la vadicacion del modelo"
      ]
    },
    {
      "cell_type": "code",
      "metadata": {
        "id": "NjDVjsOacMWQ",
        "colab_type": "code",
        "colab": {}
      },
      "source": [
        "def Gini(y_true,y_pred,signo='+'):\n",
        "    from sklearn.metrics import roc_auc_score\n",
        "    return 2*roc_auc_score(y_true, y_pred)-1"
      ],
      "execution_count": 79,
      "outputs": []
    },
    {
      "cell_type": "code",
      "metadata": {
        "id": "nwApUgswcOrR",
        "colab_type": "code",
        "colab": {}
      },
      "source": [
        "probs = logit_model.predict_proba(X)[:,1:]\n",
        "m=pd.DataFrame(probs,columns = ['Probs'])"
      ],
      "execution_count": 80,
      "outputs": []
    },
    {
      "cell_type": "code",
      "metadata": {
        "id": "9yFBBa0mcS8-",
        "colab_type": "code",
        "colab": {}
      },
      "source": [
        "Y2=Y.reset_index()\n",
        "Y2['Probs']=m"
      ],
      "execution_count": 81,
      "outputs": []
    },
    {
      "cell_type": "code",
      "metadata": {
        "id": "Sd4WCq9kcUyg",
        "colab_type": "code",
        "colab": {
          "base_uri": "https://localhost:8080/",
          "height": 34
        },
        "outputId": "1dcde061-f2be-4a9e-f570-9101929dbf6b"
      },
      "source": [
        "print(\"El indice de Gini es:\",1*Gini(Y2[\"Impactado\"],Y2[\"Probs\"]))"
      ],
      "execution_count": 82,
      "outputs": [
        {
          "output_type": "stream",
          "text": [
            "El indice de Gini es: 0.2983944905866829\n"
          ],
          "name": "stdout"
        }
      ]
    },
    {
      "cell_type": "code",
      "metadata": {
        "id": "qyvD1lrkcu4K",
        "colab_type": "code",
        "colab": {}
      },
      "source": [
        "threshold = 0.5\n",
        "Y2[\"prediction\"]=np.where(probs>threshold, 1, 0)"
      ],
      "execution_count": 83,
      "outputs": []
    },
    {
      "cell_type": "code",
      "metadata": {
        "id": "SLDbdCxGc0Xq",
        "colab_type": "code",
        "colab": {
          "base_uri": "https://localhost:8080/",
          "height": 136
        },
        "outputId": "b8d8bbea-f073-44d4-c1b9-765f60487979"
      },
      "source": [
        "confusion_matrix = pd.crosstab(Y2.prediction, Y2.Impactado)\n",
        "confusion_matrix"
      ],
      "execution_count": 84,
      "outputs": [
        {
          "output_type": "execute_result",
          "data": {
            "text/html": [
              "<div>\n",
              "<style scoped>\n",
              "    .dataframe tbody tr th:only-of-type {\n",
              "        vertical-align: middle;\n",
              "    }\n",
              "\n",
              "    .dataframe tbody tr th {\n",
              "        vertical-align: top;\n",
              "    }\n",
              "\n",
              "    .dataframe thead th {\n",
              "        text-align: right;\n",
              "    }\n",
              "</style>\n",
              "<table border=\"1\" class=\"dataframe\">\n",
              "  <thead>\n",
              "    <tr style=\"text-align: right;\">\n",
              "      <th>Impactado</th>\n",
              "      <th>0</th>\n",
              "      <th>1</th>\n",
              "    </tr>\n",
              "    <tr>\n",
              "      <th>prediction</th>\n",
              "      <th></th>\n",
              "      <th></th>\n",
              "    </tr>\n",
              "  </thead>\n",
              "  <tbody>\n",
              "    <tr>\n",
              "      <th>0</th>\n",
              "      <td>573</td>\n",
              "      <td>346</td>\n",
              "    </tr>\n",
              "    <tr>\n",
              "      <th>1</th>\n",
              "      <td>426</td>\n",
              "      <td>653</td>\n",
              "    </tr>\n",
              "  </tbody>\n",
              "</table>\n",
              "</div>"
            ],
            "text/plain": [
              "Impactado     0    1\n",
              "prediction          \n",
              "0           573  346\n",
              "1           426  653"
            ]
          },
          "metadata": {
            "tags": []
          },
          "execution_count": 84
        }
      ]
    },
    {
      "cell_type": "markdown",
      "metadata": {
        "id": "S4mKlQOzdEM9",
        "colab_type": "text"
      },
      "source": [
        "Asi la accuracy de validacion"
      ]
    },
    {
      "cell_type": "code",
      "metadata": {
        "id": "-KiQ-LOOcyeN",
        "colab_type": "code",
        "colab": {
          "base_uri": "https://localhost:8080/",
          "height": 34
        },
        "outputId": "81e53eea-967d-4cdd-d0f1-e13725f1e679"
      },
      "source": [
        "TN=confusion_matrix[0][0]\n",
        "TP=confusion_matrix[1][1]\n",
        "FN=confusion_matrix[0][1]\n",
        "FP=confusion_matrix[1][0]\n",
        "accuracy_val=(TP+TN)/(TN+TP+FN+FP)\n",
        "print(\"El accuracy de validacion\",accuracy_val)"
      ],
      "execution_count": 85,
      "outputs": [
        {
          "output_type": "stream",
          "text": [
            "El accuracy de validacion 0.6136136136136137\n"
          ],
          "name": "stdout"
        }
      ]
    },
    {
      "cell_type": "markdown",
      "metadata": {
        "id": "mYVMIt_ijoua",
        "colab_type": "text"
      },
      "source": [
        "Sensibilidad"
      ]
    },
    {
      "cell_type": "code",
      "metadata": {
        "id": "6GiPqms77OQ-",
        "colab_type": "code",
        "colab": {
          "base_uri": "https://localhost:8080/",
          "height": 34
        },
        "outputId": "9a46b5e9-3d1d-4319-cb33-646e78888229"
      },
      "source": [
        "sens = TP/(TP+FN)\n",
        "sens"
      ],
      "execution_count": 86,
      "outputs": [
        {
          "output_type": "execute_result",
          "data": {
            "text/plain": [
              "0.6051899907321594"
            ]
          },
          "metadata": {
            "tags": []
          },
          "execution_count": 86
        }
      ]
    },
    {
      "cell_type": "markdown",
      "metadata": {
        "id": "GWsjs03qeeVC",
        "colab_type": "text"
      },
      "source": [
        "Especificidad"
      ]
    },
    {
      "cell_type": "code",
      "metadata": {
        "id": "9KVl-Ouy7aul",
        "colab_type": "code",
        "colab": {
          "base_uri": "https://localhost:8080/",
          "height": 34
        },
        "outputId": "821adc77-b706-48ba-ebc5-f67e145fc2c1"
      },
      "source": [
        "espc_1 = 1-TN/(TN+FP)\n",
        "espc_1"
      ],
      "execution_count": 87,
      "outputs": [
        {
          "output_type": "execute_result",
          "data": {
            "text/plain": [
              "0.37649619151251357"
            ]
          },
          "metadata": {
            "tags": []
          },
          "execution_count": 87
        }
      ]
    },
    {
      "cell_type": "markdown",
      "metadata": {
        "id": "CKBUObE_dopl",
        "colab_type": "text"
      },
      "source": [
        "<a id=\"cruzada\"></a>\n",
        "##### 5.3. Validación cruzada - k fold cross validation"
      ]
    },
    {
      "cell_type": "markdown",
      "metadata": {
        "id": "k1xAyqxDQcR8",
        "colab_type": "text"
      },
      "source": [
        "Separando Train y Test"
      ]
    },
    {
      "cell_type": "code",
      "metadata": {
        "id": "fHpt7kvE46DJ",
        "colab_type": "code",
        "colab": {}
      },
      "source": [
        "from sklearn.model_selection import train_test_split\n",
        "Xtrain,Xtest,ytrain,ytest=train_test_split(X,Y,test_size=0.2,\n",
        "                                           random_state=8)"
      ],
      "execution_count": 88,
      "outputs": []
    },
    {
      "cell_type": "markdown",
      "metadata": {
        "id": "RJJKzEvXeL7C",
        "colab_type": "text"
      },
      "source": [
        "Entranamos el modelo"
      ]
    },
    {
      "cell_type": "code",
      "metadata": {
        "id": "fgQq1wUSeJrn",
        "colab_type": "code",
        "colab": {
          "base_uri": "https://localhost:8080/",
          "height": 101
        },
        "outputId": "d4a1fef5-a055-4b22-a73e-b444f51ab72b"
      },
      "source": [
        "logit_model.fit(Xtrain,ytrain)"
      ],
      "execution_count": 89,
      "outputs": [
        {
          "output_type": "execute_result",
          "data": {
            "text/plain": [
              "LogisticRegression(C=1.0, class_weight=None, dual=False, fit_intercept=True,\n",
              "                   intercept_scaling=1, l1_ratio=None, max_iter=100,\n",
              "                   multi_class='auto', n_jobs=None, penalty='l2',\n",
              "                   random_state=None, solver='lbfgs', tol=0.0001, verbose=0,\n",
              "                   warm_start=False)"
            ]
          },
          "metadata": {
            "tags": []
          },
          "execution_count": 89
        }
      ]
    },
    {
      "cell_type": "markdown",
      "metadata": {
        "id": "STZvLzK4eS8M",
        "colab_type": "text"
      },
      "source": [
        "Donde la exactitud para datos entrenados será:"
      ]
    },
    {
      "cell_type": "code",
      "metadata": {
        "id": "Cm6vfwGoeR0W",
        "colab_type": "code",
        "colab": {
          "base_uri": "https://localhost:8080/",
          "height": 34
        },
        "outputId": "61b093fe-cbf2-4b14-a3ab-8d640f43fce7"
      },
      "source": [
        "print(\"El accuracy para datos entrenados:\",logit_model.score(Xtrain,ytrain))"
      ],
      "execution_count": 90,
      "outputs": [
        {
          "output_type": "stream",
          "text": [
            "El accuracy para datos entrenados: 0.6026282853566959\n"
          ],
          "name": "stdout"
        }
      ]
    },
    {
      "cell_type": "markdown",
      "metadata": {
        "id": "WEifg-4meh8B",
        "colab_type": "text"
      },
      "source": [
        "Donde la exactitud para datos de prueba será:"
      ]
    },
    {
      "cell_type": "code",
      "metadata": {
        "id": "wKteZX8neib2",
        "colab_type": "code",
        "colab": {
          "base_uri": "https://localhost:8080/",
          "height": 34
        },
        "outputId": "286c0562-3e1f-4b60-d749-94f92fcad8a9"
      },
      "source": [
        "print(\"El accuracy para datos de prueba:\",logit_model.score(Xtest,ytest))"
      ],
      "execution_count": 91,
      "outputs": [
        {
          "output_type": "stream",
          "text": [
            "El accuracy para datos de prueba: 0.6375\n"
          ],
          "name": "stdout"
        }
      ]
    },
    {
      "cell_type": "markdown",
      "metadata": {
        "id": "gg13G0J5e2W7",
        "colab_type": "text"
      },
      "source": [
        "El indice de gini para el entrenamiento sera:"
      ]
    },
    {
      "cell_type": "code",
      "metadata": {
        "id": "q2_D8uOrewnq",
        "colab_type": "code",
        "colab": {
          "base_uri": "https://localhost:8080/",
          "height": 34
        },
        "outputId": "a3a184ef-f3cc-40d1-f728-051be7a0422c"
      },
      "source": [
        "probs = logit_model.predict_proba(Xtrain)[:,1:]\n",
        "\n",
        "m=pd.DataFrame(probs,columns = ['Probs'])\n",
        "\n",
        "Y2=ytrain.reset_index()\n",
        "Y2['Probs']=m\n",
        "\n",
        "print(\"Indice de gini para el entrenamiento es igual a:\",1*Gini(Y2[\"Impactado\"],Y2[\"Probs\"]))"
      ],
      "execution_count": 92,
      "outputs": [
        {
          "output_type": "stream",
          "text": [
            "Indice de gini para el entrenamiento es igual a: 0.28870916199857133\n"
          ],
          "name": "stdout"
        }
      ]
    },
    {
      "cell_type": "markdown",
      "metadata": {
        "id": "bYVipWcafEnD",
        "colab_type": "text"
      },
      "source": [
        "El indice de gini para la prueba sera:"
      ]
    },
    {
      "cell_type": "code",
      "metadata": {
        "id": "5oNvH7U3e_1b",
        "colab_type": "code",
        "colab": {
          "base_uri": "https://localhost:8080/",
          "height": 34
        },
        "outputId": "c6599380-552a-48c0-cdb5-59b26230a792"
      },
      "source": [
        "probs = logit_model.predict_proba(Xtest)[:,1:]\n",
        "\n",
        "m=pd.DataFrame(probs,columns = ['Probs'])\n",
        "\n",
        "Y2=ytest.reset_index()\n",
        "Y2['Probs']=m\n",
        "\n",
        "print(\"Indice de gini para la prueba es igual a:\",1*Gini(Y2[\"Impactado\"],Y2[\"Probs\"]))"
      ],
      "execution_count": 93,
      "outputs": [
        {
          "output_type": "stream",
          "text": [
            "Indice de gini para la prueba es igual a: 0.3496685428392745\n"
          ],
          "name": "stdout"
        }
      ]
    },
    {
      "cell_type": "markdown",
      "metadata": {
        "id": "s76qH2zFflLL",
        "colab_type": "text"
      },
      "source": [
        "Validacion cruzada en entranmiento (gini)"
      ]
    },
    {
      "cell_type": "code",
      "metadata": {
        "id": "_D5Sk7DyfoGe",
        "colab_type": "code",
        "colab": {
          "base_uri": "https://localhost:8080/",
          "height": 168
        },
        "outputId": "c4599ed6-7a26-4f54-fcf1-800380dd8a38"
      },
      "source": [
        "from sklearn.model_selection import cross_val_score\n",
        "cv_train_gini=cross_val_score(logit_model,Xtrain,ytrain,\n",
        "                              cv=10,scoring='accuracy')\n",
        "print(\"Validacion cruzada en entranmiento:\",np.mean(cv_train_gini))"
      ],
      "execution_count": 94,
      "outputs": [
        {
          "output_type": "stream",
          "text": [
            "Validacion cruzada en entranmiento: 0.5951179245283018\n"
          ],
          "name": "stdout"
        },
        {
          "output_type": "stream",
          "text": [
            "/usr/local/lib/python3.6/dist-packages/sklearn/linear_model/_logistic.py:940: ConvergenceWarning: lbfgs failed to converge (status=1):\n",
            "STOP: TOTAL NO. of ITERATIONS REACHED LIMIT.\n",
            "\n",
            "Increase the number of iterations (max_iter) or scale the data as shown in:\n",
            "    https://scikit-learn.org/stable/modules/preprocessing.html\n",
            "Please also refer to the documentation for alternative solver options:\n",
            "    https://scikit-learn.org/stable/modules/linear_model.html#logistic-regression\n",
            "  extra_warning_msg=_LOGISTIC_SOLVER_CONVERGENCE_MSG)\n"
          ],
          "name": "stderr"
        }
      ]
    },
    {
      "cell_type": "markdown",
      "metadata": {
        "id": "XwzKPBHsfytp",
        "colab_type": "text"
      },
      "source": [
        "Validacion cruzada en prueba (gini)"
      ]
    },
    {
      "cell_type": "code",
      "metadata": {
        "id": "sYiQpzWVfwzW",
        "colab_type": "code",
        "colab": {
          "base_uri": "https://localhost:8080/",
          "height": 34
        },
        "outputId": "e284bdd9-5602-4c69-f6eb-fa5e85ce8c57"
      },
      "source": [
        "cv_test_gini=cross_val_score(logit_model,Xtest,ytest,\n",
        "                             cv=10,scoring='accuracy')\n",
        "print(\"Validacion cruzada en prueba:\",np.mean(cv_test_gini))"
      ],
      "execution_count": 95,
      "outputs": [
        {
          "output_type": "stream",
          "text": [
            "Validacion cruzada en prueba: 0.6275\n"
          ],
          "name": "stdout"
        }
      ]
    },
    {
      "cell_type": "markdown",
      "metadata": {
        "id": "FkCCm-ipeyyu",
        "colab_type": "text"
      },
      "source": [
        "<a id='roc'></a>\n",
        "##### 5.4. Curva de características operativas del receptor (ROC)"
      ]
    },
    {
      "cell_type": "markdown",
      "metadata": {
        "id": "Dx4VFGuSVQfy",
        "colab_type": "text"
      },
      "source": [
        "Este resultado viene a ser igual al que nos dio la funcion de regresion."
      ]
    },
    {
      "cell_type": "code",
      "metadata": {
        "id": "IL_XT-1uoJUN",
        "colab_type": "code",
        "colab": {
          "base_uri": "https://localhost:8080/",
          "height": 289
        },
        "outputId": "3555299c-f542-4bb0-f31b-e7ff846e3d23"
      },
      "source": [
        "pip install plot_metric"
      ],
      "execution_count": 96,
      "outputs": [
        {
          "output_type": "stream",
          "text": [
            "Requirement already satisfied: plot_metric in /usr/local/lib/python3.6/dist-packages (0.0.6)\n",
            "Requirement already satisfied: pandas>=0.23.4 in /usr/local/lib/python3.6/dist-packages (from plot_metric) (1.0.5)\n",
            "Requirement already satisfied: numpy>=1.15.4 in /usr/local/lib/python3.6/dist-packages (from plot_metric) (1.18.5)\n",
            "Requirement already satisfied: scikit-learn>=0.21.2 in /usr/local/lib/python3.6/dist-packages (from plot_metric) (0.22.2.post1)\n",
            "Requirement already satisfied: seaborn>=0.9.0 in /usr/local/lib/python3.6/dist-packages (from plot_metric) (0.10.1)\n",
            "Requirement already satisfied: matplotlib>=3.0.2 in /usr/local/lib/python3.6/dist-packages (from plot_metric) (3.2.2)\n",
            "Requirement already satisfied: scipy>=1.1.0 in /usr/local/lib/python3.6/dist-packages (from plot_metric) (1.4.1)\n",
            "Requirement already satisfied: colorlover>=0.3.0 in /usr/local/lib/python3.6/dist-packages (from plot_metric) (0.3.0)\n",
            "Requirement already satisfied: python-dateutil>=2.6.1 in /usr/local/lib/python3.6/dist-packages (from pandas>=0.23.4->plot_metric) (2.8.1)\n",
            "Requirement already satisfied: pytz>=2017.2 in /usr/local/lib/python3.6/dist-packages (from pandas>=0.23.4->plot_metric) (2018.9)\n",
            "Requirement already satisfied: joblib>=0.11 in /usr/local/lib/python3.6/dist-packages (from scikit-learn>=0.21.2->plot_metric) (0.16.0)\n",
            "Requirement already satisfied: cycler>=0.10 in /usr/local/lib/python3.6/dist-packages (from matplotlib>=3.0.2->plot_metric) (0.10.0)\n",
            "Requirement already satisfied: pyparsing!=2.0.4,!=2.1.2,!=2.1.6,>=2.0.1 in /usr/local/lib/python3.6/dist-packages (from matplotlib>=3.0.2->plot_metric) (2.4.7)\n",
            "Requirement already satisfied: kiwisolver>=1.0.1 in /usr/local/lib/python3.6/dist-packages (from matplotlib>=3.0.2->plot_metric) (1.2.0)\n",
            "Requirement already satisfied: six>=1.5 in /usr/local/lib/python3.6/dist-packages (from python-dateutil>=2.6.1->pandas>=0.23.4->plot_metric) (1.15.0)\n"
          ],
          "name": "stdout"
        }
      ]
    },
    {
      "cell_type": "code",
      "metadata": {
        "id": "XVvDpbR96QyO",
        "colab_type": "code",
        "colab": {
          "base_uri": "https://localhost:8080/",
          "height": 350
        },
        "outputId": "bbe15491-e445-4abc-bb56-6bed16d9816c"
      },
      "source": [
        "from plot_metric.functions import BinaryClassification\n",
        "# Visualisation with plot_metric\n",
        "bc = BinaryClassification(Y2[\"Impactado\"], Y2[\"Probs\"], labels=[\"Class 1\", \"Class 2\"])\n",
        "\n",
        "# Figures\n",
        "plt.figure(figsize=(5,5))\n",
        "bc.plot_roc_curve()\n",
        "plt.show()"
      ],
      "execution_count": 97,
      "outputs": [
        {
          "output_type": "display_data",
          "data": {
            "image/png": "[encoded data removed]",
            "text/plain": [
              "<Figure size 360x360 with 1 Axes>"
            ]
          },
          "metadata": {
            "tags": []
          }
        }
      ]
    },
    {
      "cell_type": "markdown",
      "metadata": {
        "id": "AtJGgNpBzbs-",
        "colab_type": "text"
      },
      "source": [
        "Este ultimo resultado, de ROC puede ser considerado aceptable puesto que es coherente con lo esperado."
      ]
    },
    {
      "cell_type": "markdown",
      "metadata": {
        "id": "65dztBq-fHFd",
        "colab_type": "text"
      },
      "source": [
        "<a id='ML'></a>\n",
        "#### 6. Pruebas con otros modelos"
      ]
    },
    {
      "cell_type": "markdown",
      "metadata": {
        "id": "IjWc6ZElrTbz",
        "colab_type": "text"
      },
      "source": [
        "Máquinas de vectores de soporte"
      ]
    },
    {
      "cell_type": "code",
      "metadata": {
        "id": "cofUFcc6p731",
        "colab_type": "code",
        "colab": {}
      },
      "source": [
        "from sklearn.svm import SVC\n",
        "from sklearn.neighbors import KNeighborsClassifier\n",
        "from sklearn.tree import DecisionTreeClassifier"
      ],
      "execution_count": 98,
      "outputs": []
    },
    {
      "cell_type": "markdown",
      "metadata": {
        "id": "4VYPAB3OvRBK",
        "colab_type": "text"
      },
      "source": [
        "Maquina de Vectores de Soporte\n"
      ]
    },
    {
      "cell_type": "code",
      "metadata": {
        "id": "WNJNgK2XrH2a",
        "colab_type": "code",
        "colab": {
          "base_uri": "https://localhost:8080/",
          "height": 34
        },
        "outputId": "c0f78d9b-6156-4ed8-99f9-00a2661ca0d5"
      },
      "source": [
        "svc_model = SVC()\n",
        "svc_model.fit(Xtrain,ytrain)\n",
        "Y_pred=svc_model.predict(Xtest)\n",
        "print('Accuracy Maquina de Vectores de Soporte: {}'.format(svc_model.score(Xtrain,ytrain)))"
      ],
      "execution_count": 99,
      "outputs": [
        {
          "output_type": "stream",
          "text": [
            "Accuracy Maquina de Vectores de Soporte: 0.6032540675844806\n"
          ],
          "name": "stdout"
        }
      ]
    },
    {
      "cell_type": "markdown",
      "metadata": {
        "id": "1UZ2dDL4uJUk",
        "colab_type": "text"
      },
      "source": [
        "K vecinos mas cercanos"
      ]
    },
    {
      "cell_type": "code",
      "metadata": {
        "id": "-pieRVJ7uHtn",
        "colab_type": "code",
        "colab": {
          "base_uri": "https://localhost:8080/",
          "height": 34
        },
        "outputId": "881683d3-72f0-4c28-c6a9-2b2164bd10dd"
      },
      "source": [
        "kn_model = KNeighborsClassifier(n_neighbors=5)\n",
        "kn_model.fit(Xtrain,ytrain)\n",
        "Y_pred=kn_model.predict(Xtest)\n",
        "print('Accuracy Maquina de Vectores de Soporte: {}'.format(kn_model.score(Xtrain,ytrain)))"
      ],
      "execution_count": 100,
      "outputs": [
        {
          "output_type": "stream",
          "text": [
            "Accuracy Maquina de Vectores de Soporte: 0.7083854818523154\n"
          ],
          "name": "stdout"
        }
      ]
    },
    {
      "cell_type": "markdown",
      "metadata": {
        "id": "m909z7fOurR6",
        "colab_type": "text"
      },
      "source": [
        "Arboles de decision"
      ]
    },
    {
      "cell_type": "code",
      "metadata": {
        "id": "_ln_OrP-unjY",
        "colab_type": "code",
        "colab": {
          "base_uri": "https://localhost:8080/",
          "height": 34
        },
        "outputId": "521868bb-4fb8-464f-b9f6-9985ee074d76"
      },
      "source": [
        "td_model = DecisionTreeClassifier()\n",
        "td_model.fit(Xtrain,ytrain)\n",
        "Y_pred=td_model.predict(Xtest)\n",
        "print('Accuracy Arboles de Decision: {}'.format(td_model.score(Xtrain,ytrain)))"
      ],
      "execution_count": 101,
      "outputs": [
        {
          "output_type": "stream",
          "text": [
            "Accuracy Arboles de Decision: 0.9762202753441802\n"
          ],
          "name": "stdout"
        }
      ]
    },
    {
      "cell_type": "markdown",
      "metadata": {
        "id": "3KFiqV0EvLcC",
        "colab_type": "text"
      },
      "source": [
        "Como se puede apreciar de los resultado, la exactitud o accuracy de Maquina de soporte de vectores y K vecinos más cercanos son similares a la de Regresion Logistica y por otro lado el algoritmo de Arboles de decicion es mayor a los 3 lo que podria indicar un sobreajuste."
      ]
    },
    {
      "cell_type": "markdown",
      "metadata": {
        "id": "__p-nF_XT32K",
        "colab_type": "text"
      },
      "source": [
        "<a id='conclusion'></a>\n",
        "#### 7. Conclusion"
      ]
    },
    {
      "cell_type": "markdown",
      "metadata": {
        "id": "T_nDIHm4Tz5U",
        "colab_type": "text"
      },
      "source": [
        "Al principio, interrogamos a fondo los datos para obtener información sobre que características podrían descartarse y cuáles podrían diseñarse de manera valiosa. Elegimos una métrica apropiada y utilizamos un algoritmo ML basado en regresion logistica que funciona mejor predicciones o resultados binarios Además, se realizó la validación a traves de \"Validación Cruzada\" y agregando un plus de comparación con otros algoritmos frecuentemente utilizados. En general, el método utilizado en este núcleo debería ser ampliamente aplicable a una variedad de tales problemas.\n"
      ]
    },
    {
      "cell_type": "markdown",
      "metadata": {
        "id": "AaMvrswsT9EC",
        "colab_type": "text"
      },
      "source": [
        "<a href='#top'>volver arriba</a>"
      ]
    },
    {
      "cell_type": "markdown",
      "metadata": {
        "id": "ZzYVXVxBgCV5",
        "colab_type": "text"
      },
      "source": [
        "<a id=\"referencias\"></a>\n",
        "#### 8. REFERENCIAS"
      ]
    },
    {
      "cell_type": "markdown",
      "metadata": {
        "id": "PzoYOqDgfzvV",
        "colab_type": "text"
      },
      "source": [
        "<a href='https://www.ipe.org.pe/portal/wp-content/uploads/2020/05/INFORME-IPE-7.pdf'>[1]</a>   Informe IPE, Impacto del COVID-19 en la economía peruana, 7° Edición - Mayo 2020.\n",
        "\n"
      ]
    }
  ]
}