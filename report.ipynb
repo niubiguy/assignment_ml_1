{
  "nbformat": 4,
  "nbformat_minor": 0,
  "metadata": {
    "colab": {
      "name": "report.ipynb",
      "provenance": [],
      "collapsed_sections": [],
      "toc_visible": true,
      "authorship_tag": "ABX9TyMjqup3WXdRBCYs57jDYS0s",
      "include_colab_link": true
    },
    "kernelspec": {
      "name": "python3",
      "display_name": "Python 3"
    }
  },
  "cells": [
    {
      "cell_type": "markdown",
      "metadata": {
        "id": "view-in-github",
        "colab_type": "text"
      },
      "source": [
        "<a href=\"https://colab.research.google.com/github/noobsterguy/assignment_ml_1/blob/master/report.ipynb\" target=\"_parent\"><img src=\"https://colab.research.google.com/assets/colab-badge.svg\" alt=\"Open In Colab\"/></a>"
      ]
    },
    {
      "cell_type": "markdown",
      "metadata": {
        "id": "I-gZztJJV2e_",
        "colab_type": "text"
      },
      "source": [
        "<a href=\"https://colab.research.google.com/github/noobsterguy/assignment_ml_1/blob/master/report.ipynb\" target=\"_parent\"><img src=\"https://colab.research.google.com/assets/colab-badge.svg\" alt=\"Open In Colab\"/></a>"
      ]
    },
    {
      "cell_type": "markdown",
      "metadata": {
        "id": "DAuZ4r_kWDb2",
        "colab_type": "text"
      },
      "source": [
        "** Para abrir este cuaderno como el * documento interactivo * (que le permite ejecutar celdas de código usted mismo), haga clic en el icono 'Open in Colab' (funciona mejor en Chrome) o siga [este enlace](https://colab.research.google.com/github/noobsterguy/assignment_ml_1/blob/master/report.ipynb):**"
      ]
    },
    {
      "cell_type": "markdown",
      "metadata": {
        "id": "akztGTNEWWs8",
        "colab_type": "text"
      },
      "source": [
        ">Fecha: \n",
        ">\n",
        ">2020-07-25\n",
        ">----  --- "
      ]
    },
    {
      "cell_type": "markdown",
      "metadata": {
        "id": "Q8CCDRKyWWzt",
        "colab_type": "text"
      },
      "source": [
        "# TRABAJO ENCARGADO DEL CURSO DATA SCIENCIE Y MACHINE LEARNING\n",
        "\n",
        "Presentado por:\n",
        "\n",
        "Ivancovish J. Huancco\n"
      ]
    },
    {
      "cell_type": "markdown",
      "metadata": {
        "id": "qQGoyX4lWW2g",
        "colab_type": "text"
      },
      "source": [
        "---\n",
        "---\n",
        "># Resumen\n",
        "\n",
        ">El conjunto de datos presentados son para predecir si ha impactado o no por el covid de una empresa comercial.\n",
        ">\n",
        ">El objetivo de este análisis es resolver este problema mediante una exploración y limpieza de datos detallados tales como: Identificación de Missings, Identificación de Outliers, entre otros. Además, de el análisis de métricas del modelo.\n",
        ">\n",
        ">*Palabras Clave: Ausentes, Valores Atípicos, Predicción, Regresión Logistica, Métricas de Evaluación de modelos*\n",
        ">\n",
        ">*Keywords: Missing values, Outlier values, Prediction, Logistic Regression, Model Evaluation Metrics*\n",
        "\n",
        "---\n",
        "---"
      ]
    },
    {
      "cell_type": "markdown",
      "metadata": {
        "id": "5G2V-uk9N_A4",
        "colab_type": "text"
      },
      "source": [
        "<a id='top'></a>\n",
        "#### Contenido: \n",
        "#### 1. <a href='#Import'>Importar / Instalar módulos de Python (Código)</a>\n",
        "\n",
        "#### 2. <a href='#EDA'>Exploración de Análisis de Datos</a>\n",
        "21. <a href='#masafectada'>¿Que tipo de empresas pueden ser las más probables a ser afectadas?</a>\n",
        "22. <a href='#queafecta'>¿Que determina si una empresa es afectada o no?</a>\n",
        "\n",
        "#### 3. <a href='#clean'>Limpieza de Datos</a>\n",
        "31. <a href='#missing'>Identificación de valores Missing</a>\n",
        "32. <a href='#outlier'>Identificación de valores Outliers</a>\n",
        "\n",
        "#### 4. <a href='#seleccion'>Selección de características</a>\n",
        "\n",
        "#### 5. <a href='#evaluacion'>Evaluación del Modelo y Métricas</a>\n",
        "51. <a href='#modelo'>Implementación del modelo en Python con scikit-learn</a>\n",
        "52. <a href='#validacion'>Validación del modelo logístico</a>\n",
        "53. <a href='#cruzada'>Validacion cruzada-k fold \"Cross-Validation\"</a>\n",
        "54. <a href='#roc'>Curva de características operativas del receptor (ROC)</a>\n",
        "\n",
        "#### 6. <a href='#ML'>Pruebas con modelos de regresión</a>\n",
        "\n",
        "#### 7. <a href='#conclusion'>Conclusion</a>"
      ]
    },
    {
      "cell_type": "markdown",
      "metadata": {
        "id": "o14l5wG8WW5M",
        "colab_type": "text"
      },
      "source": [
        "<a id='import'></a>\n",
        "#### 1. Importar / instalar módulos de Python (código)\n"
      ]
    },
    {
      "cell_type": "markdown",
      "metadata": {
        "id": "fgzek5QEWW7n",
        "colab_type": "text"
      },
      "source": [
        "Primero descargamos archivos específicos para este análisis (datos experimentales, etc.):\n",
        "\n"
      ]
    },
    {
      "cell_type": "code",
      "metadata": {
        "id": "XnZgOUlqVxtz",
        "colab_type": "code",
        "colab": {
          "base_uri": "https://localhost:8080/",
          "height": 118
        },
        "outputId": "316072af-7d35-4c15-d981-58b56fdf628c"
      },
      "source": [
        "%%shell\n",
        "git clone https://github.com/noobsterguy/assignment_ml_1.git"
      ],
      "execution_count": null,
      "outputs": [
        {
          "output_type": "stream",
          "text": [
            "Cloning into 'assignment_ml_1'...\n",
            "remote: Enumerating objects: 21, done.\u001b[K\n",
            "remote: Counting objects: 100% (21/21), done.\u001b[K\n",
            "remote: Compressing objects: 100% (20/20), done.\u001b[K\n",
            "remote: Total 21 (delta 7), reused 0 (delta 0), pack-reused 0\u001b[K\n",
            "Unpacking objects: 100% (21/21), done.\n"
          ],
          "name": "stdout"
        },
        {
          "output_type": "execute_result",
          "data": {
            "text/plain": [
              ""
            ]
          },
          "metadata": {
            "tags": []
          },
          "execution_count": 2
        }
      ]
    },
    {
      "cell_type": "markdown",
      "metadata": {
        "id": "QJEKtrewW-BW",
        "colab_type": "text"
      },
      "source": [
        "Finalmente, importamos todos los módulos de Python necesarios:"
      ]
    },
    {
      "cell_type": "code",
      "metadata": {
        "id": "ESzV4gjsWzxO",
        "colab_type": "code",
        "colab": {
          "base_uri": "https://localhost:8080/",
          "height": 70
        },
        "outputId": "0de2a2da-63f7-41d1-da3e-4f360e5cd7fd"
      },
      "source": [
        "import pandas as pd\n",
        "import numpy as np\n",
        "import matplotlib.pyplot as plt\n",
        "import missingno as msno\n",
        "import seaborn as sb\n",
        "import pandas as pd\n",
        "import os\n",
        "import io"
      ],
      "execution_count": null,
      "outputs": [
        {
          "output_type": "stream",
          "text": [
            "/usr/local/lib/python3.6/dist-packages/statsmodels/tools/_testing.py:19: FutureWarning: pandas.util.testing is deprecated. Use the functions in the public API at pandas.testing instead.\n",
            "  import pandas.util.testing as tm\n"
          ],
          "name": "stderr"
        }
      ]
    },
    {
      "cell_type": "markdown",
      "metadata": {
        "id": "-yF3tAgTX43_",
        "colab_type": "text"
      },
      "source": [
        "Comience con la importacion de datos para trabajar."
      ]
    },
    {
      "cell_type": "code",
      "metadata": {
        "id": "TPBZ5LXnW87z",
        "colab_type": "code",
        "colab": {
          "base_uri": "https://localhost:8080/",
          "height": 455
        },
        "outputId": "46829279-2d5c-435e-a422-e6bf84b0d0b0"
      },
      "source": [
        "# El error de código utf-8 generalmente aparece cuando el rango de valores numéricos excede de 0 a 127. Entonces, los puntos ISO-8859-1 Unicode 0–255 son idénticos a los valores latinos 1, por lo que la conversión a esta codificación simplemente requiere convertir los puntos de código en valores de bytes; Si se encuentra un punto de código mayor que 255, la cadena no se puede codificar en Latin-1\n",
        "data = pd.read_csv('assignment_ml_1/Data_cov.csv',encoding='ISO-8859-1',sep=\";\")\n",
        "data"
      ],
      "execution_count": null,
      "outputs": [
        {
          "output_type": "execute_result",
          "data": {
            "text/html": [
              "<div>\n",
              "<style scoped>\n",
              "    .dataframe tbody tr th:only-of-type {\n",
              "        vertical-align: middle;\n",
              "    }\n",
              "\n",
              "    .dataframe tbody tr th {\n",
              "        vertical-align: top;\n",
              "    }\n",
              "\n",
              "    .dataframe thead th {\n",
              "        text-align: right;\n",
              "    }\n",
              "</style>\n",
              "<table border=\"1\" class=\"dataframe\">\n",
              "  <thead>\n",
              "    <tr style=\"text-align: right;\">\n",
              "      <th></th>\n",
              "      <th>Sector</th>\n",
              "      <th>Dep</th>\n",
              "      <th>Impactado</th>\n",
              "      <th>Saldo</th>\n",
              "      <th>Desembolso_mes</th>\n",
              "      <th>Saldo Promedio</th>\n",
              "      <th>Deuda Sistea,</th>\n",
              "      <th>Pasivo</th>\n",
              "      <th>Turismo</th>\n",
              "      <th>Sector de Impacto</th>\n",
              "      <th>Venta</th>\n",
              "      <th>Venta Formal</th>\n",
              "      <th>Pasivo_desembolso</th>\n",
              "      <th>Deuda rezagada va</th>\n",
              "      <th>Deuda rezagada vr</th>\n",
              "      <th>pasivo rezagada va</th>\n",
              "      <th>pasivo rezagada vr</th>\n",
              "      <th>Pasivo_desembolso da</th>\n",
              "      <th>Pasivo_desembolso dr</th>\n",
              "    </tr>\n",
              "  </thead>\n",
              "  <tbody>\n",
              "    <tr>\n",
              "      <th>0</th>\n",
              "      <td>INDUSTRIA</td>\n",
              "      <td>Lima</td>\n",
              "      <td>0</td>\n",
              "      <td>56643.10092</td>\n",
              "      <td>0.0</td>\n",
              "      <td>28321.550460</td>\n",
              "      <td>31365.73</td>\n",
              "      <td>5876.82</td>\n",
              "      <td>0</td>\n",
              "      <td>3</td>\n",
              "      <td>108400.0</td>\n",
              "      <td>43741.08</td>\n",
              "      <td>5876.820</td>\n",
              "      <td>-800.65</td>\n",
              "      <td>-0.024891</td>\n",
              "      <td>830.82</td>\n",
              "      <td>0.164649</td>\n",
              "      <td>830.82</td>\n",
              "      <td>0.164649</td>\n",
              "    </tr>\n",
              "    <tr>\n",
              "      <th>1</th>\n",
              "      <td>COMERCIO</td>\n",
              "      <td>Arequipa</td>\n",
              "      <td>0</td>\n",
              "      <td>190313.99460</td>\n",
              "      <td>0.0</td>\n",
              "      <td>63437.998180</td>\n",
              "      <td>64864.99</td>\n",
              "      <td>4467.40</td>\n",
              "      <td>0</td>\n",
              "      <td>4</td>\n",
              "      <td>105300.0</td>\n",
              "      <td>69737.17</td>\n",
              "      <td>4467.400</td>\n",
              "      <td>-2810.52</td>\n",
              "      <td>-0.041529</td>\n",
              "      <td>-7043.43</td>\n",
              "      <td>-0.611896</td>\n",
              "      <td>-7043.43</td>\n",
              "      <td>-0.611896</td>\n",
              "    </tr>\n",
              "    <tr>\n",
              "      <th>2</th>\n",
              "      <td>SERVICIO</td>\n",
              "      <td>Amazonas</td>\n",
              "      <td>0</td>\n",
              "      <td>547601.57360</td>\n",
              "      <td>0.0</td>\n",
              "      <td>182533.857900</td>\n",
              "      <td>200239.32</td>\n",
              "      <td>5000.92</td>\n",
              "      <td>0</td>\n",
              "      <td>1</td>\n",
              "      <td>86600.0</td>\n",
              "      <td>79178.83</td>\n",
              "      <td>5000.920</td>\n",
              "      <td>653.68</td>\n",
              "      <td>0.003275</td>\n",
              "      <td>2000.92</td>\n",
              "      <td>0.666973</td>\n",
              "      <td>2000.92</td>\n",
              "      <td>0.666973</td>\n",
              "    </tr>\n",
              "    <tr>\n",
              "      <th>3</th>\n",
              "      <td>INDUSTRIA</td>\n",
              "      <td>Lima</td>\n",
              "      <td>0</td>\n",
              "      <td>283914.20840</td>\n",
              "      <td>0.0</td>\n",
              "      <td>94638.069470</td>\n",
              "      <td>112945.17</td>\n",
              "      <td>325.50</td>\n",
              "      <td>0</td>\n",
              "      <td>3</td>\n",
              "      <td>103000.0</td>\n",
              "      <td>0.00</td>\n",
              "      <td>325.500</td>\n",
              "      <td>14820.77</td>\n",
              "      <td>0.151041</td>\n",
              "      <td>-17128.30</td>\n",
              "      <td>-0.981351</td>\n",
              "      <td>-17128.30</td>\n",
              "      <td>-0.981351</td>\n",
              "    </tr>\n",
              "    <tr>\n",
              "      <th>4</th>\n",
              "      <td>COMERCIO</td>\n",
              "      <td>Cusco</td>\n",
              "      <td>0</td>\n",
              "      <td>142296.43840</td>\n",
              "      <td>0.0</td>\n",
              "      <td>47432.146120</td>\n",
              "      <td>144877.21</td>\n",
              "      <td>0.00</td>\n",
              "      <td>0</td>\n",
              "      <td>4</td>\n",
              "      <td>172920.0</td>\n",
              "      <td>171999.33</td>\n",
              "      <td>0.000</td>\n",
              "      <td>17468.60</td>\n",
              "      <td>0.137107</td>\n",
              "      <td>-2071.80</td>\n",
              "      <td>-1.000000</td>\n",
              "      <td>-2071.80</td>\n",
              "      <td>-1.000000</td>\n",
              "    </tr>\n",
              "    <tr>\n",
              "      <th>...</th>\n",
              "      <td>...</td>\n",
              "      <td>...</td>\n",
              "      <td>...</td>\n",
              "      <td>...</td>\n",
              "      <td>...</td>\n",
              "      <td>...</td>\n",
              "      <td>...</td>\n",
              "      <td>...</td>\n",
              "      <td>...</td>\n",
              "      <td>...</td>\n",
              "      <td>...</td>\n",
              "      <td>...</td>\n",
              "      <td>...</td>\n",
              "      <td>...</td>\n",
              "      <td>...</td>\n",
              "      <td>...</td>\n",
              "      <td>...</td>\n",
              "      <td>...</td>\n",
              "      <td>...</td>\n",
              "    </tr>\n",
              "    <tr>\n",
              "      <th>1993</th>\n",
              "      <td>COMERCIO</td>\n",
              "      <td>Lambayeque</td>\n",
              "      <td>1</td>\n",
              "      <td>4325.85076</td>\n",
              "      <td>0.0</td>\n",
              "      <td>1441.950253</td>\n",
              "      <td>1624.47</td>\n",
              "      <td>2558.31</td>\n",
              "      <td>0</td>\n",
              "      <td>4</td>\n",
              "      <td>30000.0</td>\n",
              "      <td>4905.00</td>\n",
              "      <td>2528.565</td>\n",
              "      <td>-710.56</td>\n",
              "      <td>-0.304304</td>\n",
              "      <td>-3174.29</td>\n",
              "      <td>-0.550924</td>\n",
              "      <td>-2548.50</td>\n",
              "      <td>-0.543144</td>\n",
              "    </tr>\n",
              "    <tr>\n",
              "      <th>1994</th>\n",
              "      <td>COMERCIO</td>\n",
              "      <td>Arequipa</td>\n",
              "      <td>1</td>\n",
              "      <td>94650.62631</td>\n",
              "      <td>0.0</td>\n",
              "      <td>31550.208770</td>\n",
              "      <td>75502.84</td>\n",
              "      <td>3029.48</td>\n",
              "      <td>0</td>\n",
              "      <td>4</td>\n",
              "      <td>32100.0</td>\n",
              "      <td>7034.00</td>\n",
              "      <td>3029.480</td>\n",
              "      <td>-5421.28</td>\n",
              "      <td>-0.066992</td>\n",
              "      <td>-10965.03</td>\n",
              "      <td>-0.783524</td>\n",
              "      <td>-10965.03</td>\n",
              "      <td>-0.783524</td>\n",
              "    </tr>\n",
              "    <tr>\n",
              "      <th>1995</th>\n",
              "      <td>COMERCIO</td>\n",
              "      <td>Lima</td>\n",
              "      <td>1</td>\n",
              "      <td>747579.33510</td>\n",
              "      <td>0.0</td>\n",
              "      <td>249193.111700</td>\n",
              "      <td>843972.49</td>\n",
              "      <td>593.99</td>\n",
              "      <td>0</td>\n",
              "      <td>3</td>\n",
              "      <td>180905.0</td>\n",
              "      <td>93482.00</td>\n",
              "      <td>593.990</td>\n",
              "      <td>6776.19</td>\n",
              "      <td>0.008094</td>\n",
              "      <td>-11589.60</td>\n",
              "      <td>-0.951247</td>\n",
              "      <td>-11589.60</td>\n",
              "      <td>-0.951247</td>\n",
              "    </tr>\n",
              "    <tr>\n",
              "      <th>1996</th>\n",
              "      <td>COMERCIO</td>\n",
              "      <td>Lima</td>\n",
              "      <td>1</td>\n",
              "      <td>18077.98187</td>\n",
              "      <td>0.0</td>\n",
              "      <td>6025.993957</td>\n",
              "      <td>122633.10</td>\n",
              "      <td>5312.64</td>\n",
              "      <td>0</td>\n",
              "      <td>3</td>\n",
              "      <td>69500.0</td>\n",
              "      <td>8333.00</td>\n",
              "      <td>5312.640</td>\n",
              "      <td>-3838.01</td>\n",
              "      <td>-0.030347</td>\n",
              "      <td>-18929.55</td>\n",
              "      <td>-0.780851</td>\n",
              "      <td>-18929.55</td>\n",
              "      <td>-0.780851</td>\n",
              "    </tr>\n",
              "    <tr>\n",
              "      <th>1997</th>\n",
              "      <td>SERVICIO</td>\n",
              "      <td>Arequipa</td>\n",
              "      <td>1</td>\n",
              "      <td>286471.03470</td>\n",
              "      <td>0.0</td>\n",
              "      <td>97561.751050</td>\n",
              "      <td>269538.61</td>\n",
              "      <td>2558.31</td>\n",
              "      <td>0</td>\n",
              "      <td>4</td>\n",
              "      <td>50514.0</td>\n",
              "      <td>4171.00</td>\n",
              "      <td>2528.565</td>\n",
              "      <td>-26220.40</td>\n",
              "      <td>-0.088655</td>\n",
              "      <td>-3174.29</td>\n",
              "      <td>-0.550924</td>\n",
              "      <td>-2548.50</td>\n",
              "      <td>-0.543144</td>\n",
              "    </tr>\n",
              "  </tbody>\n",
              "</table>\n",
              "<p>1998 rows × 19 columns</p>\n",
              "</div>"
            ],
            "text/plain": [
              "         Sector         Dep  ...  Pasivo_desembolso da  Pasivo_desembolso dr\n",
              "0     INDUSTRIA        Lima  ...                830.82              0.164649\n",
              "1      COMERCIO    Arequipa  ...              -7043.43             -0.611896\n",
              "2      SERVICIO    Amazonas  ...               2000.92              0.666973\n",
              "3     INDUSTRIA        Lima  ...             -17128.30             -0.981351\n",
              "4      COMERCIO       Cusco  ...              -2071.80             -1.000000\n",
              "...         ...         ...  ...                   ...                   ...\n",
              "1993   COMERCIO  Lambayeque  ...              -2548.50             -0.543144\n",
              "1994   COMERCIO    Arequipa  ...             -10965.03             -0.783524\n",
              "1995   COMERCIO        Lima  ...             -11589.60             -0.951247\n",
              "1996   COMERCIO        Lima  ...             -18929.55             -0.780851\n",
              "1997   SERVICIO    Arequipa  ...              -2548.50             -0.543144\n",
              "\n",
              "[1998 rows x 19 columns]"
            ]
          },
          "metadata": {
            "tags": []
          },
          "execution_count": 4
        }
      ]
    },
    {
      "cell_type": "markdown",
      "metadata": {
        "id": "aQMeCoZyxiFZ",
        "colab_type": "text"
      },
      "source": [
        "Primero, por comodidad y posibles futuros conflictos cambiare los nombres de las columnas"
      ]
    },
    {
      "cell_type": "code",
      "metadata": {
        "id": "TGJnuOVAxtWR",
        "colab_type": "code",
        "colab": {
          "base_uri": "https://localhost:8080/",
          "height": 118
        },
        "outputId": "420b4853-517c-4f4b-b7f4-d448ed057053"
      },
      "source": [
        "data.columns\n"
      ],
      "execution_count": null,
      "outputs": [
        {
          "output_type": "execute_result",
          "data": {
            "text/plain": [
              "Index(['Sector', 'Dep', 'Impactado', 'Saldo', 'Desembolso_mes',\n",
              "       'Saldo Promedio', 'Deuda Sistea,', 'Pasivo', 'Turismo',\n",
              "       'Sector de Impacto', 'Venta ', 'Venta Formal', 'Pasivo_desembolso',\n",
              "       'Deuda rezagada va', 'Deuda rezagada vr', 'pasivo rezagada va',\n",
              "       'pasivo rezagada vr', 'Pasivo_desembolso da', 'Pasivo_desembolso dr'],\n",
              "      dtype='object')"
            ]
          },
          "metadata": {
            "tags": []
          },
          "execution_count": 5
        }
      ]
    },
    {
      "cell_type": "code",
      "metadata": {
        "id": "sOSUjNZdxw7T",
        "colab_type": "code",
        "colab": {
          "base_uri": "https://localhost:8080/",
          "height": 438
        },
        "outputId": "d7b86d14-5ece-4598-8458-b45c12c13e19"
      },
      "source": [
        "data = data.rename(columns={'Saldo Promedio':'Saldo_Promedio',\n",
        "                                   'Deuda Sistea,':'Deuda_Sistema','Sector de Impacto':'Sector_de_Impacto','Venta ':'Venta','Venta Formal':'Venta_Formal','Deuda rezagada va':'Deuda_rezagada_va'\n",
        "                                   ,'Deuda rezagada vr':'Deuda_rezagada_vr','pasivo rezagada va':'pasivo_rezagada_va','pasivo rezagada vr':'pasivo_rezagada_vr'\n",
        "                                   ,'Pasivo_desembolso da':'Pasivo_desembolso_da','Pasivo_desembolso dr':'Pasivo_desembolso dr'})\n",
        "data"
      ],
      "execution_count": null,
      "outputs": [
        {
          "output_type": "execute_result",
          "data": {
            "text/html": [
              "<div>\n",
              "<style scoped>\n",
              "    .dataframe tbody tr th:only-of-type {\n",
              "        vertical-align: middle;\n",
              "    }\n",
              "\n",
              "    .dataframe tbody tr th {\n",
              "        vertical-align: top;\n",
              "    }\n",
              "\n",
              "    .dataframe thead th {\n",
              "        text-align: right;\n",
              "    }\n",
              "</style>\n",
              "<table border=\"1\" class=\"dataframe\">\n",
              "  <thead>\n",
              "    <tr style=\"text-align: right;\">\n",
              "      <th></th>\n",
              "      <th>Sector</th>\n",
              "      <th>Dep</th>\n",
              "      <th>Impactado</th>\n",
              "      <th>Saldo</th>\n",
              "      <th>Desembolso_mes</th>\n",
              "      <th>Saldo_Promedio</th>\n",
              "      <th>Deuda_Sistema</th>\n",
              "      <th>Pasivo</th>\n",
              "      <th>Turismo</th>\n",
              "      <th>Sector_de_Impacto</th>\n",
              "      <th>Venta</th>\n",
              "      <th>Venta_Formal</th>\n",
              "      <th>Pasivo_desembolso</th>\n",
              "      <th>Deuda_rezagada_va</th>\n",
              "      <th>Deuda_rezagada_vr</th>\n",
              "      <th>pasivo_rezagada_va</th>\n",
              "      <th>pasivo_rezagada_vr</th>\n",
              "      <th>Pasivo_desembolso_da</th>\n",
              "      <th>Pasivo_desembolso dr</th>\n",
              "    </tr>\n",
              "  </thead>\n",
              "  <tbody>\n",
              "    <tr>\n",
              "      <th>0</th>\n",
              "      <td>INDUSTRIA</td>\n",
              "      <td>Lima</td>\n",
              "      <td>0</td>\n",
              "      <td>56643.10092</td>\n",
              "      <td>0.0</td>\n",
              "      <td>28321.550460</td>\n",
              "      <td>31365.73</td>\n",
              "      <td>5876.82</td>\n",
              "      <td>0</td>\n",
              "      <td>3</td>\n",
              "      <td>108400.0</td>\n",
              "      <td>43741.08</td>\n",
              "      <td>5876.820</td>\n",
              "      <td>-800.65</td>\n",
              "      <td>-0.024891</td>\n",
              "      <td>830.82</td>\n",
              "      <td>0.164649</td>\n",
              "      <td>830.82</td>\n",
              "      <td>0.164649</td>\n",
              "    </tr>\n",
              "    <tr>\n",
              "      <th>1</th>\n",
              "      <td>COMERCIO</td>\n",
              "      <td>Arequipa</td>\n",
              "      <td>0</td>\n",
              "      <td>190313.99460</td>\n",
              "      <td>0.0</td>\n",
              "      <td>63437.998180</td>\n",
              "      <td>64864.99</td>\n",
              "      <td>4467.40</td>\n",
              "      <td>0</td>\n",
              "      <td>4</td>\n",
              "      <td>105300.0</td>\n",
              "      <td>69737.17</td>\n",
              "      <td>4467.400</td>\n",
              "      <td>-2810.52</td>\n",
              "      <td>-0.041529</td>\n",
              "      <td>-7043.43</td>\n",
              "      <td>-0.611896</td>\n",
              "      <td>-7043.43</td>\n",
              "      <td>-0.611896</td>\n",
              "    </tr>\n",
              "    <tr>\n",
              "      <th>2</th>\n",
              "      <td>SERVICIO</td>\n",
              "      <td>Amazonas</td>\n",
              "      <td>0</td>\n",
              "      <td>547601.57360</td>\n",
              "      <td>0.0</td>\n",
              "      <td>182533.857900</td>\n",
              "      <td>200239.32</td>\n",
              "      <td>5000.92</td>\n",
              "      <td>0</td>\n",
              "      <td>1</td>\n",
              "      <td>86600.0</td>\n",
              "      <td>79178.83</td>\n",
              "      <td>5000.920</td>\n",
              "      <td>653.68</td>\n",
              "      <td>0.003275</td>\n",
              "      <td>2000.92</td>\n",
              "      <td>0.666973</td>\n",
              "      <td>2000.92</td>\n",
              "      <td>0.666973</td>\n",
              "    </tr>\n",
              "    <tr>\n",
              "      <th>3</th>\n",
              "      <td>INDUSTRIA</td>\n",
              "      <td>Lima</td>\n",
              "      <td>0</td>\n",
              "      <td>283914.20840</td>\n",
              "      <td>0.0</td>\n",
              "      <td>94638.069470</td>\n",
              "      <td>112945.17</td>\n",
              "      <td>325.50</td>\n",
              "      <td>0</td>\n",
              "      <td>3</td>\n",
              "      <td>103000.0</td>\n",
              "      <td>0.00</td>\n",
              "      <td>325.500</td>\n",
              "      <td>14820.77</td>\n",
              "      <td>0.151041</td>\n",
              "      <td>-17128.30</td>\n",
              "      <td>-0.981351</td>\n",
              "      <td>-17128.30</td>\n",
              "      <td>-0.981351</td>\n",
              "    </tr>\n",
              "    <tr>\n",
              "      <th>4</th>\n",
              "      <td>COMERCIO</td>\n",
              "      <td>Cusco</td>\n",
              "      <td>0</td>\n",
              "      <td>142296.43840</td>\n",
              "      <td>0.0</td>\n",
              "      <td>47432.146120</td>\n",
              "      <td>144877.21</td>\n",
              "      <td>0.00</td>\n",
              "      <td>0</td>\n",
              "      <td>4</td>\n",
              "      <td>172920.0</td>\n",
              "      <td>171999.33</td>\n",
              "      <td>0.000</td>\n",
              "      <td>17468.60</td>\n",
              "      <td>0.137107</td>\n",
              "      <td>-2071.80</td>\n",
              "      <td>-1.000000</td>\n",
              "      <td>-2071.80</td>\n",
              "      <td>-1.000000</td>\n",
              "    </tr>\n",
              "    <tr>\n",
              "      <th>...</th>\n",
              "      <td>...</td>\n",
              "      <td>...</td>\n",
              "      <td>...</td>\n",
              "      <td>...</td>\n",
              "      <td>...</td>\n",
              "      <td>...</td>\n",
              "      <td>...</td>\n",
              "      <td>...</td>\n",
              "      <td>...</td>\n",
              "      <td>...</td>\n",
              "      <td>...</td>\n",
              "      <td>...</td>\n",
              "      <td>...</td>\n",
              "      <td>...</td>\n",
              "      <td>...</td>\n",
              "      <td>...</td>\n",
              "      <td>...</td>\n",
              "      <td>...</td>\n",
              "      <td>...</td>\n",
              "    </tr>\n",
              "    <tr>\n",
              "      <th>1993</th>\n",
              "      <td>COMERCIO</td>\n",
              "      <td>Lambayeque</td>\n",
              "      <td>1</td>\n",
              "      <td>4325.85076</td>\n",
              "      <td>0.0</td>\n",
              "      <td>1441.950253</td>\n",
              "      <td>1624.47</td>\n",
              "      <td>2558.31</td>\n",
              "      <td>0</td>\n",
              "      <td>4</td>\n",
              "      <td>30000.0</td>\n",
              "      <td>4905.00</td>\n",
              "      <td>2528.565</td>\n",
              "      <td>-710.56</td>\n",
              "      <td>-0.304304</td>\n",
              "      <td>-3174.29</td>\n",
              "      <td>-0.550924</td>\n",
              "      <td>-2548.50</td>\n",
              "      <td>-0.543144</td>\n",
              "    </tr>\n",
              "    <tr>\n",
              "      <th>1994</th>\n",
              "      <td>COMERCIO</td>\n",
              "      <td>Arequipa</td>\n",
              "      <td>1</td>\n",
              "      <td>94650.62631</td>\n",
              "      <td>0.0</td>\n",
              "      <td>31550.208770</td>\n",
              "      <td>75502.84</td>\n",
              "      <td>3029.48</td>\n",
              "      <td>0</td>\n",
              "      <td>4</td>\n",
              "      <td>32100.0</td>\n",
              "      <td>7034.00</td>\n",
              "      <td>3029.480</td>\n",
              "      <td>-5421.28</td>\n",
              "      <td>-0.066992</td>\n",
              "      <td>-10965.03</td>\n",
              "      <td>-0.783524</td>\n",
              "      <td>-10965.03</td>\n",
              "      <td>-0.783524</td>\n",
              "    </tr>\n",
              "    <tr>\n",
              "      <th>1995</th>\n",
              "      <td>COMERCIO</td>\n",
              "      <td>Lima</td>\n",
              "      <td>1</td>\n",
              "      <td>747579.33510</td>\n",
              "      <td>0.0</td>\n",
              "      <td>249193.111700</td>\n",
              "      <td>843972.49</td>\n",
              "      <td>593.99</td>\n",
              "      <td>0</td>\n",
              "      <td>3</td>\n",
              "      <td>180905.0</td>\n",
              "      <td>93482.00</td>\n",
              "      <td>593.990</td>\n",
              "      <td>6776.19</td>\n",
              "      <td>0.008094</td>\n",
              "      <td>-11589.60</td>\n",
              "      <td>-0.951247</td>\n",
              "      <td>-11589.60</td>\n",
              "      <td>-0.951247</td>\n",
              "    </tr>\n",
              "    <tr>\n",
              "      <th>1996</th>\n",
              "      <td>COMERCIO</td>\n",
              "      <td>Lima</td>\n",
              "      <td>1</td>\n",
              "      <td>18077.98187</td>\n",
              "      <td>0.0</td>\n",
              "      <td>6025.993957</td>\n",
              "      <td>122633.10</td>\n",
              "      <td>5312.64</td>\n",
              "      <td>0</td>\n",
              "      <td>3</td>\n",
              "      <td>69500.0</td>\n",
              "      <td>8333.00</td>\n",
              "      <td>5312.640</td>\n",
              "      <td>-3838.01</td>\n",
              "      <td>-0.030347</td>\n",
              "      <td>-18929.55</td>\n",
              "      <td>-0.780851</td>\n",
              "      <td>-18929.55</td>\n",
              "      <td>-0.780851</td>\n",
              "    </tr>\n",
              "    <tr>\n",
              "      <th>1997</th>\n",
              "      <td>SERVICIO</td>\n",
              "      <td>Arequipa</td>\n",
              "      <td>1</td>\n",
              "      <td>286471.03470</td>\n",
              "      <td>0.0</td>\n",
              "      <td>97561.751050</td>\n",
              "      <td>269538.61</td>\n",
              "      <td>2558.31</td>\n",
              "      <td>0</td>\n",
              "      <td>4</td>\n",
              "      <td>50514.0</td>\n",
              "      <td>4171.00</td>\n",
              "      <td>2528.565</td>\n",
              "      <td>-26220.40</td>\n",
              "      <td>-0.088655</td>\n",
              "      <td>-3174.29</td>\n",
              "      <td>-0.550924</td>\n",
              "      <td>-2548.50</td>\n",
              "      <td>-0.543144</td>\n",
              "    </tr>\n",
              "  </tbody>\n",
              "</table>\n",
              "<p>1998 rows × 19 columns</p>\n",
              "</div>"
            ],
            "text/plain": [
              "         Sector         Dep  ...  Pasivo_desembolso_da  Pasivo_desembolso dr\n",
              "0     INDUSTRIA        Lima  ...                830.82              0.164649\n",
              "1      COMERCIO    Arequipa  ...              -7043.43             -0.611896\n",
              "2      SERVICIO    Amazonas  ...               2000.92              0.666973\n",
              "3     INDUSTRIA        Lima  ...             -17128.30             -0.981351\n",
              "4      COMERCIO       Cusco  ...              -2071.80             -1.000000\n",
              "...         ...         ...  ...                   ...                   ...\n",
              "1993   COMERCIO  Lambayeque  ...              -2548.50             -0.543144\n",
              "1994   COMERCIO    Arequipa  ...             -10965.03             -0.783524\n",
              "1995   COMERCIO        Lima  ...             -11589.60             -0.951247\n",
              "1996   COMERCIO        Lima  ...             -18929.55             -0.780851\n",
              "1997   SERVICIO    Arequipa  ...              -2548.50             -0.543144\n",
              "\n",
              "[1998 rows x 19 columns]"
            ]
          },
          "metadata": {
            "tags": []
          },
          "execution_count": 6
        }
      ]
    },
    {
      "cell_type": "markdown",
      "metadata": {
        "id": "KqGpUoMWaGOX",
        "colab_type": "text"
      },
      "source": [
        "<a id='EDA'></a>\n",
        "#### 2. Exploración y Análisis de Datos\n"
      ]
    },
    {
      "cell_type": "markdown",
      "metadata": {
        "id": "CojuglUNbF3I",
        "colab_type": "text"
      },
      "source": [
        "En esta sección, estableceremos las variables independientes que brinden mayor información para nuestro analisis."
      ]
    },
    {
      "cell_type": "markdown",
      "metadata": {
        "id": "IpDePe7_afPx",
        "colab_type": "text"
      },
      "source": [
        "<a id='masafecta'></a>\n",
        "##### 2.2. ¿Que tipo de empresas pueden ser las más probables a ser afectadas?\n",
        "\n",
        "Según un informe realizado por el [IPE](https://www.ipe.org.pe/portal/wp-content/uploads/2020/05/INFORME-IPE-7.pdf) menciona que ciertos sectores de la economía son más afectados que otros. Además, Las empresas no pueden equilibrar sus ingresos con respecto a sus deudas.\n",
        "\n",
        "Esto conlleva a utilizar al sector como una variable, puesto que, si una empresa pertenece a cierto serctor, sera mas propenso a ser impactada.\n",
        "\n",
        "Asi, podemos apreciar cuales son la subvariables (sectores).\n",
        "\n",
        "Tambien se podria analizar con respecto a la ubicación (ciudad) de la empresa\n",
        "\n"
      ]
    },
    {
      "cell_type": "code",
      "metadata": {
        "id": "oLnr6c9ZRDi4",
        "colab_type": "code",
        "colab": {
          "base_uri": "https://localhost:8080/",
          "height": 326
        },
        "outputId": "a679630c-a853-4947-87ff-7b3fe0e0a6b1"
      },
      "source": [
        "data[\"Sector\"].unique()\n",
        "plot = data['Sector'].value_counts().plot(kind='bar',\n",
        "                                            title='Sectores')"
      ],
      "execution_count": null,
      "outputs": [
        {
          "output_type": "display_data",
          "data": {
            "image/png": "[encoded data removed]",
            "text/plain": [
              "<Figure size 432x288 with 1 Axes>"
            ]
          },
          "metadata": {
            "tags": [],
            "needs_background": "light"
          }
        }
      ]
    },
    {
      "cell_type": "markdown",
      "metadata": {
        "id": "GTFD5OeXcLB-",
        "colab_type": "text"
      },
      "source": [
        "<a id='masafecta'></a>\n",
        "##### 2.3. ¿Que determina si un cliente es impactado o no? \n",
        "\n",
        "Podrian existir distintos factores que hacen que el cliente sea impactado tales como: el sector a la que la empresa pertenece, lugar, entre otros por ejemplo, para empresa de Cine, que pertenece al sector terciario de servicios, será afectada considerablemente en su economía debido a ser un lugar propenso para el congatio lo que conllevaria tener venta 0 y una deuda considerable, un cliente consumidor de este servicio puede ser verse afectado.\n",
        "\n",
        "Por otro lado, el turismo tambien puede llegar a afectar sectores como el comercio en cada región del pais. tal como indica el grafico mostrado arriba.\n",
        "\n",
        "En resumen, cada variable mostrada en los datos contribuye de alguna manera para realizar un análisis estadistico."
      ]
    },
    {
      "cell_type": "markdown",
      "metadata": {
        "id": "viHRDX3OaO1l",
        "colab_type": "text"
      },
      "source": [
        "<a id='clean'></a>\n",
        "#### 3. Limpieza de Datos"
      ]
    },
    {
      "cell_type": "markdown",
      "metadata": {
        "id": "o0NfMV0hcmww",
        "colab_type": "text"
      },
      "source": [
        "<a id='missing'></a>\n",
        "##### 3.1. Identificación de valores Missing\n"
      ]
    },
    {
      "cell_type": "markdown",
      "metadata": {
        "id": "MeXbw0DeYoSd",
        "colab_type": "text"
      },
      "source": [
        "A continuación, iniciamos con el análisis de valores Ausentes (Missing) con el metodo \".matrix\", \".bar\" y \"isnull\"."
      ]
    },
    {
      "cell_type": "code",
      "metadata": {
        "id": "jQtnAOGHX30A",
        "colab_type": "code",
        "colab": {
          "base_uri": "https://localhost:8080/",
          "height": 717
        },
        "outputId": "989be9ad-5c45-4722-984b-baa88910ce40"
      },
      "source": [
        "msno.matrix(data)"
      ],
      "execution_count": null,
      "outputs": [
        {
          "output_type": "execute_result",
          "data": {
            "text/plain": [
              "<matplotlib.axes._subplots.AxesSubplot at 0x7f658d7cbb00>"
            ]
          },
          "metadata": {
            "tags": []
          },
          "execution_count": 31
        },
        {
          "output_type": "display_data",
          "data": {
            "image/png": "[encoded data removed]",
            "text/plain": [
              "<Figure size 1800x720 with 2 Axes>"
            ]
          },
          "metadata": {
            "tags": [],
            "needs_background": "light"
          }
        }
      ]
    },
    {
      "cell_type": "markdown",
      "metadata": {
        "id": "K10V-bpLbD_N",
        "colab_type": "text"
      },
      "source": [
        "Ahora con el método \".bar\""
      ]
    },
    {
      "cell_type": "code",
      "metadata": {
        "id": "TTE2lQKUYdoF",
        "colab_type": "code",
        "colab": {
          "base_uri": "https://localhost:8080/",
          "height": 776
        },
        "outputId": "35f57dae-7f69-488b-9a7f-af943987a21f"
      },
      "source": [
        "msno.bar(data)"
      ],
      "execution_count": null,
      "outputs": [
        {
          "output_type": "execute_result",
          "data": {
            "text/plain": [
              "<matplotlib.axes._subplots.AxesSubplot at 0x7f658af24630>"
            ]
          },
          "metadata": {
            "tags": []
          },
          "execution_count": 32
        },
        {
          "output_type": "display_data",
          "data": {
            "image/png": "[encoded data removed]",
            "text/plain": [
              "<Figure size 1728x720 with 3 Axes>"
            ]
          },
          "metadata": {
            "tags": [],
            "needs_background": "light"
          }
        }
      ]
    },
    {
      "cell_type": "markdown",
      "metadata": {
        "id": "AAxPU3A30Knk",
        "colab_type": "text"
      },
      "source": [
        "NÚmero de missing por columnas\n",
        "\n"
      ]
    },
    {
      "cell_type": "code",
      "metadata": {
        "id": "WcwtdlMZowQ1",
        "colab_type": "code",
        "colab": {
          "base_uri": "https://localhost:8080/",
          "height": 353
        },
        "outputId": "436415e7-b6b2-443b-964b-cdf0ba0faad3"
      },
      "source": [
        "data.isnull().sum()"
      ],
      "execution_count": null,
      "outputs": [
        {
          "output_type": "execute_result",
          "data": {
            "text/plain": [
              "Sector                  0\n",
              "Dep                     0\n",
              "Impactado               0\n",
              "Saldo                   0\n",
              "Desembolso_mes          0\n",
              "Saldo_Promedio          0\n",
              "Deuda_Sistema           0\n",
              "Pasivo                  0\n",
              "Turismo                 0\n",
              "Sector_de_Impacto       0\n",
              "Venta                   0\n",
              "Venta_Formal            0\n",
              "Pasivo_desembolso       0\n",
              "Deuda_rezagada_va       0\n",
              "Deuda_rezagada_vr       0\n",
              "pasivo_rezagada_va      0\n",
              "pasivo_rezagada_vr      0\n",
              "Pasivo_desembolso_da    0\n",
              "Pasivo_desembolso dr    0\n",
              "dtype: int64"
            ]
          },
          "metadata": {
            "tags": []
          },
          "execution_count": 33
        }
      ]
    },
    {
      "cell_type": "markdown",
      "metadata": {
        "id": "Jlfrz5WabSIH",
        "colab_type": "text"
      },
      "source": [
        "*   Como se puede apreciar de ambos graficos generados mediante \".matrix\" y \".bar\", se observa que el Conjunto de Datos (DataSet) no contiene valores Ausentes (Missing)\n",
        "\n",
        "Ahora verificamos el tipo de dato de cada columna"
      ]
    },
    {
      "cell_type": "code",
      "metadata": {
        "id": "bcG5nWBxzB6g",
        "colab_type": "code",
        "colab": {
          "base_uri": "https://localhost:8080/",
          "height": 454
        },
        "outputId": "2492d488-038d-4bf5-ecf1-d81e1c3a0161"
      },
      "source": [
        "data.info()"
      ],
      "execution_count": null,
      "outputs": [
        {
          "output_type": "stream",
          "text": [
            "<class 'pandas.core.frame.DataFrame'>\n",
            "RangeIndex: 1998 entries, 0 to 1997\n",
            "Data columns (total 19 columns):\n",
            " #   Column                Non-Null Count  Dtype  \n",
            "---  ------                --------------  -----  \n",
            " 0   Sector                1998 non-null   object \n",
            " 1   Dep                   1998 non-null   object \n",
            " 2   Impactado             1998 non-null   int64  \n",
            " 3   Saldo                 1998 non-null   float64\n",
            " 4   Desembolso_mes        1998 non-null   float64\n",
            " 5   Saldo_Promedio        1998 non-null   float64\n",
            " 6   Deuda_Sistema         1998 non-null   float64\n",
            " 7   Pasivo                1998 non-null   float64\n",
            " 8   Turismo               1998 non-null   int64  \n",
            " 9   Sector_de_Impacto     1998 non-null   int64  \n",
            " 10  Venta                 1998 non-null   float64\n",
            " 11  Venta_Formal          1998 non-null   float64\n",
            " 12  Pasivo_desembolso     1998 non-null   float64\n",
            " 13  Deuda_rezagada_va     1998 non-null   float64\n",
            " 14  Deuda_rezagada_vr     1998 non-null   float64\n",
            " 15  pasivo_rezagada_va    1998 non-null   float64\n",
            " 16  pasivo_rezagada_vr    1998 non-null   float64\n",
            " 17  Pasivo_desembolso_da  1998 non-null   float64\n",
            " 18  Pasivo_desembolso dr  1998 non-null   float64\n",
            "dtypes: float64(14), int64(3), object(2)\n",
            "memory usage: 296.7+ KB\n"
          ],
          "name": "stdout"
        }
      ]
    },
    {
      "cell_type": "markdown",
      "metadata": {
        "id": "LYu7l-QQzKhw",
        "colab_type": "text"
      },
      "source": [
        "Aqui la unica variable que no corresponde es Turismo puesto que este deberia sea de tipo categorico."
      ]
    },
    {
      "cell_type": "markdown",
      "metadata": {
        "id": "MxRl0K0Gcx_1",
        "colab_type": "text"
      },
      "source": [
        "<a id='outlier'></a>\n",
        "##### 3.2. Identificación de valores Outliers"
      ]
    },
    {
      "cell_type": "markdown",
      "metadata": {
        "id": "0e04GTqeeVWG",
        "colab_type": "text"
      },
      "source": [
        "Como se mencionó anteriormente, los factores que intervienen para que una empresa sea afectada son, sus ventas, deudas y pasivos.\n",
        "\n",
        "Así se puede hacer un filtro de variables para inspeccionar valores atípicos."
      ]
    },
    {
      "cell_type": "code",
      "metadata": {
        "id": "8ldrJv8_sC-k",
        "colab_type": "code",
        "colab": {
          "base_uri": "https://localhost:8080/",
          "height": 218
        },
        "outputId": "3d4891d3-014b-40f4-cd76-8e7d11ab12cb"
      },
      "source": [
        "data[\"Saldo\"]"
      ],
      "execution_count": null,
      "outputs": [
        {
          "output_type": "execute_result",
          "data": {
            "text/plain": [
              "0        56643.10092\n",
              "1       190313.99460\n",
              "2       547601.57360\n",
              "3       283914.20840\n",
              "4       142296.43840\n",
              "            ...     \n",
              "1993      4325.85076\n",
              "1994     94650.62631\n",
              "1995    747579.33510\n",
              "1996     18077.98187\n",
              "1997    286471.03470\n",
              "Name: Saldo, Length: 1998, dtype: float64"
            ]
          },
          "metadata": {
            "tags": []
          },
          "execution_count": 64
        }
      ]
    },
    {
      "cell_type": "code",
      "metadata": {
        "id": "3i49c2DRhxef",
        "colab_type": "code",
        "colab": {
          "base_uri": "https://localhost:8080/",
          "height": 293
        },
        "outputId": "44219a80-d3e2-4851-88c1-a8f8258e3e64"
      },
      "source": [
        "data.Saldo.plot.box() "
      ],
      "execution_count": null,
      "outputs": [
        {
          "output_type": "execute_result",
          "data": {
            "text/plain": [
              "<matplotlib.axes._subplots.AxesSubplot at 0x7f6580b1acf8>"
            ]
          },
          "metadata": {
            "tags": []
          },
          "execution_count": 65
        },
        {
          "output_type": "display_data",
          "data": {
            "image/png": "[encoded data removed]",
            "text/plain": [
              "<Figure size 432x288 with 1 Axes>"
            ]
          },
          "metadata": {
            "tags": [],
            "needs_background": "light"
          }
        }
      ]
    },
    {
      "cell_type": "markdown",
      "metadata": {
        "id": "Ja6Y1NQhez0T",
        "colab_type": "text"
      },
      "source": [
        "A partir del gráfico mostrado en la parte superior, se tiene que existen datos atípicos que podrian afectar en nuestro estudio."
      ]
    },
    {
      "cell_type": "code",
      "metadata": {
        "id": "-01wqak9gyPu",
        "colab_type": "code",
        "colab": {
          "base_uri": "https://localhost:8080/",
          "height": 34
        },
        "outputId": "c70312a2-992f-42d9-a6e1-2c171d9430ba"
      },
      "source": [
        "cotas_saldo=np.percentile(data[-data.Saldo.isnull()]['Saldo'],[1,90])\n",
        "cotas_saldo"
      ],
      "execution_count": null,
      "outputs": [
        {
          "output_type": "execute_result",
          "data": {
            "text/plain": [
              "array([   4226.8974471, 1245148.794177 ])"
            ]
          },
          "metadata": {
            "tags": []
          },
          "execution_count": 66
        }
      ]
    },
    {
      "cell_type": "code",
      "metadata": {
        "id": "nkJh4nYgg-Ca",
        "colab_type": "code",
        "colab": {
          "base_uri": "https://localhost:8080/",
          "height": 34
        },
        "outputId": "b3ac0e75-186f-4c91-f24c-083558b94255"
      },
      "source": [
        "data.loc[data.Saldo>=cotas_saldo[1],'Saldo']=cotas_saldo[1]\n",
        "data.loc[data.Saldo<=cotas_saldo[0],'Saldo']=cotas_saldo[0]\n",
        "[np.min(data.Saldo),np.max(data.Saldo)]"
      ],
      "execution_count": null,
      "outputs": [
        {
          "output_type": "execute_result",
          "data": {
            "text/plain": [
              "[4226.897447096341, 1245148.794177]"
            ]
          },
          "metadata": {
            "tags": []
          },
          "execution_count": 67
        }
      ]
    },
    {
      "cell_type": "code",
      "metadata": {
        "id": "XIdR4MXGhN2z",
        "colab_type": "code",
        "colab": {
          "base_uri": "https://localhost:8080/",
          "height": 293
        },
        "outputId": "25c1b182-0179-42f6-9050-02110bf5df7c"
      },
      "source": [
        "data.Saldo.plot.box() #grid='True'"
      ],
      "execution_count": null,
      "outputs": [
        {
          "output_type": "execute_result",
          "data": {
            "text/plain": [
              "<matplotlib.axes._subplots.AxesSubplot at 0x7f6580969518>"
            ]
          },
          "metadata": {
            "tags": []
          },
          "execution_count": 71
        },
        {
          "output_type": "display_data",
          "data": {
            "image/png": "[encoded data removed]",
            "text/plain": [
              "<Figure size 432x288 with 1 Axes>"
            ]
          },
          "metadata": {
            "tags": [],
            "needs_background": "light"
          }
        }
      ]
    },
    {
      "cell_type": "markdown",
      "metadata": {
        "id": "aIUTFZxRhTzf",
        "colab_type": "text"
      },
      "source": [
        "Mismo procedimiento para Ventas"
      ]
    },
    {
      "cell_type": "code",
      "metadata": {
        "id": "WGp8T8DofK7k",
        "colab_type": "code",
        "colab": {
          "base_uri": "https://localhost:8080/",
          "height": 218
        },
        "outputId": "70e7f76c-4bb7-430d-825e-f44adab508fa"
      },
      "source": [
        "data[\"Venta\"]"
      ],
      "execution_count": null,
      "outputs": [
        {
          "output_type": "execute_result",
          "data": {
            "text/plain": [
              "0       108400.0\n",
              "1       105300.0\n",
              "2        86600.0\n",
              "3       103000.0\n",
              "4       172920.0\n",
              "          ...   \n",
              "1993     30000.0\n",
              "1994     32100.0\n",
              "1995    180905.0\n",
              "1996     69500.0\n",
              "1997     50514.0\n",
              "Name: Venta, Length: 1998, dtype: float64"
            ]
          },
          "metadata": {
            "tags": []
          },
          "execution_count": 54
        }
      ]
    },
    {
      "cell_type": "code",
      "metadata": {
        "id": "H49hoF1rwSst",
        "colab_type": "code",
        "colab": {
          "base_uri": "https://localhost:8080/",
          "height": 293
        },
        "outputId": "9ad8f488-9698-44b1-95d0-7a7f2109e788"
      },
      "source": [
        "data.Venta.plot.box() "
      ],
      "execution_count": null,
      "outputs": [
        {
          "output_type": "execute_result",
          "data": {
            "text/plain": [
              "<matplotlib.axes._subplots.AxesSubplot at 0x7f6587ffcb38>"
            ]
          },
          "metadata": {
            "tags": []
          },
          "execution_count": 57
        },
        {
          "output_type": "display_data",
          "data": {
            "image/png": "[encoded data removed]",
            "text/plain": [
              "<Figure size 432x288 with 1 Axes>"
            ]
          },
          "metadata": {
            "tags": [],
            "needs_background": "light"
          }
        }
      ]
    },
    {
      "cell_type": "code",
      "metadata": {
        "id": "QEceRS_JhaXj",
        "colab_type": "code",
        "colab": {
          "base_uri": "https://localhost:8080/",
          "height": 34
        },
        "outputId": "f18a1880-7050-4931-b8d5-80421c76a12e"
      },
      "source": [
        "cotas_venta=np.percentile(data[-data.Venta.isnull()]['Venta'],[1,90])\n",
        "cotas_venta"
      ],
      "execution_count": null,
      "outputs": [
        {
          "output_type": "execute_result",
          "data": {
            "text/plain": [
              "array([  8438.8  , 197429.904])"
            ]
          },
          "metadata": {
            "tags": []
          },
          "execution_count": 58
        }
      ]
    },
    {
      "cell_type": "code",
      "metadata": {
        "id": "8HML2AqAhaen",
        "colab_type": "code",
        "colab": {
          "base_uri": "https://localhost:8080/",
          "height": 34
        },
        "outputId": "0f169c9c-fe8c-46cb-8225-a8959fc66bf9"
      },
      "source": [
        "data.loc[data.Venta>=cotas_venta[1],'Venta']=cotas_venta[1]\n",
        "data.loc[data.Venta<=cotas_venta[0],'Venta']=cotas_venta[0]\n",
        "[np.min(data.Venta),np.max(data.Venta)]"
      ],
      "execution_count": null,
      "outputs": [
        {
          "output_type": "execute_result",
          "data": {
            "text/plain": [
              "[8438.8, 197429.90399999998]"
            ]
          },
          "metadata": {
            "tags": []
          },
          "execution_count": 139
        }
      ]
    },
    {
      "cell_type": "code",
      "metadata": {
        "id": "YsPvhG_thahf",
        "colab_type": "code",
        "colab": {
          "base_uri": "https://localhost:8080/",
          "height": 296
        },
        "outputId": "97939ab1-2aeb-4384-8ce1-417ce0ec5008"
      },
      "source": [
        "data.Saldo.plot.box() #grid='True'"
      ],
      "execution_count": null,
      "outputs": [
        {
          "output_type": "execute_result",
          "data": {
            "text/plain": [
              "<matplotlib.axes._subplots.AxesSubplot at 0x7f657b048160>"
            ]
          },
          "metadata": {
            "tags": []
          },
          "execution_count": 140
        },
        {
          "output_type": "display_data",
          "data": {
            "image/png": "[encoded data removed]",
            "text/plain": [
              "<Figure size 432x288 with 1 Axes>"
            ]
          },
          "metadata": {
            "tags": []
          }
        }
      ]
    },
    {
      "cell_type": "markdown",
      "metadata": {
        "id": "do8ufru2dGpf",
        "colab_type": "text"
      },
      "source": [
        "<a id='seleccion'></a>\n",
        "#### 4. Selección de características"
      ]
    },
    {
      "cell_type": "markdown",
      "metadata": {
        "id": "K_-9Qe5A1i6J",
        "colab_type": "text"
      },
      "source": [
        "La variable turismo podria ser tambien contribuyente asi que lo separamor por dummies"
      ]
    },
    {
      "cell_type": "code",
      "metadata": {
        "id": "_AybL1CwiZ5o",
        "colab_type": "code",
        "colab": {
          "base_uri": "https://localhost:8080/",
          "height": 438
        },
        "outputId": "558ac335-cc10-4fce-e2ff-952cd4e3d749"
      },
      "source": [
        "dummy_sector = pd.get_dummies(data[\"Sector\"], prefix=\"sec\")\n",
        "dummy_departamento = pd.get_dummies(data[\"Dep\"], prefix=\"dep\")\n",
        "dummy_turismo = pd.get_dummies(data[\"Turismo\"], prefix=\"turis\")\n",
        "dummy_departamento"
      ],
      "execution_count": null,
      "outputs": [
        {
          "output_type": "execute_result",
          "data": {
            "text/html": [
              "<div>\n",
              "<style scoped>\n",
              "    .dataframe tbody tr th:only-of-type {\n",
              "        vertical-align: middle;\n",
              "    }\n",
              "\n",
              "    .dataframe tbody tr th {\n",
              "        vertical-align: top;\n",
              "    }\n",
              "\n",
              "    .dataframe thead th {\n",
              "        text-align: right;\n",
              "    }\n",
              "</style>\n",
              "<table border=\"1\" class=\"dataframe\">\n",
              "  <thead>\n",
              "    <tr style=\"text-align: right;\">\n",
              "      <th></th>\n",
              "      <th>dep_Amazonas</th>\n",
              "      <th>dep_Apurímac</th>\n",
              "      <th>dep_Arequipa</th>\n",
              "      <th>dep_Ayacucho</th>\n",
              "      <th>dep_Cajamarca</th>\n",
              "      <th>dep_Callao</th>\n",
              "      <th>dep_Cusco</th>\n",
              "      <th>dep_Huancavelica</th>\n",
              "      <th>dep_Huánuco</th>\n",
              "      <th>dep_Ica</th>\n",
              "      <th>dep_Junín</th>\n",
              "      <th>dep_La Libertad</th>\n",
              "      <th>dep_Lambayeque</th>\n",
              "      <th>dep_Lima</th>\n",
              "      <th>dep_Loreto</th>\n",
              "      <th>dep_Madre de Dios</th>\n",
              "      <th>dep_Moquegua</th>\n",
              "      <th>dep_Pasco</th>\n",
              "      <th>dep_Piura</th>\n",
              "      <th>dep_Puno</th>\n",
              "      <th>dep_San Martín</th>\n",
              "      <th>dep_Tacna</th>\n",
              "      <th>dep_Tumbes</th>\n",
              "      <th>dep_Ucayali</th>\n",
              "      <th>dep_Áncash</th>\n",
              "    </tr>\n",
              "  </thead>\n",
              "  <tbody>\n",
              "    <tr>\n",
              "      <th>0</th>\n",
              "      <td>0</td>\n",
              "      <td>0</td>\n",
              "      <td>0</td>\n",
              "      <td>0</td>\n",
              "      <td>0</td>\n",
              "      <td>0</td>\n",
              "      <td>0</td>\n",
              "      <td>0</td>\n",
              "      <td>0</td>\n",
              "      <td>0</td>\n",
              "      <td>0</td>\n",
              "      <td>0</td>\n",
              "      <td>0</td>\n",
              "      <td>1</td>\n",
              "      <td>0</td>\n",
              "      <td>0</td>\n",
              "      <td>0</td>\n",
              "      <td>0</td>\n",
              "      <td>0</td>\n",
              "      <td>0</td>\n",
              "      <td>0</td>\n",
              "      <td>0</td>\n",
              "      <td>0</td>\n",
              "      <td>0</td>\n",
              "      <td>0</td>\n",
              "    </tr>\n",
              "    <tr>\n",
              "      <th>1</th>\n",
              "      <td>0</td>\n",
              "      <td>0</td>\n",
              "      <td>1</td>\n",
              "      <td>0</td>\n",
              "      <td>0</td>\n",
              "      <td>0</td>\n",
              "      <td>0</td>\n",
              "      <td>0</td>\n",
              "      <td>0</td>\n",
              "      <td>0</td>\n",
              "      <td>0</td>\n",
              "      <td>0</td>\n",
              "      <td>0</td>\n",
              "      <td>0</td>\n",
              "      <td>0</td>\n",
              "      <td>0</td>\n",
              "      <td>0</td>\n",
              "      <td>0</td>\n",
              "      <td>0</td>\n",
              "      <td>0</td>\n",
              "      <td>0</td>\n",
              "      <td>0</td>\n",
              "      <td>0</td>\n",
              "      <td>0</td>\n",
              "      <td>0</td>\n",
              "    </tr>\n",
              "    <tr>\n",
              "      <th>2</th>\n",
              "      <td>1</td>\n",
              "      <td>0</td>\n",
              "      <td>0</td>\n",
              "      <td>0</td>\n",
              "      <td>0</td>\n",
              "      <td>0</td>\n",
              "      <td>0</td>\n",
              "      <td>0</td>\n",
              "      <td>0</td>\n",
              "      <td>0</td>\n",
              "      <td>0</td>\n",
              "      <td>0</td>\n",
              "      <td>0</td>\n",
              "      <td>0</td>\n",
              "      <td>0</td>\n",
              "      <td>0</td>\n",
              "      <td>0</td>\n",
              "      <td>0</td>\n",
              "      <td>0</td>\n",
              "      <td>0</td>\n",
              "      <td>0</td>\n",
              "      <td>0</td>\n",
              "      <td>0</td>\n",
              "      <td>0</td>\n",
              "      <td>0</td>\n",
              "    </tr>\n",
              "    <tr>\n",
              "      <th>3</th>\n",
              "      <td>0</td>\n",
              "      <td>0</td>\n",
              "      <td>0</td>\n",
              "      <td>0</td>\n",
              "      <td>0</td>\n",
              "      <td>0</td>\n",
              "      <td>0</td>\n",
              "      <td>0</td>\n",
              "      <td>0</td>\n",
              "      <td>0</td>\n",
              "      <td>0</td>\n",
              "      <td>0</td>\n",
              "      <td>0</td>\n",
              "      <td>1</td>\n",
              "      <td>0</td>\n",
              "      <td>0</td>\n",
              "      <td>0</td>\n",
              "      <td>0</td>\n",
              "      <td>0</td>\n",
              "      <td>0</td>\n",
              "      <td>0</td>\n",
              "      <td>0</td>\n",
              "      <td>0</td>\n",
              "      <td>0</td>\n",
              "      <td>0</td>\n",
              "    </tr>\n",
              "    <tr>\n",
              "      <th>4</th>\n",
              "      <td>0</td>\n",
              "      <td>0</td>\n",
              "      <td>0</td>\n",
              "      <td>0</td>\n",
              "      <td>0</td>\n",
              "      <td>0</td>\n",
              "      <td>1</td>\n",
              "      <td>0</td>\n",
              "      <td>0</td>\n",
              "      <td>0</td>\n",
              "      <td>0</td>\n",
              "      <td>0</td>\n",
              "      <td>0</td>\n",
              "      <td>0</td>\n",
              "      <td>0</td>\n",
              "      <td>0</td>\n",
              "      <td>0</td>\n",
              "      <td>0</td>\n",
              "      <td>0</td>\n",
              "      <td>0</td>\n",
              "      <td>0</td>\n",
              "      <td>0</td>\n",
              "      <td>0</td>\n",
              "      <td>0</td>\n",
              "      <td>0</td>\n",
              "    </tr>\n",
              "    <tr>\n",
              "      <th>...</th>\n",
              "      <td>...</td>\n",
              "      <td>...</td>\n",
              "      <td>...</td>\n",
              "      <td>...</td>\n",
              "      <td>...</td>\n",
              "      <td>...</td>\n",
              "      <td>...</td>\n",
              "      <td>...</td>\n",
              "      <td>...</td>\n",
              "      <td>...</td>\n",
              "      <td>...</td>\n",
              "      <td>...</td>\n",
              "      <td>...</td>\n",
              "      <td>...</td>\n",
              "      <td>...</td>\n",
              "      <td>...</td>\n",
              "      <td>...</td>\n",
              "      <td>...</td>\n",
              "      <td>...</td>\n",
              "      <td>...</td>\n",
              "      <td>...</td>\n",
              "      <td>...</td>\n",
              "      <td>...</td>\n",
              "      <td>...</td>\n",
              "      <td>...</td>\n",
              "    </tr>\n",
              "    <tr>\n",
              "      <th>1993</th>\n",
              "      <td>0</td>\n",
              "      <td>0</td>\n",
              "      <td>0</td>\n",
              "      <td>0</td>\n",
              "      <td>0</td>\n",
              "      <td>0</td>\n",
              "      <td>0</td>\n",
              "      <td>0</td>\n",
              "      <td>0</td>\n",
              "      <td>0</td>\n",
              "      <td>0</td>\n",
              "      <td>0</td>\n",
              "      <td>1</td>\n",
              "      <td>0</td>\n",
              "      <td>0</td>\n",
              "      <td>0</td>\n",
              "      <td>0</td>\n",
              "      <td>0</td>\n",
              "      <td>0</td>\n",
              "      <td>0</td>\n",
              "      <td>0</td>\n",
              "      <td>0</td>\n",
              "      <td>0</td>\n",
              "      <td>0</td>\n",
              "      <td>0</td>\n",
              "    </tr>\n",
              "    <tr>\n",
              "      <th>1994</th>\n",
              "      <td>0</td>\n",
              "      <td>0</td>\n",
              "      <td>1</td>\n",
              "      <td>0</td>\n",
              "      <td>0</td>\n",
              "      <td>0</td>\n",
              "      <td>0</td>\n",
              "      <td>0</td>\n",
              "      <td>0</td>\n",
              "      <td>0</td>\n",
              "      <td>0</td>\n",
              "      <td>0</td>\n",
              "      <td>0</td>\n",
              "      <td>0</td>\n",
              "      <td>0</td>\n",
              "      <td>0</td>\n",
              "      <td>0</td>\n",
              "      <td>0</td>\n",
              "      <td>0</td>\n",
              "      <td>0</td>\n",
              "      <td>0</td>\n",
              "      <td>0</td>\n",
              "      <td>0</td>\n",
              "      <td>0</td>\n",
              "      <td>0</td>\n",
              "    </tr>\n",
              "    <tr>\n",
              "      <th>1995</th>\n",
              "      <td>0</td>\n",
              "      <td>0</td>\n",
              "      <td>0</td>\n",
              "      <td>0</td>\n",
              "      <td>0</td>\n",
              "      <td>0</td>\n",
              "      <td>0</td>\n",
              "      <td>0</td>\n",
              "      <td>0</td>\n",
              "      <td>0</td>\n",
              "      <td>0</td>\n",
              "      <td>0</td>\n",
              "      <td>0</td>\n",
              "      <td>1</td>\n",
              "      <td>0</td>\n",
              "      <td>0</td>\n",
              "      <td>0</td>\n",
              "      <td>0</td>\n",
              "      <td>0</td>\n",
              "      <td>0</td>\n",
              "      <td>0</td>\n",
              "      <td>0</td>\n",
              "      <td>0</td>\n",
              "      <td>0</td>\n",
              "      <td>0</td>\n",
              "    </tr>\n",
              "    <tr>\n",
              "      <th>1996</th>\n",
              "      <td>0</td>\n",
              "      <td>0</td>\n",
              "      <td>0</td>\n",
              "      <td>0</td>\n",
              "      <td>0</td>\n",
              "      <td>0</td>\n",
              "      <td>0</td>\n",
              "      <td>0</td>\n",
              "      <td>0</td>\n",
              "      <td>0</td>\n",
              "      <td>0</td>\n",
              "      <td>0</td>\n",
              "      <td>0</td>\n",
              "      <td>1</td>\n",
              "      <td>0</td>\n",
              "      <td>0</td>\n",
              "      <td>0</td>\n",
              "      <td>0</td>\n",
              "      <td>0</td>\n",
              "      <td>0</td>\n",
              "      <td>0</td>\n",
              "      <td>0</td>\n",
              "      <td>0</td>\n",
              "      <td>0</td>\n",
              "      <td>0</td>\n",
              "    </tr>\n",
              "    <tr>\n",
              "      <th>1997</th>\n",
              "      <td>0</td>\n",
              "      <td>0</td>\n",
              "      <td>1</td>\n",
              "      <td>0</td>\n",
              "      <td>0</td>\n",
              "      <td>0</td>\n",
              "      <td>0</td>\n",
              "      <td>0</td>\n",
              "      <td>0</td>\n",
              "      <td>0</td>\n",
              "      <td>0</td>\n",
              "      <td>0</td>\n",
              "      <td>0</td>\n",
              "      <td>0</td>\n",
              "      <td>0</td>\n",
              "      <td>0</td>\n",
              "      <td>0</td>\n",
              "      <td>0</td>\n",
              "      <td>0</td>\n",
              "      <td>0</td>\n",
              "      <td>0</td>\n",
              "      <td>0</td>\n",
              "      <td>0</td>\n",
              "      <td>0</td>\n",
              "      <td>0</td>\n",
              "    </tr>\n",
              "  </tbody>\n",
              "</table>\n",
              "<p>1998 rows × 25 columns</p>\n",
              "</div>"
            ],
            "text/plain": [
              "      dep_Amazonas  dep_Apurímac  ...  dep_Ucayali  dep_Áncash\n",
              "0                0             0  ...            0           0\n",
              "1                0             0  ...            0           0\n",
              "2                1             0  ...            0           0\n",
              "3                0             0  ...            0           0\n",
              "4                0             0  ...            0           0\n",
              "...            ...           ...  ...          ...         ...\n",
              "1993             0             0  ...            0           0\n",
              "1994             0             0  ...            0           0\n",
              "1995             0             0  ...            0           0\n",
              "1996             0             0  ...            0           0\n",
              "1997             0             0  ...            0           0\n",
              "\n",
              "[1998 rows x 25 columns]"
            ]
          },
          "metadata": {
            "tags": []
          },
          "execution_count": 80
        }
      ]
    },
    {
      "cell_type": "code",
      "metadata": {
        "id": "mWBhtMe6iZ3K",
        "colab_type": "code",
        "colab": {
          "base_uri": "https://localhost:8080/",
          "height": 438
        },
        "outputId": "e78ff047-84f1-4145-d3a8-6b7281287964"
      },
      "source": [
        "data=pd.concat([data,dummy_sector,dummy_turismo,dummy_departamento],axis=1)\n",
        "data"
      ],
      "execution_count": null,
      "outputs": [
        {
          "output_type": "execute_result",
          "data": {
            "text/html": [
              "<div>\n",
              "<style scoped>\n",
              "    .dataframe tbody tr th:only-of-type {\n",
              "        vertical-align: middle;\n",
              "    }\n",
              "\n",
              "    .dataframe tbody tr th {\n",
              "        vertical-align: top;\n",
              "    }\n",
              "\n",
              "    .dataframe thead th {\n",
              "        text-align: right;\n",
              "    }\n",
              "</style>\n",
              "<table border=\"1\" class=\"dataframe\">\n",
              "  <thead>\n",
              "    <tr style=\"text-align: right;\">\n",
              "      <th></th>\n",
              "      <th>Sector</th>\n",
              "      <th>Dep</th>\n",
              "      <th>Impactado</th>\n",
              "      <th>Saldo</th>\n",
              "      <th>Desembolso_mes</th>\n",
              "      <th>Saldo_Promedio</th>\n",
              "      <th>Deuda_Sistema</th>\n",
              "      <th>Pasivo</th>\n",
              "      <th>Turismo</th>\n",
              "      <th>Sector_de_Impacto</th>\n",
              "      <th>Venta</th>\n",
              "      <th>Venta_Formal</th>\n",
              "      <th>Pasivo_desembolso</th>\n",
              "      <th>Deuda_rezagada_va</th>\n",
              "      <th>Deuda_rezagada_vr</th>\n",
              "      <th>pasivo_rezagada_va</th>\n",
              "      <th>pasivo_rezagada_vr</th>\n",
              "      <th>Pasivo_desembolso_da</th>\n",
              "      <th>Pasivo_desembolso dr</th>\n",
              "      <th>sec_COMERCIO</th>\n",
              "      <th>sec_INDUSTRIA</th>\n",
              "      <th>sec_SERVICIO</th>\n",
              "      <th>turis_0</th>\n",
              "      <th>turis_1</th>\n",
              "      <th>sec_COMERCIO</th>\n",
              "      <th>sec_INDUSTRIA</th>\n",
              "      <th>sec_SERVICIO</th>\n",
              "      <th>turis_0</th>\n",
              "      <th>turis_1</th>\n",
              "      <th>dep_Amazonas</th>\n",
              "      <th>dep_Apurímac</th>\n",
              "      <th>dep_Arequipa</th>\n",
              "      <th>dep_Ayacucho</th>\n",
              "      <th>dep_Cajamarca</th>\n",
              "      <th>dep_Callao</th>\n",
              "      <th>dep_Cusco</th>\n",
              "      <th>dep_Huancavelica</th>\n",
              "      <th>dep_Huánuco</th>\n",
              "      <th>dep_Ica</th>\n",
              "      <th>dep_Junín</th>\n",
              "      <th>...</th>\n",
              "      <th>dep_Madre de Dios</th>\n",
              "      <th>dep_Moquegua</th>\n",
              "      <th>dep_Pasco</th>\n",
              "      <th>dep_Piura</th>\n",
              "      <th>dep_Puno</th>\n",
              "      <th>dep_San Martín</th>\n",
              "      <th>dep_Tacna</th>\n",
              "      <th>dep_Tumbes</th>\n",
              "      <th>dep_Ucayali</th>\n",
              "      <th>dep_Áncash</th>\n",
              "      <th>sec_COMERCIO</th>\n",
              "      <th>sec_INDUSTRIA</th>\n",
              "      <th>sec_SERVICIO</th>\n",
              "      <th>turis_0</th>\n",
              "      <th>turis_1</th>\n",
              "      <th>dep_Amazonas</th>\n",
              "      <th>dep_Apurímac</th>\n",
              "      <th>dep_Arequipa</th>\n",
              "      <th>dep_Ayacucho</th>\n",
              "      <th>dep_Cajamarca</th>\n",
              "      <th>dep_Callao</th>\n",
              "      <th>dep_Cusco</th>\n",
              "      <th>dep_Huancavelica</th>\n",
              "      <th>dep_Huánuco</th>\n",
              "      <th>dep_Ica</th>\n",
              "      <th>dep_Junín</th>\n",
              "      <th>dep_La Libertad</th>\n",
              "      <th>dep_Lambayeque</th>\n",
              "      <th>dep_Lima</th>\n",
              "      <th>dep_Loreto</th>\n",
              "      <th>dep_Madre de Dios</th>\n",
              "      <th>dep_Moquegua</th>\n",
              "      <th>dep_Pasco</th>\n",
              "      <th>dep_Piura</th>\n",
              "      <th>dep_Puno</th>\n",
              "      <th>dep_San Martín</th>\n",
              "      <th>dep_Tacna</th>\n",
              "      <th>dep_Tumbes</th>\n",
              "      <th>dep_Ucayali</th>\n",
              "      <th>dep_Áncash</th>\n",
              "    </tr>\n",
              "  </thead>\n",
              "  <tbody>\n",
              "    <tr>\n",
              "      <th>0</th>\n",
              "      <td>INDUSTRIA</td>\n",
              "      <td>Lima</td>\n",
              "      <td>0</td>\n",
              "      <td>56643.10092</td>\n",
              "      <td>0.0</td>\n",
              "      <td>28321.550460</td>\n",
              "      <td>31365.73</td>\n",
              "      <td>5876.82</td>\n",
              "      <td>0</td>\n",
              "      <td>3</td>\n",
              "      <td>108400.0</td>\n",
              "      <td>43741.08</td>\n",
              "      <td>5876.820</td>\n",
              "      <td>-800.65</td>\n",
              "      <td>-0.024891</td>\n",
              "      <td>830.82</td>\n",
              "      <td>0.164649</td>\n",
              "      <td>830.82</td>\n",
              "      <td>0.164649</td>\n",
              "      <td>0</td>\n",
              "      <td>1</td>\n",
              "      <td>0</td>\n",
              "      <td>1</td>\n",
              "      <td>0</td>\n",
              "      <td>0</td>\n",
              "      <td>1</td>\n",
              "      <td>0</td>\n",
              "      <td>1</td>\n",
              "      <td>0</td>\n",
              "      <td>0</td>\n",
              "      <td>0</td>\n",
              "      <td>0</td>\n",
              "      <td>0</td>\n",
              "      <td>0</td>\n",
              "      <td>0</td>\n",
              "      <td>0</td>\n",
              "      <td>0</td>\n",
              "      <td>0</td>\n",
              "      <td>0</td>\n",
              "      <td>0</td>\n",
              "      <td>...</td>\n",
              "      <td>0</td>\n",
              "      <td>0</td>\n",
              "      <td>0</td>\n",
              "      <td>0</td>\n",
              "      <td>0</td>\n",
              "      <td>0</td>\n",
              "      <td>0</td>\n",
              "      <td>0</td>\n",
              "      <td>0</td>\n",
              "      <td>0</td>\n",
              "      <td>0</td>\n",
              "      <td>1</td>\n",
              "      <td>0</td>\n",
              "      <td>1</td>\n",
              "      <td>0</td>\n",
              "      <td>0</td>\n",
              "      <td>0</td>\n",
              "      <td>0</td>\n",
              "      <td>0</td>\n",
              "      <td>0</td>\n",
              "      <td>0</td>\n",
              "      <td>0</td>\n",
              "      <td>0</td>\n",
              "      <td>0</td>\n",
              "      <td>0</td>\n",
              "      <td>0</td>\n",
              "      <td>0</td>\n",
              "      <td>0</td>\n",
              "      <td>1</td>\n",
              "      <td>0</td>\n",
              "      <td>0</td>\n",
              "      <td>0</td>\n",
              "      <td>0</td>\n",
              "      <td>0</td>\n",
              "      <td>0</td>\n",
              "      <td>0</td>\n",
              "      <td>0</td>\n",
              "      <td>0</td>\n",
              "      <td>0</td>\n",
              "      <td>0</td>\n",
              "    </tr>\n",
              "    <tr>\n",
              "      <th>1</th>\n",
              "      <td>COMERCIO</td>\n",
              "      <td>Arequipa</td>\n",
              "      <td>0</td>\n",
              "      <td>190313.99460</td>\n",
              "      <td>0.0</td>\n",
              "      <td>63437.998180</td>\n",
              "      <td>64864.99</td>\n",
              "      <td>4467.40</td>\n",
              "      <td>0</td>\n",
              "      <td>4</td>\n",
              "      <td>105300.0</td>\n",
              "      <td>69737.17</td>\n",
              "      <td>4467.400</td>\n",
              "      <td>-2810.52</td>\n",
              "      <td>-0.041529</td>\n",
              "      <td>-7043.43</td>\n",
              "      <td>-0.611896</td>\n",
              "      <td>-7043.43</td>\n",
              "      <td>-0.611896</td>\n",
              "      <td>1</td>\n",
              "      <td>0</td>\n",
              "      <td>0</td>\n",
              "      <td>1</td>\n",
              "      <td>0</td>\n",
              "      <td>1</td>\n",
              "      <td>0</td>\n",
              "      <td>0</td>\n",
              "      <td>1</td>\n",
              "      <td>0</td>\n",
              "      <td>0</td>\n",
              "      <td>0</td>\n",
              "      <td>1</td>\n",
              "      <td>0</td>\n",
              "      <td>0</td>\n",
              "      <td>0</td>\n",
              "      <td>0</td>\n",
              "      <td>0</td>\n",
              "      <td>0</td>\n",
              "      <td>0</td>\n",
              "      <td>0</td>\n",
              "      <td>...</td>\n",
              "      <td>0</td>\n",
              "      <td>0</td>\n",
              "      <td>0</td>\n",
              "      <td>0</td>\n",
              "      <td>0</td>\n",
              "      <td>0</td>\n",
              "      <td>0</td>\n",
              "      <td>0</td>\n",
              "      <td>0</td>\n",
              "      <td>0</td>\n",
              "      <td>1</td>\n",
              "      <td>0</td>\n",
              "      <td>0</td>\n",
              "      <td>1</td>\n",
              "      <td>0</td>\n",
              "      <td>0</td>\n",
              "      <td>0</td>\n",
              "      <td>1</td>\n",
              "      <td>0</td>\n",
              "      <td>0</td>\n",
              "      <td>0</td>\n",
              "      <td>0</td>\n",
              "      <td>0</td>\n",
              "      <td>0</td>\n",
              "      <td>0</td>\n",
              "      <td>0</td>\n",
              "      <td>0</td>\n",
              "      <td>0</td>\n",
              "      <td>0</td>\n",
              "      <td>0</td>\n",
              "      <td>0</td>\n",
              "      <td>0</td>\n",
              "      <td>0</td>\n",
              "      <td>0</td>\n",
              "      <td>0</td>\n",
              "      <td>0</td>\n",
              "      <td>0</td>\n",
              "      <td>0</td>\n",
              "      <td>0</td>\n",
              "      <td>0</td>\n",
              "    </tr>\n",
              "    <tr>\n",
              "      <th>2</th>\n",
              "      <td>SERVICIO</td>\n",
              "      <td>Amazonas</td>\n",
              "      <td>0</td>\n",
              "      <td>547601.57360</td>\n",
              "      <td>0.0</td>\n",
              "      <td>182533.857900</td>\n",
              "      <td>200239.32</td>\n",
              "      <td>5000.92</td>\n",
              "      <td>0</td>\n",
              "      <td>1</td>\n",
              "      <td>86600.0</td>\n",
              "      <td>79178.83</td>\n",
              "      <td>5000.920</td>\n",
              "      <td>653.68</td>\n",
              "      <td>0.003275</td>\n",
              "      <td>2000.92</td>\n",
              "      <td>0.666973</td>\n",
              "      <td>2000.92</td>\n",
              "      <td>0.666973</td>\n",
              "      <td>0</td>\n",
              "      <td>0</td>\n",
              "      <td>1</td>\n",
              "      <td>1</td>\n",
              "      <td>0</td>\n",
              "      <td>0</td>\n",
              "      <td>0</td>\n",
              "      <td>1</td>\n",
              "      <td>1</td>\n",
              "      <td>0</td>\n",
              "      <td>1</td>\n",
              "      <td>0</td>\n",
              "      <td>0</td>\n",
              "      <td>0</td>\n",
              "      <td>0</td>\n",
              "      <td>0</td>\n",
              "      <td>0</td>\n",
              "      <td>0</td>\n",
              "      <td>0</td>\n",
              "      <td>0</td>\n",
              "      <td>0</td>\n",
              "      <td>...</td>\n",
              "      <td>0</td>\n",
              "      <td>0</td>\n",
              "      <td>0</td>\n",
              "      <td>0</td>\n",
              "      <td>0</td>\n",
              "      <td>0</td>\n",
              "      <td>0</td>\n",
              "      <td>0</td>\n",
              "      <td>0</td>\n",
              "      <td>0</td>\n",
              "      <td>0</td>\n",
              "      <td>0</td>\n",
              "      <td>1</td>\n",
              "      <td>1</td>\n",
              "      <td>0</td>\n",
              "      <td>1</td>\n",
              "      <td>0</td>\n",
              "      <td>0</td>\n",
              "      <td>0</td>\n",
              "      <td>0</td>\n",
              "      <td>0</td>\n",
              "      <td>0</td>\n",
              "      <td>0</td>\n",
              "      <td>0</td>\n",
              "      <td>0</td>\n",
              "      <td>0</td>\n",
              "      <td>0</td>\n",
              "      <td>0</td>\n",
              "      <td>0</td>\n",
              "      <td>0</td>\n",
              "      <td>0</td>\n",
              "      <td>0</td>\n",
              "      <td>0</td>\n",
              "      <td>0</td>\n",
              "      <td>0</td>\n",
              "      <td>0</td>\n",
              "      <td>0</td>\n",
              "      <td>0</td>\n",
              "      <td>0</td>\n",
              "      <td>0</td>\n",
              "    </tr>\n",
              "    <tr>\n",
              "      <th>3</th>\n",
              "      <td>INDUSTRIA</td>\n",
              "      <td>Lima</td>\n",
              "      <td>0</td>\n",
              "      <td>283914.20840</td>\n",
              "      <td>0.0</td>\n",
              "      <td>94638.069470</td>\n",
              "      <td>112945.17</td>\n",
              "      <td>325.50</td>\n",
              "      <td>0</td>\n",
              "      <td>3</td>\n",
              "      <td>103000.0</td>\n",
              "      <td>0.00</td>\n",
              "      <td>325.500</td>\n",
              "      <td>14820.77</td>\n",
              "      <td>0.151041</td>\n",
              "      <td>-17128.30</td>\n",
              "      <td>-0.981351</td>\n",
              "      <td>-17128.30</td>\n",
              "      <td>-0.981351</td>\n",
              "      <td>0</td>\n",
              "      <td>1</td>\n",
              "      <td>0</td>\n",
              "      <td>1</td>\n",
              "      <td>0</td>\n",
              "      <td>0</td>\n",
              "      <td>1</td>\n",
              "      <td>0</td>\n",
              "      <td>1</td>\n",
              "      <td>0</td>\n",
              "      <td>0</td>\n",
              "      <td>0</td>\n",
              "      <td>0</td>\n",
              "      <td>0</td>\n",
              "      <td>0</td>\n",
              "      <td>0</td>\n",
              "      <td>0</td>\n",
              "      <td>0</td>\n",
              "      <td>0</td>\n",
              "      <td>0</td>\n",
              "      <td>0</td>\n",
              "      <td>...</td>\n",
              "      <td>0</td>\n",
              "      <td>0</td>\n",
              "      <td>0</td>\n",
              "      <td>0</td>\n",
              "      <td>0</td>\n",
              "      <td>0</td>\n",
              "      <td>0</td>\n",
              "      <td>0</td>\n",
              "      <td>0</td>\n",
              "      <td>0</td>\n",
              "      <td>0</td>\n",
              "      <td>1</td>\n",
              "      <td>0</td>\n",
              "      <td>1</td>\n",
              "      <td>0</td>\n",
              "      <td>0</td>\n",
              "      <td>0</td>\n",
              "      <td>0</td>\n",
              "      <td>0</td>\n",
              "      <td>0</td>\n",
              "      <td>0</td>\n",
              "      <td>0</td>\n",
              "      <td>0</td>\n",
              "      <td>0</td>\n",
              "      <td>0</td>\n",
              "      <td>0</td>\n",
              "      <td>0</td>\n",
              "      <td>0</td>\n",
              "      <td>1</td>\n",
              "      <td>0</td>\n",
              "      <td>0</td>\n",
              "      <td>0</td>\n",
              "      <td>0</td>\n",
              "      <td>0</td>\n",
              "      <td>0</td>\n",
              "      <td>0</td>\n",
              "      <td>0</td>\n",
              "      <td>0</td>\n",
              "      <td>0</td>\n",
              "      <td>0</td>\n",
              "    </tr>\n",
              "    <tr>\n",
              "      <th>4</th>\n",
              "      <td>COMERCIO</td>\n",
              "      <td>Cusco</td>\n",
              "      <td>0</td>\n",
              "      <td>142296.43840</td>\n",
              "      <td>0.0</td>\n",
              "      <td>47432.146120</td>\n",
              "      <td>144877.21</td>\n",
              "      <td>0.00</td>\n",
              "      <td>0</td>\n",
              "      <td>4</td>\n",
              "      <td>172920.0</td>\n",
              "      <td>171999.33</td>\n",
              "      <td>0.000</td>\n",
              "      <td>17468.60</td>\n",
              "      <td>0.137107</td>\n",
              "      <td>-2071.80</td>\n",
              "      <td>-1.000000</td>\n",
              "      <td>-2071.80</td>\n",
              "      <td>-1.000000</td>\n",
              "      <td>1</td>\n",
              "      <td>0</td>\n",
              "      <td>0</td>\n",
              "      <td>1</td>\n",
              "      <td>0</td>\n",
              "      <td>1</td>\n",
              "      <td>0</td>\n",
              "      <td>0</td>\n",
              "      <td>1</td>\n",
              "      <td>0</td>\n",
              "      <td>0</td>\n",
              "      <td>0</td>\n",
              "      <td>0</td>\n",
              "      <td>0</td>\n",
              "      <td>0</td>\n",
              "      <td>0</td>\n",
              "      <td>1</td>\n",
              "      <td>0</td>\n",
              "      <td>0</td>\n",
              "      <td>0</td>\n",
              "      <td>0</td>\n",
              "      <td>...</td>\n",
              "      <td>0</td>\n",
              "      <td>0</td>\n",
              "      <td>0</td>\n",
              "      <td>0</td>\n",
              "      <td>0</td>\n",
              "      <td>0</td>\n",
              "      <td>0</td>\n",
              "      <td>0</td>\n",
              "      <td>0</td>\n",
              "      <td>0</td>\n",
              "      <td>1</td>\n",
              "      <td>0</td>\n",
              "      <td>0</td>\n",
              "      <td>1</td>\n",
              "      <td>0</td>\n",
              "      <td>0</td>\n",
              "      <td>0</td>\n",
              "      <td>0</td>\n",
              "      <td>0</td>\n",
              "      <td>0</td>\n",
              "      <td>0</td>\n",
              "      <td>1</td>\n",
              "      <td>0</td>\n",
              "      <td>0</td>\n",
              "      <td>0</td>\n",
              "      <td>0</td>\n",
              "      <td>0</td>\n",
              "      <td>0</td>\n",
              "      <td>0</td>\n",
              "      <td>0</td>\n",
              "      <td>0</td>\n",
              "      <td>0</td>\n",
              "      <td>0</td>\n",
              "      <td>0</td>\n",
              "      <td>0</td>\n",
              "      <td>0</td>\n",
              "      <td>0</td>\n",
              "      <td>0</td>\n",
              "      <td>0</td>\n",
              "      <td>0</td>\n",
              "    </tr>\n",
              "    <tr>\n",
              "      <th>...</th>\n",
              "      <td>...</td>\n",
              "      <td>...</td>\n",
              "      <td>...</td>\n",
              "      <td>...</td>\n",
              "      <td>...</td>\n",
              "      <td>...</td>\n",
              "      <td>...</td>\n",
              "      <td>...</td>\n",
              "      <td>...</td>\n",
              "      <td>...</td>\n",
              "      <td>...</td>\n",
              "      <td>...</td>\n",
              "      <td>...</td>\n",
              "      <td>...</td>\n",
              "      <td>...</td>\n",
              "      <td>...</td>\n",
              "      <td>...</td>\n",
              "      <td>...</td>\n",
              "      <td>...</td>\n",
              "      <td>...</td>\n",
              "      <td>...</td>\n",
              "      <td>...</td>\n",
              "      <td>...</td>\n",
              "      <td>...</td>\n",
              "      <td>...</td>\n",
              "      <td>...</td>\n",
              "      <td>...</td>\n",
              "      <td>...</td>\n",
              "      <td>...</td>\n",
              "      <td>...</td>\n",
              "      <td>...</td>\n",
              "      <td>...</td>\n",
              "      <td>...</td>\n",
              "      <td>...</td>\n",
              "      <td>...</td>\n",
              "      <td>...</td>\n",
              "      <td>...</td>\n",
              "      <td>...</td>\n",
              "      <td>...</td>\n",
              "      <td>...</td>\n",
              "      <td>...</td>\n",
              "      <td>...</td>\n",
              "      <td>...</td>\n",
              "      <td>...</td>\n",
              "      <td>...</td>\n",
              "      <td>...</td>\n",
              "      <td>...</td>\n",
              "      <td>...</td>\n",
              "      <td>...</td>\n",
              "      <td>...</td>\n",
              "      <td>...</td>\n",
              "      <td>...</td>\n",
              "      <td>...</td>\n",
              "      <td>...</td>\n",
              "      <td>...</td>\n",
              "      <td>...</td>\n",
              "      <td>...</td>\n",
              "      <td>...</td>\n",
              "      <td>...</td>\n",
              "      <td>...</td>\n",
              "      <td>...</td>\n",
              "      <td>...</td>\n",
              "      <td>...</td>\n",
              "      <td>...</td>\n",
              "      <td>...</td>\n",
              "      <td>...</td>\n",
              "      <td>...</td>\n",
              "      <td>...</td>\n",
              "      <td>...</td>\n",
              "      <td>...</td>\n",
              "      <td>...</td>\n",
              "      <td>...</td>\n",
              "      <td>...</td>\n",
              "      <td>...</td>\n",
              "      <td>...</td>\n",
              "      <td>...</td>\n",
              "      <td>...</td>\n",
              "      <td>...</td>\n",
              "      <td>...</td>\n",
              "      <td>...</td>\n",
              "      <td>...</td>\n",
              "    </tr>\n",
              "    <tr>\n",
              "      <th>1993</th>\n",
              "      <td>COMERCIO</td>\n",
              "      <td>Lambayeque</td>\n",
              "      <td>1</td>\n",
              "      <td>4325.85076</td>\n",
              "      <td>0.0</td>\n",
              "      <td>1441.950253</td>\n",
              "      <td>1624.47</td>\n",
              "      <td>2558.31</td>\n",
              "      <td>0</td>\n",
              "      <td>4</td>\n",
              "      <td>30000.0</td>\n",
              "      <td>4905.00</td>\n",
              "      <td>2528.565</td>\n",
              "      <td>-710.56</td>\n",
              "      <td>-0.304304</td>\n",
              "      <td>-3174.29</td>\n",
              "      <td>-0.550924</td>\n",
              "      <td>-2548.50</td>\n",
              "      <td>-0.543144</td>\n",
              "      <td>1</td>\n",
              "      <td>0</td>\n",
              "      <td>0</td>\n",
              "      <td>1</td>\n",
              "      <td>0</td>\n",
              "      <td>1</td>\n",
              "      <td>0</td>\n",
              "      <td>0</td>\n",
              "      <td>1</td>\n",
              "      <td>0</td>\n",
              "      <td>0</td>\n",
              "      <td>0</td>\n",
              "      <td>0</td>\n",
              "      <td>0</td>\n",
              "      <td>0</td>\n",
              "      <td>0</td>\n",
              "      <td>0</td>\n",
              "      <td>0</td>\n",
              "      <td>0</td>\n",
              "      <td>0</td>\n",
              "      <td>0</td>\n",
              "      <td>...</td>\n",
              "      <td>0</td>\n",
              "      <td>0</td>\n",
              "      <td>0</td>\n",
              "      <td>0</td>\n",
              "      <td>0</td>\n",
              "      <td>0</td>\n",
              "      <td>0</td>\n",
              "      <td>0</td>\n",
              "      <td>0</td>\n",
              "      <td>0</td>\n",
              "      <td>1</td>\n",
              "      <td>0</td>\n",
              "      <td>0</td>\n",
              "      <td>1</td>\n",
              "      <td>0</td>\n",
              "      <td>0</td>\n",
              "      <td>0</td>\n",
              "      <td>0</td>\n",
              "      <td>0</td>\n",
              "      <td>0</td>\n",
              "      <td>0</td>\n",
              "      <td>0</td>\n",
              "      <td>0</td>\n",
              "      <td>0</td>\n",
              "      <td>0</td>\n",
              "      <td>0</td>\n",
              "      <td>0</td>\n",
              "      <td>1</td>\n",
              "      <td>0</td>\n",
              "      <td>0</td>\n",
              "      <td>0</td>\n",
              "      <td>0</td>\n",
              "      <td>0</td>\n",
              "      <td>0</td>\n",
              "      <td>0</td>\n",
              "      <td>0</td>\n",
              "      <td>0</td>\n",
              "      <td>0</td>\n",
              "      <td>0</td>\n",
              "      <td>0</td>\n",
              "    </tr>\n",
              "    <tr>\n",
              "      <th>1994</th>\n",
              "      <td>COMERCIO</td>\n",
              "      <td>Arequipa</td>\n",
              "      <td>1</td>\n",
              "      <td>94650.62631</td>\n",
              "      <td>0.0</td>\n",
              "      <td>31550.208770</td>\n",
              "      <td>75502.84</td>\n",
              "      <td>3029.48</td>\n",
              "      <td>0</td>\n",
              "      <td>4</td>\n",
              "      <td>32100.0</td>\n",
              "      <td>7034.00</td>\n",
              "      <td>3029.480</td>\n",
              "      <td>-5421.28</td>\n",
              "      <td>-0.066992</td>\n",
              "      <td>-10965.03</td>\n",
              "      <td>-0.783524</td>\n",
              "      <td>-10965.03</td>\n",
              "      <td>-0.783524</td>\n",
              "      <td>1</td>\n",
              "      <td>0</td>\n",
              "      <td>0</td>\n",
              "      <td>1</td>\n",
              "      <td>0</td>\n",
              "      <td>1</td>\n",
              "      <td>0</td>\n",
              "      <td>0</td>\n",
              "      <td>1</td>\n",
              "      <td>0</td>\n",
              "      <td>0</td>\n",
              "      <td>0</td>\n",
              "      <td>1</td>\n",
              "      <td>0</td>\n",
              "      <td>0</td>\n",
              "      <td>0</td>\n",
              "      <td>0</td>\n",
              "      <td>0</td>\n",
              "      <td>0</td>\n",
              "      <td>0</td>\n",
              "      <td>0</td>\n",
              "      <td>...</td>\n",
              "      <td>0</td>\n",
              "      <td>0</td>\n",
              "      <td>0</td>\n",
              "      <td>0</td>\n",
              "      <td>0</td>\n",
              "      <td>0</td>\n",
              "      <td>0</td>\n",
              "      <td>0</td>\n",
              "      <td>0</td>\n",
              "      <td>0</td>\n",
              "      <td>1</td>\n",
              "      <td>0</td>\n",
              "      <td>0</td>\n",
              "      <td>1</td>\n",
              "      <td>0</td>\n",
              "      <td>0</td>\n",
              "      <td>0</td>\n",
              "      <td>1</td>\n",
              "      <td>0</td>\n",
              "      <td>0</td>\n",
              "      <td>0</td>\n",
              "      <td>0</td>\n",
              "      <td>0</td>\n",
              "      <td>0</td>\n",
              "      <td>0</td>\n",
              "      <td>0</td>\n",
              "      <td>0</td>\n",
              "      <td>0</td>\n",
              "      <td>0</td>\n",
              "      <td>0</td>\n",
              "      <td>0</td>\n",
              "      <td>0</td>\n",
              "      <td>0</td>\n",
              "      <td>0</td>\n",
              "      <td>0</td>\n",
              "      <td>0</td>\n",
              "      <td>0</td>\n",
              "      <td>0</td>\n",
              "      <td>0</td>\n",
              "      <td>0</td>\n",
              "    </tr>\n",
              "    <tr>\n",
              "      <th>1995</th>\n",
              "      <td>COMERCIO</td>\n",
              "      <td>Lima</td>\n",
              "      <td>1</td>\n",
              "      <td>747579.33510</td>\n",
              "      <td>0.0</td>\n",
              "      <td>249193.111700</td>\n",
              "      <td>843972.49</td>\n",
              "      <td>593.99</td>\n",
              "      <td>0</td>\n",
              "      <td>3</td>\n",
              "      <td>180905.0</td>\n",
              "      <td>93482.00</td>\n",
              "      <td>593.990</td>\n",
              "      <td>6776.19</td>\n",
              "      <td>0.008094</td>\n",
              "      <td>-11589.60</td>\n",
              "      <td>-0.951247</td>\n",
              "      <td>-11589.60</td>\n",
              "      <td>-0.951247</td>\n",
              "      <td>1</td>\n",
              "      <td>0</td>\n",
              "      <td>0</td>\n",
              "      <td>1</td>\n",
              "      <td>0</td>\n",
              "      <td>1</td>\n",
              "      <td>0</td>\n",
              "      <td>0</td>\n",
              "      <td>1</td>\n",
              "      <td>0</td>\n",
              "      <td>0</td>\n",
              "      <td>0</td>\n",
              "      <td>0</td>\n",
              "      <td>0</td>\n",
              "      <td>0</td>\n",
              "      <td>0</td>\n",
              "      <td>0</td>\n",
              "      <td>0</td>\n",
              "      <td>0</td>\n",
              "      <td>0</td>\n",
              "      <td>0</td>\n",
              "      <td>...</td>\n",
              "      <td>0</td>\n",
              "      <td>0</td>\n",
              "      <td>0</td>\n",
              "      <td>0</td>\n",
              "      <td>0</td>\n",
              "      <td>0</td>\n",
              "      <td>0</td>\n",
              "      <td>0</td>\n",
              "      <td>0</td>\n",
              "      <td>0</td>\n",
              "      <td>1</td>\n",
              "      <td>0</td>\n",
              "      <td>0</td>\n",
              "      <td>1</td>\n",
              "      <td>0</td>\n",
              "      <td>0</td>\n",
              "      <td>0</td>\n",
              "      <td>0</td>\n",
              "      <td>0</td>\n",
              "      <td>0</td>\n",
              "      <td>0</td>\n",
              "      <td>0</td>\n",
              "      <td>0</td>\n",
              "      <td>0</td>\n",
              "      <td>0</td>\n",
              "      <td>0</td>\n",
              "      <td>0</td>\n",
              "      <td>0</td>\n",
              "      <td>1</td>\n",
              "      <td>0</td>\n",
              "      <td>0</td>\n",
              "      <td>0</td>\n",
              "      <td>0</td>\n",
              "      <td>0</td>\n",
              "      <td>0</td>\n",
              "      <td>0</td>\n",
              "      <td>0</td>\n",
              "      <td>0</td>\n",
              "      <td>0</td>\n",
              "      <td>0</td>\n",
              "    </tr>\n",
              "    <tr>\n",
              "      <th>1996</th>\n",
              "      <td>COMERCIO</td>\n",
              "      <td>Lima</td>\n",
              "      <td>1</td>\n",
              "      <td>18077.98187</td>\n",
              "      <td>0.0</td>\n",
              "      <td>6025.993957</td>\n",
              "      <td>122633.10</td>\n",
              "      <td>5312.64</td>\n",
              "      <td>0</td>\n",
              "      <td>3</td>\n",
              "      <td>69500.0</td>\n",
              "      <td>8333.00</td>\n",
              "      <td>5312.640</td>\n",
              "      <td>-3838.01</td>\n",
              "      <td>-0.030347</td>\n",
              "      <td>-18929.55</td>\n",
              "      <td>-0.780851</td>\n",
              "      <td>-18929.55</td>\n",
              "      <td>-0.780851</td>\n",
              "      <td>1</td>\n",
              "      <td>0</td>\n",
              "      <td>0</td>\n",
              "      <td>1</td>\n",
              "      <td>0</td>\n",
              "      <td>1</td>\n",
              "      <td>0</td>\n",
              "      <td>0</td>\n",
              "      <td>1</td>\n",
              "      <td>0</td>\n",
              "      <td>0</td>\n",
              "      <td>0</td>\n",
              "      <td>0</td>\n",
              "      <td>0</td>\n",
              "      <td>0</td>\n",
              "      <td>0</td>\n",
              "      <td>0</td>\n",
              "      <td>0</td>\n",
              "      <td>0</td>\n",
              "      <td>0</td>\n",
              "      <td>0</td>\n",
              "      <td>...</td>\n",
              "      <td>0</td>\n",
              "      <td>0</td>\n",
              "      <td>0</td>\n",
              "      <td>0</td>\n",
              "      <td>0</td>\n",
              "      <td>0</td>\n",
              "      <td>0</td>\n",
              "      <td>0</td>\n",
              "      <td>0</td>\n",
              "      <td>0</td>\n",
              "      <td>1</td>\n",
              "      <td>0</td>\n",
              "      <td>0</td>\n",
              "      <td>1</td>\n",
              "      <td>0</td>\n",
              "      <td>0</td>\n",
              "      <td>0</td>\n",
              "      <td>0</td>\n",
              "      <td>0</td>\n",
              "      <td>0</td>\n",
              "      <td>0</td>\n",
              "      <td>0</td>\n",
              "      <td>0</td>\n",
              "      <td>0</td>\n",
              "      <td>0</td>\n",
              "      <td>0</td>\n",
              "      <td>0</td>\n",
              "      <td>0</td>\n",
              "      <td>1</td>\n",
              "      <td>0</td>\n",
              "      <td>0</td>\n",
              "      <td>0</td>\n",
              "      <td>0</td>\n",
              "      <td>0</td>\n",
              "      <td>0</td>\n",
              "      <td>0</td>\n",
              "      <td>0</td>\n",
              "      <td>0</td>\n",
              "      <td>0</td>\n",
              "      <td>0</td>\n",
              "    </tr>\n",
              "    <tr>\n",
              "      <th>1997</th>\n",
              "      <td>SERVICIO</td>\n",
              "      <td>Arequipa</td>\n",
              "      <td>1</td>\n",
              "      <td>286471.03470</td>\n",
              "      <td>0.0</td>\n",
              "      <td>97561.751050</td>\n",
              "      <td>269538.61</td>\n",
              "      <td>2558.31</td>\n",
              "      <td>0</td>\n",
              "      <td>4</td>\n",
              "      <td>50514.0</td>\n",
              "      <td>4171.00</td>\n",
              "      <td>2528.565</td>\n",
              "      <td>-26220.40</td>\n",
              "      <td>-0.088655</td>\n",
              "      <td>-3174.29</td>\n",
              "      <td>-0.550924</td>\n",
              "      <td>-2548.50</td>\n",
              "      <td>-0.543144</td>\n",
              "      <td>0</td>\n",
              "      <td>0</td>\n",
              "      <td>1</td>\n",
              "      <td>1</td>\n",
              "      <td>0</td>\n",
              "      <td>0</td>\n",
              "      <td>0</td>\n",
              "      <td>1</td>\n",
              "      <td>1</td>\n",
              "      <td>0</td>\n",
              "      <td>0</td>\n",
              "      <td>0</td>\n",
              "      <td>1</td>\n",
              "      <td>0</td>\n",
              "      <td>0</td>\n",
              "      <td>0</td>\n",
              "      <td>0</td>\n",
              "      <td>0</td>\n",
              "      <td>0</td>\n",
              "      <td>0</td>\n",
              "      <td>0</td>\n",
              "      <td>...</td>\n",
              "      <td>0</td>\n",
              "      <td>0</td>\n",
              "      <td>0</td>\n",
              "      <td>0</td>\n",
              "      <td>0</td>\n",
              "      <td>0</td>\n",
              "      <td>0</td>\n",
              "      <td>0</td>\n",
              "      <td>0</td>\n",
              "      <td>0</td>\n",
              "      <td>0</td>\n",
              "      <td>0</td>\n",
              "      <td>1</td>\n",
              "      <td>1</td>\n",
              "      <td>0</td>\n",
              "      <td>0</td>\n",
              "      <td>0</td>\n",
              "      <td>1</td>\n",
              "      <td>0</td>\n",
              "      <td>0</td>\n",
              "      <td>0</td>\n",
              "      <td>0</td>\n",
              "      <td>0</td>\n",
              "      <td>0</td>\n",
              "      <td>0</td>\n",
              "      <td>0</td>\n",
              "      <td>0</td>\n",
              "      <td>0</td>\n",
              "      <td>0</td>\n",
              "      <td>0</td>\n",
              "      <td>0</td>\n",
              "      <td>0</td>\n",
              "      <td>0</td>\n",
              "      <td>0</td>\n",
              "      <td>0</td>\n",
              "      <td>0</td>\n",
              "      <td>0</td>\n",
              "      <td>0</td>\n",
              "      <td>0</td>\n",
              "      <td>0</td>\n",
              "    </tr>\n",
              "  </tbody>\n",
              "</table>\n",
              "<p>1998 rows × 84 columns</p>\n",
              "</div>"
            ],
            "text/plain": [
              "         Sector         Dep  Impactado  ...  dep_Tumbes  dep_Ucayali  dep_Áncash\n",
              "0     INDUSTRIA        Lima          0  ...           0            0           0\n",
              "1      COMERCIO    Arequipa          0  ...           0            0           0\n",
              "2      SERVICIO    Amazonas          0  ...           0            0           0\n",
              "3     INDUSTRIA        Lima          0  ...           0            0           0\n",
              "4      COMERCIO       Cusco          0  ...           0            0           0\n",
              "...         ...         ...        ...  ...         ...          ...         ...\n",
              "1993   COMERCIO  Lambayeque          1  ...           0            0           0\n",
              "1994   COMERCIO    Arequipa          1  ...           0            0           0\n",
              "1995   COMERCIO        Lima          1  ...           0            0           0\n",
              "1996   COMERCIO        Lima          1  ...           0            0           0\n",
              "1997   SERVICIO    Arequipa          1  ...           0            0           0\n",
              "\n",
              "[1998 rows x 84 columns]"
            ]
          },
          "metadata": {
            "tags": []
          },
          "execution_count": 156
        }
      ]
    },
    {
      "cell_type": "markdown",
      "metadata": {
        "id": "Hs8ruwCwPmPI",
        "colab_type": "text"
      },
      "source": [
        "<a id='evaluacion'></a>\n",
        "#### 5. Evaluación del Modelo y Métricas"
      ]
    },
    {
      "cell_type": "markdown",
      "metadata": {
        "id": "yGslin_nP2WK",
        "colab_type": "text"
      },
      "source": [
        "A priori podemos ver que los resultados de la variable dependiente debe ser de tipo binaria, con lo que se puede usar el metodo de regresión logistica por ser bien conocida y muy usada.\n",
        "\n",
        "Filtrando datos necesarios"
      ]
    },
    {
      "cell_type": "code",
      "metadata": {
        "id": "Fwp2lArwiZ00",
        "colab_type": "code",
        "colab": {}
      },
      "source": [
        "X=data\n",
        "X=X.drop(['Impactado','Sector',\"Turismo\",\"Dep\"], axis=1)\n",
        "X.head\n",
        "Y=data[\"Impactado\"]"
      ],
      "execution_count": null,
      "outputs": []
    },
    {
      "cell_type": "markdown",
      "metadata": {
        "id": "8b1tS374bZOy",
        "colab_type": "text"
      },
      "source": [
        "<a id=\"modelo\"></a>\n",
        "##### 5.1. Implementación del modelo en Python con scikit-learn"
      ]
    },
    {
      "cell_type": "code",
      "metadata": {
        "id": "cr-3H95xba57",
        "colab_type": "code",
        "colab": {}
      },
      "source": [
        "from sklearn import linear_model"
      ],
      "execution_count": null,
      "outputs": []
    },
    {
      "cell_type": "code",
      "metadata": {
        "id": "OHCIxsrgba2d",
        "colab_type": "code",
        "colab": {
          "base_uri": "https://localhost:8080/",
          "height": 101
        },
        "outputId": "a0f9aac8-6e9c-4508-cf4c-9a24943e1033"
      },
      "source": [
        "logit_model = linear_model.LogisticRegression()\n",
        "logit_model.fit(X,Y)"
      ],
      "execution_count": null,
      "outputs": [
        {
          "output_type": "execute_result",
          "data": {
            "text/plain": [
              "LogisticRegression(C=1.0, class_weight=None, dual=False, fit_intercept=True,\n",
              "                   intercept_scaling=1, l1_ratio=None, max_iter=100,\n",
              "                   multi_class='auto', n_jobs=None, penalty='l2',\n",
              "                   random_state=None, solver='lbfgs', tol=0.0001, verbose=0,\n",
              "                   warm_start=False)"
            ]
          },
          "metadata": {
            "tags": []
          },
          "execution_count": 334
        }
      ]
    },
    {
      "cell_type": "markdown",
      "metadata": {
        "id": "ZWjF27Fmb2cd",
        "colab_type": "text"
      },
      "source": [
        "Donde la exactitud es:"
      ]
    },
    {
      "cell_type": "code",
      "metadata": {
        "id": "4Q88u_aubazD",
        "colab_type": "code",
        "colab": {
          "base_uri": "https://localhost:8080/",
          "height": 34
        },
        "outputId": "daa3dbc7-8487-48fe-969f-f0bdac9ee09d"
      },
      "source": [
        "print(\"El accuracy por el modelo es: \",logit_model.score(X,Y))"
      ],
      "execution_count": null,
      "outputs": [
        {
          "output_type": "stream",
          "text": [
            "El accuracy por el modelo es:  0.6136136136136137\n"
          ],
          "name": "stdout"
        }
      ]
    },
    {
      "cell_type": "code",
      "metadata": {
        "id": "6VoW9B4xcAqf",
        "colab_type": "code",
        "colab": {
          "base_uri": "https://localhost:8080/",
          "height": 402
        },
        "outputId": "8081eab1-5832-43dd-c88c-0bc495088523"
      },
      "source": [
        "pd.DataFrame(list(zip(X.columns, np.transpose(logit_model.coef_))))"
      ],
      "execution_count": null,
      "outputs": [
        {
          "output_type": "execute_result",
          "data": {
            "text/html": [
              "<div>\n",
              "<style scoped>\n",
              "    .dataframe tbody tr th:only-of-type {\n",
              "        vertical-align: middle;\n",
              "    }\n",
              "\n",
              "    .dataframe tbody tr th {\n",
              "        vertical-align: top;\n",
              "    }\n",
              "\n",
              "    .dataframe thead th {\n",
              "        text-align: right;\n",
              "    }\n",
              "</style>\n",
              "<table border=\"1\" class=\"dataframe\">\n",
              "  <thead>\n",
              "    <tr style=\"text-align: right;\">\n",
              "      <th></th>\n",
              "      <th>0</th>\n",
              "      <th>1</th>\n",
              "    </tr>\n",
              "  </thead>\n",
              "  <tbody>\n",
              "    <tr>\n",
              "      <th>0</th>\n",
              "      <td>Saldo</td>\n",
              "      <td>[1.3442154184725379e-06]</td>\n",
              "    </tr>\n",
              "    <tr>\n",
              "      <th>1</th>\n",
              "      <td>Desembolso_mes</td>\n",
              "      <td>[3.553576455911833e-06]</td>\n",
              "    </tr>\n",
              "    <tr>\n",
              "      <th>2</th>\n",
              "      <td>Saldo_Promedio</td>\n",
              "      <td>[-1.6079815634761687e-06]</td>\n",
              "    </tr>\n",
              "    <tr>\n",
              "      <th>3</th>\n",
              "      <td>Deuda_Sistema</td>\n",
              "      <td>[1.2250711420368337e-06]</td>\n",
              "    </tr>\n",
              "    <tr>\n",
              "      <th>4</th>\n",
              "      <td>Pasivo</td>\n",
              "      <td>[-1.58365988697655e-06]</td>\n",
              "    </tr>\n",
              "    <tr>\n",
              "      <th>...</th>\n",
              "      <td>...</td>\n",
              "      <td>...</td>\n",
              "    </tr>\n",
              "    <tr>\n",
              "      <th>75</th>\n",
              "      <td>dep_San Martín</td>\n",
              "      <td>[4.2825396627868534e-10]</td>\n",
              "    </tr>\n",
              "    <tr>\n",
              "      <th>76</th>\n",
              "      <td>dep_Tacna</td>\n",
              "      <td>[2.194953312219896e-10]</td>\n",
              "    </tr>\n",
              "    <tr>\n",
              "      <th>77</th>\n",
              "      <td>dep_Tumbes</td>\n",
              "      <td>[5.635394373523824e-10]</td>\n",
              "    </tr>\n",
              "    <tr>\n",
              "      <th>78</th>\n",
              "      <td>dep_Ucayali</td>\n",
              "      <td>[4.890076393073202e-10]</td>\n",
              "    </tr>\n",
              "    <tr>\n",
              "      <th>79</th>\n",
              "      <td>dep_Áncash</td>\n",
              "      <td>[1.2027921717317151e-09]</td>\n",
              "    </tr>\n",
              "  </tbody>\n",
              "</table>\n",
              "<p>80 rows × 2 columns</p>\n",
              "</div>"
            ],
            "text/plain": [
              "                 0                          1\n",
              "0            Saldo   [1.3442154184725379e-06]\n",
              "1   Desembolso_mes    [3.553576455911833e-06]\n",
              "2   Saldo_Promedio  [-1.6079815634761687e-06]\n",
              "3    Deuda_Sistema   [1.2250711420368337e-06]\n",
              "4           Pasivo    [-1.58365988697655e-06]\n",
              "..             ...                        ...\n",
              "75  dep_San Martín   [4.2825396627868534e-10]\n",
              "76       dep_Tacna    [2.194953312219896e-10]\n",
              "77      dep_Tumbes    [5.635394373523824e-10]\n",
              "78     dep_Ucayali    [4.890076393073202e-10]\n",
              "79      dep_Áncash   [1.2027921717317151e-09]\n",
              "\n",
              "[80 rows x 2 columns]"
            ]
          },
          "metadata": {
            "tags": []
          },
          "execution_count": 336
        }
      ]
    },
    {
      "cell_type": "markdown",
      "metadata": {
        "id": "rj_xOlDCcG-g",
        "colab_type": "text"
      },
      "source": [
        "<a id=\"validacion\"></a>\n",
        "##### 5.2. Validación del modelo logístico"
      ]
    },
    {
      "cell_type": "markdown",
      "metadata": {
        "id": "K0LRyQt8cY2D",
        "colab_type": "text"
      },
      "source": [
        "A continuacion mostramos la vadicacion del modelo"
      ]
    },
    {
      "cell_type": "code",
      "metadata": {
        "id": "NjDVjsOacMWQ",
        "colab_type": "code",
        "colab": {}
      },
      "source": [
        "def Gini(y_true,y_pred,signo='+'):\n",
        "    from sklearn.metrics import roc_auc_score\n",
        "    return 2*roc_auc_score(y_true, y_pred)-1"
      ],
      "execution_count": null,
      "outputs": []
    },
    {
      "cell_type": "code",
      "metadata": {
        "id": "nwApUgswcOrR",
        "colab_type": "code",
        "colab": {}
      },
      "source": [
        "probs = logit_model.predict_proba(X)[:,1:]\n",
        "m=pd.DataFrame(probs,columns = ['Probs'])"
      ],
      "execution_count": null,
      "outputs": []
    },
    {
      "cell_type": "code",
      "metadata": {
        "id": "9yFBBa0mcS8-",
        "colab_type": "code",
        "colab": {}
      },
      "source": [
        "Y2=Y.reset_index()\n",
        "Y2['Probs']=m"
      ],
      "execution_count": null,
      "outputs": []
    },
    {
      "cell_type": "code",
      "metadata": {
        "id": "Sd4WCq9kcUyg",
        "colab_type": "code",
        "colab": {
          "base_uri": "https://localhost:8080/",
          "height": 34
        },
        "outputId": "7708ff46-08be-4882-dab4-bfdb2ef9457f"
      },
      "source": [
        "print(\"El indice de Gini es:\",1*Gini(Y2[\"Impactado\"],Y2[\"Probs\"]))"
      ],
      "execution_count": null,
      "outputs": [
        {
          "output_type": "stream",
          "text": [
            "El indice de Gini es: 0.29858887916945975\n"
          ],
          "name": "stdout"
        }
      ]
    },
    {
      "cell_type": "code",
      "metadata": {
        "id": "qyvD1lrkcu4K",
        "colab_type": "code",
        "colab": {}
      },
      "source": [
        "threshold = 0.5\n",
        "Y2[\"prediction\"]=np.where(probs>threshold, 1, 0)"
      ],
      "execution_count": null,
      "outputs": []
    },
    {
      "cell_type": "code",
      "metadata": {
        "id": "SLDbdCxGc0Xq",
        "colab_type": "code",
        "colab": {
          "base_uri": "https://localhost:8080/",
          "height": 136
        },
        "outputId": "b00993b8-0978-4448-ce31-5bcc797bd16e"
      },
      "source": [
        "confusion_matrix = pd.crosstab(Y2.prediction, Y2.Impactado)\n",
        "confusion_matrix"
      ],
      "execution_count": null,
      "outputs": [
        {
          "output_type": "execute_result",
          "data": {
            "text/html": [
              "<div>\n",
              "<style scoped>\n",
              "    .dataframe tbody tr th:only-of-type {\n",
              "        vertical-align: middle;\n",
              "    }\n",
              "\n",
              "    .dataframe tbody tr th {\n",
              "        vertical-align: top;\n",
              "    }\n",
              "\n",
              "    .dataframe thead th {\n",
              "        text-align: right;\n",
              "    }\n",
              "</style>\n",
              "<table border=\"1\" class=\"dataframe\">\n",
              "  <thead>\n",
              "    <tr style=\"text-align: right;\">\n",
              "      <th>Impactado</th>\n",
              "      <th>0</th>\n",
              "      <th>1</th>\n",
              "    </tr>\n",
              "    <tr>\n",
              "      <th>prediction</th>\n",
              "      <th></th>\n",
              "      <th></th>\n",
              "    </tr>\n",
              "  </thead>\n",
              "  <tbody>\n",
              "    <tr>\n",
              "      <th>0</th>\n",
              "      <td>573</td>\n",
              "      <td>346</td>\n",
              "    </tr>\n",
              "    <tr>\n",
              "      <th>1</th>\n",
              "      <td>426</td>\n",
              "      <td>653</td>\n",
              "    </tr>\n",
              "  </tbody>\n",
              "</table>\n",
              "</div>"
            ],
            "text/plain": [
              "Impactado     0    1\n",
              "prediction          \n",
              "0           573  346\n",
              "1           426  653"
            ]
          },
          "metadata": {
            "tags": []
          },
          "execution_count": 342
        }
      ]
    },
    {
      "cell_type": "markdown",
      "metadata": {
        "id": "S4mKlQOzdEM9",
        "colab_type": "text"
      },
      "source": [
        "Asi la accuracy de validacion"
      ]
    },
    {
      "cell_type": "code",
      "metadata": {
        "id": "-KiQ-LOOcyeN",
        "colab_type": "code",
        "colab": {
          "base_uri": "https://localhost:8080/",
          "height": 34
        },
        "outputId": "59650e29-6f88-4247-daa4-b55e1177fe7d"
      },
      "source": [
        "TN=confusion_matrix[0][0]\n",
        "TP=confusion_matrix[1][1]\n",
        "FN=confusion_matrix[0][1]\n",
        "FP=confusion_matrix[1][0]\n",
        "accuracy_val=(TP+TN)/(TN+TP+FN+FP)\n",
        "print(\"El accuracy de validacion\",accuracy_val)"
      ],
      "execution_count": null,
      "outputs": [
        {
          "output_type": "stream",
          "text": [
            "El accuracy de validacion 0.6136136136136137\n"
          ],
          "name": "stdout"
        }
      ]
    },
    {
      "cell_type": "markdown",
      "metadata": {
        "id": "mYVMIt_ijoua",
        "colab_type": "text"
      },
      "source": [
        "Sensibilidad"
      ]
    },
    {
      "cell_type": "code",
      "metadata": {
        "id": "6GiPqms77OQ-",
        "colab_type": "code",
        "colab": {
          "base_uri": "https://localhost:8080/",
          "height": 34
        },
        "outputId": "8c04786c-00ea-4e87-ba9c-3e86d642604f"
      },
      "source": [
        "sens = TP/(TP+FN)\n",
        "sens"
      ],
      "execution_count": null,
      "outputs": [
        {
          "output_type": "execute_result",
          "data": {
            "text/plain": [
              "0.6051899907321594"
            ]
          },
          "metadata": {
            "tags": []
          },
          "execution_count": 344
        }
      ]
    },
    {
      "cell_type": "markdown",
      "metadata": {
        "id": "GWsjs03qeeVC",
        "colab_type": "text"
      },
      "source": [
        "Especificidad"
      ]
    },
    {
      "cell_type": "code",
      "metadata": {
        "id": "9KVl-Ouy7aul",
        "colab_type": "code",
        "colab": {
          "base_uri": "https://localhost:8080/",
          "height": 34
        },
        "outputId": "ccc2ca45-ae12-4c9b-b097-2c71c2fecb2c"
      },
      "source": [
        "espc_1 = 1-TN/(TN+FP)\n",
        "espc_1"
      ],
      "execution_count": null,
      "outputs": [
        {
          "output_type": "execute_result",
          "data": {
            "text/plain": [
              "0.37649619151251357"
            ]
          },
          "metadata": {
            "tags": []
          },
          "execution_count": 345
        }
      ]
    },
    {
      "cell_type": "markdown",
      "metadata": {
        "id": "CKBUObE_dopl",
        "colab_type": "text"
      },
      "source": [
        "<a id=\"cruzada\"></a>\n",
        "##### 5.3. Validación cruzada - k fold cross validation"
      ]
    },
    {
      "cell_type": "markdown",
      "metadata": {
        "id": "k1xAyqxDQcR8",
        "colab_type": "text"
      },
      "source": [
        "Separando Train y Test"
      ]
    },
    {
      "cell_type": "code",
      "metadata": {
        "id": "fHpt7kvE46DJ",
        "colab_type": "code",
        "colab": {}
      },
      "source": [
        "from sklearn.model_selection import train_test_split\n",
        "Xtrain,Xtest,ytrain,ytest=train_test_split(X,Y,test_size=0.2,\n",
        "                                           random_state=8)"
      ],
      "execution_count": null,
      "outputs": []
    },
    {
      "cell_type": "markdown",
      "metadata": {
        "id": "RJJKzEvXeL7C",
        "colab_type": "text"
      },
      "source": [
        "Entranamos el modelo"
      ]
    },
    {
      "cell_type": "code",
      "metadata": {
        "id": "fgQq1wUSeJrn",
        "colab_type": "code",
        "colab": {
          "base_uri": "https://localhost:8080/",
          "height": 101
        },
        "outputId": "8c387093-69bd-474f-cc89-000c3c80491f"
      },
      "source": [
        "logit_model.fit(Xtrain,ytrain)"
      ],
      "execution_count": null,
      "outputs": [
        {
          "output_type": "execute_result",
          "data": {
            "text/plain": [
              "LogisticRegression(C=1.0, class_weight=None, dual=False, fit_intercept=True,\n",
              "                   intercept_scaling=1, l1_ratio=None, max_iter=100,\n",
              "                   multi_class='auto', n_jobs=None, penalty='l2',\n",
              "                   random_state=None, solver='lbfgs', tol=0.0001, verbose=0,\n",
              "                   warm_start=False)"
            ]
          },
          "metadata": {
            "tags": []
          },
          "execution_count": 347
        }
      ]
    },
    {
      "cell_type": "markdown",
      "metadata": {
        "id": "STZvLzK4eS8M",
        "colab_type": "text"
      },
      "source": [
        "Donde la exactitud para datos entrenados será:"
      ]
    },
    {
      "cell_type": "code",
      "metadata": {
        "id": "Cm6vfwGoeR0W",
        "colab_type": "code",
        "colab": {
          "base_uri": "https://localhost:8080/",
          "height": 34
        },
        "outputId": "bc469c78-edd3-4d7b-f257-cde12cdaab65"
      },
      "source": [
        "print(\"El accuracy para datos entrenados:\",logit_model.score(Xtrain,ytrain))"
      ],
      "execution_count": null,
      "outputs": [
        {
          "output_type": "stream",
          "text": [
            "El accuracy para datos entrenados: 0.6026282853566959\n"
          ],
          "name": "stdout"
        }
      ]
    },
    {
      "cell_type": "markdown",
      "metadata": {
        "id": "WEifg-4meh8B",
        "colab_type": "text"
      },
      "source": [
        "Donde la exactitud para datos de prueba será:"
      ]
    },
    {
      "cell_type": "code",
      "metadata": {
        "id": "wKteZX8neib2",
        "colab_type": "code",
        "colab": {
          "base_uri": "https://localhost:8080/",
          "height": 34
        },
        "outputId": "17c8ffcb-3fe5-46ac-c460-68b804a775b0"
      },
      "source": [
        "print(\"El accuracy para datos de prueba:\",logit_model.score(Xtest,ytest))"
      ],
      "execution_count": null,
      "outputs": [
        {
          "output_type": "stream",
          "text": [
            "El accuracy para datos de prueba: 0.6375\n"
          ],
          "name": "stdout"
        }
      ]
    },
    {
      "cell_type": "markdown",
      "metadata": {
        "id": "gg13G0J5e2W7",
        "colab_type": "text"
      },
      "source": [
        "El indice de gini para el entrenamiento sera:"
      ]
    },
    {
      "cell_type": "code",
      "metadata": {
        "id": "q2_D8uOrewnq",
        "colab_type": "code",
        "colab": {
          "base_uri": "https://localhost:8080/",
          "height": 34
        },
        "outputId": "cdb4d83d-0fcb-4b9c-c69d-c8baedfd0084"
      },
      "source": [
        "probs = logit_model.predict_proba(Xtrain)[:,1:]\n",
        "\n",
        "m=pd.DataFrame(probs,columns = ['Probs'])\n",
        "\n",
        "Y2=ytrain.reset_index()\n",
        "Y2['Probs']=m\n",
        "\n",
        "print(\"Indice de gini para el entrenamiento es igual a:\",1*Gini(Y2[\"Impactado\"],Y2[\"Probs\"]))"
      ],
      "execution_count": null,
      "outputs": [
        {
          "output_type": "stream",
          "text": [
            "Indice de gini para el entrenamiento es igual a: 0.28880001754451934\n"
          ],
          "name": "stdout"
        }
      ]
    },
    {
      "cell_type": "markdown",
      "metadata": {
        "id": "bYVipWcafEnD",
        "colab_type": "text"
      },
      "source": [
        "El indice de gini para la prueba sera:"
      ]
    },
    {
      "cell_type": "code",
      "metadata": {
        "id": "5oNvH7U3e_1b",
        "colab_type": "code",
        "colab": {
          "base_uri": "https://localhost:8080/",
          "height": 34
        },
        "outputId": "c0d25c9a-f78e-4143-e97f-67200711152d"
      },
      "source": [
        "probs = logit_model.predict_proba(Xtest)[:,1:]\n",
        "\n",
        "m=pd.DataFrame(probs,columns = ['Probs'])\n",
        "\n",
        "Y2=ytest.reset_index()\n",
        "Y2['Probs']=m\n",
        "\n",
        "print(\"Indice de gini para la prueba es igual a:\",1*Gini(Y2[\"Impactado\"],Y2[\"Probs\"]))"
      ],
      "execution_count": null,
      "outputs": [
        {
          "output_type": "stream",
          "text": [
            "Indice de gini para la prueba es igual a: 0.3497686053783615\n"
          ],
          "name": "stdout"
        }
      ]
    },
    {
      "cell_type": "markdown",
      "metadata": {
        "id": "s76qH2zFflLL",
        "colab_type": "text"
      },
      "source": [
        "Validacion cruzada en entranmiento (gini)"
      ]
    },
    {
      "cell_type": "code",
      "metadata": {
        "id": "_D5Sk7DyfoGe",
        "colab_type": "code",
        "colab": {
          "base_uri": "https://localhost:8080/",
          "height": 168
        },
        "outputId": "39a2baec-2c6a-4d65-a842-e2e1c9c6737d"
      },
      "source": [
        "from sklearn.model_selection import cross_val_score\n",
        "cv_train_gini=cross_val_score(logit_model,Xtrain,ytrain,\n",
        "                              cv=10,scoring='accuracy')\n",
        "print(\"Validacion cruzada en entranmiento:\",np.mean(cv_train_gini))"
      ],
      "execution_count": null,
      "outputs": [
        {
          "output_type": "stream",
          "text": [
            "/usr/local/lib/python3.6/dist-packages/sklearn/linear_model/_logistic.py:940: ConvergenceWarning: lbfgs failed to converge (status=1):\n",
            "STOP: TOTAL NO. of ITERATIONS REACHED LIMIT.\n",
            "\n",
            "Increase the number of iterations (max_iter) or scale the data as shown in:\n",
            "    https://scikit-learn.org/stable/modules/preprocessing.html\n",
            "Please also refer to the documentation for alternative solver options:\n",
            "    https://scikit-learn.org/stable/modules/linear_model.html#logistic-regression\n",
            "  extra_warning_msg=_LOGISTIC_SOLVER_CONVERGENCE_MSG)\n"
          ],
          "name": "stderr"
        },
        {
          "output_type": "stream",
          "text": [
            "Validacion cruzada en entranmiento: 0.5951179245283019\n"
          ],
          "name": "stdout"
        }
      ]
    },
    {
      "cell_type": "markdown",
      "metadata": {
        "id": "XwzKPBHsfytp",
        "colab_type": "text"
      },
      "source": [
        "Validacion cruzada en prueba (gini)"
      ]
    },
    {
      "cell_type": "code",
      "metadata": {
        "id": "sYiQpzWVfwzW",
        "colab_type": "code",
        "colab": {
          "base_uri": "https://localhost:8080/",
          "height": 34
        },
        "outputId": "3789e648-287d-4a96-9cf7-dc3f7157db1d"
      },
      "source": [
        "cv_test_gini=cross_val_score(logit_model,Xtest,ytest,\n",
        "                             cv=10,scoring='accuracy')\n",
        "print(\"Validacion cruzada en prueba:\",np.mean(cv_test_gini))"
      ],
      "execution_count": null,
      "outputs": [
        {
          "output_type": "stream",
          "text": [
            "Validacion cruzada en prueba: 0.6275\n"
          ],
          "name": "stdout"
        }
      ]
    },
    {
      "cell_type": "markdown",
      "metadata": {
        "id": "FkCCm-ipeyyu",
        "colab_type": "text"
      },
      "source": [
        "<a id='roc'></a>\n",
        "##### 5.4. Curva de características operativas del receptor (ROC)"
      ]
    },
    {
      "cell_type": "markdown",
      "metadata": {
        "id": "Dx4VFGuSVQfy",
        "colab_type": "text"
      },
      "source": [
        "Este resultado viene a ser igual al que nos dio la funcion de regresion."
      ]
    },
    {
      "cell_type": "code",
      "metadata": {
        "id": "XVvDpbR96QyO",
        "colab_type": "code",
        "colab": {
          "base_uri": "https://localhost:8080/",
          "height": 355
        },
        "outputId": "8d878f48-49fc-4c6a-f012-c592407b5023"
      },
      "source": [
        "from plot_metric.functions import BinaryClassification\n",
        "# Visualisation with plot_metric\n",
        "bc = BinaryClassification(Y2[\"Impactado\"], Y2[\"Probs\"], labels=[\"Class 1\", \"Class 2\"])\n",
        "\n",
        "# Figures\n",
        "plt.figure(figsize=(5,5))\n",
        "bc.plot_roc_curve()\n",
        "plt.show()"
      ],
      "execution_count": null,
      "outputs": [
        {
          "output_type": "display_data",
          "data": {
            "image/png": "[encoded data removed]",
            "text/plain": [
              "<Figure size 360x360 with 1 Axes>"
            ]
          },
          "metadata": {
            "tags": []
          }
        }
      ]
    },
    {
      "cell_type": "markdown",
      "metadata": {
        "id": "AtJGgNpBzbs-",
        "colab_type": "text"
      },
      "source": [
        "Este ultimo resultado, de ROC puede ser considerado aceptable puesto que es coherente con lo esperado."
      ]
    },
    {
      "cell_type": "markdown",
      "metadata": {
        "id": "65dztBq-fHFd",
        "colab_type": "text"
      },
      "source": [
        "<a id='ML'></a>\n",
        "#### 6. Pruebas con otros modelos"
      ]
    },
    {
      "cell_type": "markdown",
      "metadata": {
        "id": "IjWc6ZElrTbz",
        "colab_type": "text"
      },
      "source": [
        "Máquinas de vectores de soporte"
      ]
    },
    {
      "cell_type": "code",
      "metadata": {
        "id": "cofUFcc6p731",
        "colab_type": "code",
        "colab": {}
      },
      "source": [
        "from sklearn.svm import SVC\n",
        "from sklearn.neighbors import KNeighborsClassifier\n",
        "from sklearn.tree import DecisionTreeClassifier"
      ],
      "execution_count": null,
      "outputs": []
    },
    {
      "cell_type": "markdown",
      "metadata": {
        "id": "4VYPAB3OvRBK",
        "colab_type": "text"
      },
      "source": [
        "Maquina de Vectores de Soporte\n"
      ]
    },
    {
      "cell_type": "code",
      "metadata": {
        "id": "WNJNgK2XrH2a",
        "colab_type": "code",
        "colab": {
          "base_uri": "https://localhost:8080/",
          "height": 34
        },
        "outputId": "ca13f73a-e668-4474-8613-8a59bbc9bb6f"
      },
      "source": [
        "svc_model = SVC()\n",
        "svc_model.fit(Xtrain,ytrain)\n",
        "Y_pred=svc_model.predict(Xtest)\n",
        "print('Accuracy Maquina de Vectores de Soporte: {}'.format(svc_model.score(Xtrain,ytrain)))"
      ],
      "execution_count": null,
      "outputs": [
        {
          "output_type": "stream",
          "text": [
            "Accuracy Maquina de Vectores de Soporte: 0.6038798498122653\n"
          ],
          "name": "stdout"
        }
      ]
    },
    {
      "cell_type": "markdown",
      "metadata": {
        "id": "1UZ2dDL4uJUk",
        "colab_type": "text"
      },
      "source": [
        "K vecinos mas cercanos"
      ]
    },
    {
      "cell_type": "code",
      "metadata": {
        "id": "-pieRVJ7uHtn",
        "colab_type": "code",
        "colab": {
          "base_uri": "https://localhost:8080/",
          "height": 34
        },
        "outputId": "4d92f9f9-58fc-47c7-be2d-b49ba730124b"
      },
      "source": [
        "kn_model = KNeighborsClassifier(n_neighbors=5)\n",
        "kn_model.fit(Xtrain,ytrain)\n",
        "Y_pred=kn_model.predict(Xtest)\n",
        "print('Accuracy Maquina de Vectores de Soporte: {}'.format(kn_model.score(Xtrain,ytrain)))"
      ],
      "execution_count": null,
      "outputs": [
        {
          "output_type": "stream",
          "text": [
            "Accuracy Maquina de Vectores de Soporte: 0.7083854818523154\n"
          ],
          "name": "stdout"
        }
      ]
    },
    {
      "cell_type": "markdown",
      "metadata": {
        "id": "m909z7fOurR6",
        "colab_type": "text"
      },
      "source": [
        "Arboles de decision"
      ]
    },
    {
      "cell_type": "code",
      "metadata": {
        "id": "_ln_OrP-unjY",
        "colab_type": "code",
        "colab": {
          "base_uri": "https://localhost:8080/",
          "height": 34
        },
        "outputId": "d49f161a-34ff-4905-b2a8-e88a20f0e61f"
      },
      "source": [
        "td_model = DecisionTreeClassifier()\n",
        "td_model.fit(Xtrain,ytrain)\n",
        "Y_pred=td_model.predict(Xtest)\n",
        "print('Accuracy Arboles de Decision: {}'.format(td_model.score(Xtrain,ytrain)))"
      ],
      "execution_count": null,
      "outputs": [
        {
          "output_type": "stream",
          "text": [
            "Accuracy Arboles de Decision: 0.9762202753441802\n"
          ],
          "name": "stdout"
        }
      ]
    },
    {
      "cell_type": "markdown",
      "metadata": {
        "id": "3KFiqV0EvLcC",
        "colab_type": "text"
      },
      "source": [
        "Como se puede apreciar de los resultado, la exactitud o accuracy de Maquina de soporte de vectores y K vecinos más cercanos son similares a la de Regresion Logistica y por otro lado el algoritmo de Arboles de decicion es mayor a los 3 lo que podria indicar un sobreajuste."
      ]
    },
    {
      "cell_type": "markdown",
      "metadata": {
        "id": "__p-nF_XT32K",
        "colab_type": "text"
      },
      "source": [
        "<a id='conclusion'></a>\n",
        "#### 7. Conclusion"
      ]
    },
    {
      "cell_type": "markdown",
      "metadata": {
        "id": "T_nDIHm4Tz5U",
        "colab_type": "text"
      },
      "source": [
        "Al principio, interrogamos a fondo los datos para obtener información sobre que características podrían descartarse y cuáles podrían diseñarse de manera valiosa. Elegimos una métrica apropiada y utilizamos un algoritmo ML basado en regresion logistica que funciona mejor predicciones o resultados binarios Además, se realizó la validación a traves de \"Validación Cruzada\" y agregando un plus de comparación con otros algoritmos frecuentemente utilizados. En general, el método utilizado en este núcleo debería ser ampliamente aplicable a una variedad de tales problemas.\n"
      ]
    },
    {
      "cell_type": "markdown",
      "metadata": {
        "id": "AaMvrswsT9EC",
        "colab_type": "text"
      },
      "source": [
        "<a href='#top'>volver arriba</a>"
      ]
    },
    {
      "cell_type": "markdown",
      "metadata": {
        "id": "ZzYVXVxBgCV5",
        "colab_type": "text"
      },
      "source": [
        "<a id=\"referencias\"></a>\n",
        "#### 8. REFERENCIAS"
      ]
    },
    {
      "cell_type": "markdown",
      "metadata": {
        "id": "PzoYOqDgfzvV",
        "colab_type": "text"
      },
      "source": [
        "<a href='https://www.ipe.org.pe/portal/wp-content/uploads/2020/05/INFORME-IPE-7.pdf'>[1]</a>   Informe IPE, Impacto del COVID-19 en la economía peruana, 7° Edición - Mayo 2020.\n",
        "\n"
      ]
    }
  ]
}